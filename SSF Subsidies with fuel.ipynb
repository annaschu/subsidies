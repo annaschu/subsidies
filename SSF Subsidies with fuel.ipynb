{
 "cells": [
  {
   "cell_type": "code",
   "execution_count": 357,
   "metadata": {
    "collapsed": false
   },
   "outputs": [
    {
     "data": {
      "text/plain": [
       "u'0.17.0'"
      ]
     },
     "execution_count": 357,
     "metadata": {},
     "output_type": "execute_result"
    }
   ],
   "source": [
    "%matplotlib inline\n",
    "\n",
    "import pandas as pd\n",
    "\n",
    "import matplotlib.pyplot as plt\n",
    "\n",
    "import numpy as np\n",
    "\n",
    "plt.style.use('ggplot')\n",
    "\n",
    "pd.__version__"
   ]
  },
  {
   "cell_type": "code",
   "execution_count": 358,
   "metadata": {
    "collapsed": true
   },
   "outputs": [],
   "source": [
    "SSF_subsidies = pd.read_csv(\"SSF_subsidies.csv\")\n",
    "countries = pd.read_csv(\"Country_Data.csv\")\n",
    "catch = pd.read_csv(\"SAU_Catches.csv\")\n",
    "type_EEZ = pd.read_csv(\"Subtype_Fleet_EEZ.csv\")\n",
    "all_subsidies = pd.read_csv(\"Subsidies2009.csv\")"
   ]
  },
  {
   "cell_type": "code",
   "execution_count": 359,
   "metadata": {
    "collapsed": false
   },
   "outputs": [
    {
     "data": {
      "text/plain": [
       "array(['ID', 'Cnumber', 'RegionID', 'RegionName', 'Type', 'SubType',\n",
       "       'Category', 'total_subsidies', 'NewData', 'Developed', 'HDI_2005',\n",
       "       'Countries', 'SSFsubsidies_assessed_percent',\n",
       "       'weighted_by_sectorsize', 'Data_group',\n",
       "       'SSF_totalCatch_EEZ_percent', '%SSF_totalCatch_Country',\n",
       "       'SSF_USD_1000', 'Comment', 'DocSource', 'SourceVisitDate', 'Ref',\n",
       "       'URL', 'User', 'OldComment'], dtype=object)"
      ]
     },
     "execution_count": 359,
     "metadata": {},
     "output_type": "execute_result"
    }
   ],
   "source": [
    "SSF_subsidies.columns.values"
   ]
  },
  {
   "cell_type": "code",
   "execution_count": 360,
   "metadata": {
    "collapsed": false
   },
   "outputs": [],
   "source": [
    "\n",
    "\n",
    "SSF_subsidies['SSF_subsidies_percent'] = SSF_subsidies['SSF_USD_1000']/SSF_subsidies['total_subsidies']\n",
    "\n",
    "\n",
    "#  merge original all subsidies data with to align with subsidy \n",
    "#  type and whether the EEZ catch data or the FLeet catch data apply, \n",
    "#  see type_EEZ data, this is in preparation to later merge with SAU_catch data \n",
    "\n",
    "subsidies_type = pd.merge(\n",
    "    left=all_subsidies,\n",
    "    right=type_EEZ,\n",
    "    how='left'\n",
    ")\n",
    "\n",
    "\n",
    "#  now this needs to be merged with country data to have coordinates per country\n",
    "#  and have each country data point assigned to a subregion (thanks to Andres data)\n",
    "\n",
    "subsidies_type_countries = pd.merge(\n",
    "    left=subsidies_type,\n",
    "    right=countries,\n",
    "    how='left'\n",
    ")\n",
    "\n",
    "\n",
    "#  calculate SSF catch percent by dividing SSF catch / total catch\n",
    "\n",
    "catch['SSF_catch_percent']=catch['SSF_catch']/catch['total_catch']\n",
    "\n",
    "\n",
    "#  merge with SSF catch from SAU_catch data\n",
    "\n",
    "subsidies_type_countries_catch = pd.merge(\n",
    "    left=subsidies_type_countries,\n",
    "    right=catch, how='left'\n",
    ")\n",
    "\n",
    "#  calculating mean SSF catch per subregion, \n",
    "#  needed to use to fill gaps for SSF subsidies that have not been assessed\n",
    "\n",
    "catch_countries = pd.merge(\n",
    "    left=catch, \n",
    "    right=countries, \n",
    "    how='left'\n",
    ")\n",
    "\n"
   ]
  },
  {
   "cell_type": "code",
   "execution_count": 414,
   "metadata": {
    "collapsed": false
   },
   "outputs": [],
   "source": [
    "\n",
    "catch_by_subregion = catch_countries.groupby(['Subregion']).sum()\n",
    "catch_by_subregion['SSF_subregion_catch'] = (\n",
    "    catch_by_subregion['SSF_catch']/catch_by_subregion['total_catch']\n",
    ")\n",
    "\n",
    "catch_by_subregion = catch_by_subregion.reset_index()\n",
    "\n",
    "SSF_subregion_catch = catch_by_subregion.loc[:,['Subregion','SSF_subregion_catch']]\n",
    "\n",
    "\n",
    "\n",
    "#  merging mean catch with all subsidies data\n",
    "subsidies_type_countries_catch_meancatch = pd.merge(\n",
    "    left=subsidies_type_countries_catch,right=SSF_subregion_catch, how='left'\n",
    ") \n",
    "\n",
    "#  preparing SSF subsidies by merging with country data\n",
    "SSF_subsidies_countries = pd.merge(\n",
    "    left=SSF_subsidies,right=countries, how='left')\n",
    "\n",
    "#  from SSF subsidies assessed calculate mean per subregion and per type \n",
    "#  to fill gaps of countries that have not been assessed\n",
    "SSF_by_subregion = SSF_subsidies_countries.groupby(\n",
    "    ['Subregion','Type']).sum(\n",
    ")\n",
    "\n",
    "\n",
    "SSF_by_subregion['SSF_subsidies_subregion'] = (\n",
    "    SSF_by_subregion['SSF_USD_1000']/SSF_by_subregion['total_subsidies']\n",
    ")\n",
    "SSF_by_subregion = SSF_by_subregion.reset_index()\n",
    "SSF_subsidies_subregion = SSF_by_subregion.loc[:,['Subregion','Type','SSF_subsidies_subregion']]\n"
   ]
  },
  {
   "cell_type": "code",
   "execution_count": 416,
   "metadata": {
    "collapsed": false
   },
   "outputs": [
    {
     "name": "stdout",
     "output_type": "stream",
     "text": [
      "ssf all: True, total: 26849.2514743\n",
      "ssf all: 0.0, total: False\n"
     ]
    }
   ],
   "source": [
    "\n",
    "#  as not all subsidies types are covered by countries assessed, \n",
    "#  mean values for region are being calculated to replace the empty cells\n",
    "SSF_by_region = SSF_subsidies_countries.groupby(\n",
    "    ['RegionName','Type']).sum(\n",
    ")\n",
    "SSF_by_region['SSF_subsidies_region'] = (\n",
    "    SSF_by_region['SSF_USD_1000']/SSF_by_region['total_subsidies']\n",
    ")\n",
    "SSF_by_region = SSF_by_region.reset_index()\n",
    "SSF_subsidies_region = SSF_by_region.loc[\n",
    "    :,['RegionName','Type','SSF_subsidies_region']\n",
    "]\n",
    "\n",
    "#  merge mean subsidies by type and subregion to all subsidies data\n",
    "catch_subsidies_subregion = pd.merge(\n",
    "    left=subsidies_type_countries_catch_meancatch,right=SSF_subsidies_subregion, how='left'\n",
    ")\n",
    "\n",
    "\n",
    "#  merge mean subsidies by type and region to all subsidies data that now have included total subsidies per subregion\n",
    "catch_subsidies_subregion_region = pd.merge(\n",
    "    left=catch_subsidies_subregion,right=SSF_subsidies_region, how='left'\n",
    ")\n",
    "\n",
    "#  fill gaps from mean subsidies per subregion with mean subsidies per region and name new column ['subsidies_subregion_all']\n",
    "\n",
    "#  create new column and name ['SSF_subsidies_true] and state true for all values > 0 \n",
    "\n",
    "catch_subsidies_subregion_region['total_subsidies_true'] = np.where(\n",
    "    catch_subsidies_subregion_region['total_subsidies'] > 0, True, False\n",
    ")\n",
    "    \n",
    "def check_data(index=0):\n",
    "    df = catch_subsidies_subregion_region\n",
    "    print(\"ssf all: {}, total: {}\".format(df['total_subsidies_true'][index], df['total_subsidies'][index]))\n",
    "    \n",
    "check_data(1946)\n",
    "\n",
    "#  make a new column that states True for NaN in subsidies per subregion and name ['total_subregion_NaN']\n",
    "\n",
    "catch_subsidies_subregion_region['total_subregion_NaN'] = pd.isnull(catch_subsidies_subregion_region['SSF_subsidies_subregion'])\n",
    "\n",
    "\n",
    "def check_data(index=0):\n",
    "    print(\"ssf all: {}, total: {}\".format(catch_subsidies_subregion_region['SSF_subsidies_subregion'][index], catch_subsidies_subregion_region['total_subregion_NaN'][index]))\n",
    "    \n",
    "check_data(1946)"
   ]
  },
  {
   "cell_type": "code",
   "execution_count": 417,
   "metadata": {
    "collapsed": false
   },
   "outputs": [
    {
     "name": "stdout",
     "output_type": "stream",
     "text": [
      "ssf all: False, total: True, isNaN: False\n"
     ]
    }
   ],
   "source": [
    "#  create a new column that states True when ['total_subregion_NaN'] is True and ['SSF_subsidies_true] is True\n",
    "#  name new column ['total_subregion_all']\n",
    "#  this shows when True that there is a total subsidy for that category but no value from total subregion subsidy data and therefore we will replace with the total region value\n",
    "\n",
    "catch_subsidies_subregion_region['total_subregion_all'] = np.where((catch_subsidies_subregion_region['total_subsidies_true'] == True) & (catch_subsidies_subregion_region['total_subregion_NaN'] == True), True, False)\n",
    "\n",
    "\n",
    "def check_data(index=0):\n",
    "    print(\"ssf all: {0}, total: {1}, isNaN: {2}\".format(catch_subsidies_subregion_region['total_subregion_all'][index],catch_subsidies_subregion_region['total_subsidies_true'][index], catch_subsidies_subregion_region['total_subregion_NaN'][index]))\n",
    "\n",
    "check_data(1056)"
   ]
  },
  {
   "cell_type": "code",
   "execution_count": 370,
   "metadata": {
    "collapsed": false
   },
   "outputs": [
    {
     "name": "stdout",
     "output_type": "stream",
     "text": [
      "ssf all: 0.156401916407, total: True, isNaN: 0.156401916407\n"
     ]
    }
   ],
   "source": [
    "#  create new column and name ['subsidies_subregion_all'] to use value from subregion or from region\n",
    "#  when ['total_subregion_all'] is true us region data when false use subregion data\n",
    "\n",
    "\n",
    "#  catch_subsidies_subregion_region['subsidies_subregion_all'] = \n",
    "#  np.where(catch_subsidies_subregion_region['total_subregion_all'] == True, \n",
    "#  catch_subsidies_subregion_region['SSF_subsidies_region'], \n",
    "#  catch_subsidies_subregion_region['SSF_subsidies_subregion'])\n",
    "\n",
    "\n",
    "catch_subsidies_subregion_region['subsidies_subregion_all'] = np.where(catch_subsidies_subregion_region['total_subregion_all'] == True, catch_subsidies_subregion_region['SSF_subsidies_region'], catch_subsidies_subregion_region['SSF_subsidies_subregion'])\n",
    "\n",
    "catch_subsidies_subregion_region\n",
    "\n",
    "def check_data(index=0):\n",
    "    print(\"ssf all: {0}, total: {1}, isNaN: {2}\".format(catch_subsidies_subregion_region['subsidies_subregion_all'][index],catch_subsidies_subregion_region['total_subregion_all'][index], catch_subsidies_subregion_region['SSF_subsidies_region'][index]))\n",
    "\n",
    "check_data(1936)"
   ]
  },
  {
   "cell_type": "code",
   "execution_count": 371,
   "metadata": {
    "collapsed": false
   },
   "outputs": [
    {
     "data": {
      "text/plain": [
       "35371111.003231212"
      ]
     },
     "execution_count": 371,
     "metadata": {},
     "output_type": "execute_result"
    }
   ],
   "source": [
    "np.sum(catch_subsidies_subregion_region['total_subsidies'])"
   ]
  },
  {
   "cell_type": "code",
   "execution_count": 372,
   "metadata": {
    "collapsed": false
   },
   "outputs": [
    {
     "data": {
      "text/plain": [
       "array(['ID', 'Cnumber', 'RegionID', 'RegionName', 'Countries', 'Type',\n",
       "       'SubType', 'Category', 'total_subsidies', 'NewData', 'Developed',\n",
       "       'HDI_2005', 'EEZ', 'CID', 'Subregion', 'CLon', 'CLat', 'SIDS',\n",
       "       'TotPop', 'HDI', 'Develop', 'GDP', 'Region', 'Recreational',\n",
       "       'Subsistence', 'Artisanal', 'Industrial', 'total_catch',\n",
       "       'SSF_catch', 'SSF_catch_percent', 'SSF_subregion_catch',\n",
       "       'SSF_subsidies_subregion', 'SSF_subsidies_region',\n",
       "       'total_subsidies_true', 'total_subregion_NaN',\n",
       "       'total_subregion_all', 'subsidies_subregion_all'], dtype=object)"
      ]
     },
     "execution_count": 372,
     "metadata": {},
     "output_type": "execute_result"
    }
   ],
   "source": [
    "catch_subsidies_subregion_region.columns.values"
   ]
  },
  {
   "cell_type": "code",
   "execution_count": 373,
   "metadata": {
    "collapsed": false
   },
   "outputs": [],
   "source": [
    "subsidies1 = catch_subsidies_subregion_region.loc[:,['RegionName','Subregion','Countries','CLon', 'CLat','SIDS',\n",
    "       'TotPop', 'HDI', 'Develop', 'GDP','Category','SubType','Type','EEZ', 'total_subsidies','SSF_catch_percent','SSF_subregion_catch','subsidies_subregion_all']]"
   ]
  },
  {
   "cell_type": "code",
   "execution_count": 404,
   "metadata": {
    "collapsed": false
   },
   "outputs": [],
   "source": [
    "#  create a new column 'Factor' and calculate as adjustment value for total subsidies per subregion and total SSF catch per subregion \n",
    "#  used to fill gaps for country that have not been assessed, this is done per subsidy subtype also\n",
    "\n",
    "subsidies1['Factor'] = subsidies1['SSF_catch_percent']/subsidies1['SSF_subregion_catch']\n",
    "\n",
    "#  multiply the \"Factor\" value with the mean subsidy value per subregion\n",
    "#  to estimate the value for SSF subsidies per subsidy type for the countries that have not been assessed\n",
    "subsidies1['SSF_subsidies_estimates'] = subsidies1['Factor']*subsidies1['subsidies_subregion_all']\n",
    "\n",
    "subsidies1['SSF_subsidies_estimates_big'] = subsidies1['SSF_subsidies_estimates'] > 1"
   ]
  },
  {
   "cell_type": "code",
   "execution_count": 412,
   "metadata": {
    "collapsed": false
   },
   "outputs": [
    {
     "name": "stdout",
     "output_type": "stream",
     "text": [
      "ssf_estimates: 2.16491964156, ssf_big: True, SSF_corrected: 1.0\n"
     ]
    }
   ],
   "source": [
    "\n",
    "#  to make sure none of the estimated values exceed 1 (100%) the SSF_subsidies_estimate will be capped at 1\n",
    "\n",
    "subsidies1['SSF_estimates_corrected'] = np.where(subsidies1['SSF_subsidies_estimates_big'] == True, 1, subsidies1['SSF_subsidies_estimates'])\n",
    "\n",
    "def check_data(index=0):\n",
    "    print(\"ssf_estimates: {0}, ssf_big: {1}, SSF_corrected: {2}\".format(subsidies1['SSF_subsidies_estimates'][index],subsidies1['SSF_subsidies_estimates_big'][index], subsidies1['SSF_estimates_corrected'][index]))\n",
    "\n",
    "check_data(1436)\n",
    "\n"
   ]
  },
  {
   "cell_type": "code",
   "execution_count": 375,
   "metadata": {
    "collapsed": true
   },
   "outputs": [],
   "source": [
    "SSF_subsidies_short = SSF_subsidies_countries.loc[:,['Countries','Type','SSFsubsidies_assessed_percent','weighted_by_sectorsize', 'Data_group','SSF_USD_1000','SSF_subsidies_percent']]"
   ]
  },
  {
   "cell_type": "code",
   "execution_count": 413,
   "metadata": {
    "collapsed": false
   },
   "outputs": [
    {
     "data": {
      "text/plain": [
       "5448078.1215953389"
      ]
     },
     "execution_count": 413,
     "metadata": {},
     "output_type": "execute_result"
    }
   ],
   "source": [
    "\n",
    "#  merge estimated values for subsidies with SSF assessed subsidies data\n",
    "SSF_subsidies_estimates_assessed = pd.merge(\n",
    "    left=subsidies1,right=SSF_subsidies_short,how='left'\n",
    ")\n",
    "\n",
    "#  use fillna function to use estimated values for SSF subsidies to fill gaps of countries that have not been assessed\n",
    "SSF_subsidies_estimates_assessed['SSF_subsidies_percent_all'] = SSF_subsidies_estimates_assessed[\n",
    "    'SSF_subsidies_percent'].fillna(\n",
    "    SSF_subsidies_estimates_assessed['SSF_estimates_corrected']\n",
    ")\n",
    "\n",
    "#  calculate USD values for all SSF for all subtypes and countries form the estimated and assessed percentages\n",
    "SSF_subsidies_estimates_assessed['SSF_subsidies_USD'] = (\n",
    "    SSF_subsidies_estimates_assessed['total_subsidies']\n",
    ")*SSF_subsidies_estimates_assessed['SSF_subsidies_percent_all']\n",
    "\n",
    "np.sum(SSF_subsidies_estimates_assessed['SSF_subsidies_USD'])\n"
   ]
  },
  {
   "cell_type": "code",
   "execution_count": 376,
   "metadata": {
    "collapsed": false
   },
   "outputs": [
    {
     "data": {
      "text/plain": [
       "5476747.0794139076"
      ]
     },
     "execution_count": 376,
     "metadata": {},
     "output_type": "execute_result"
    }
   ],
   "source": [
    "\n",
    "#  merge estimated values for subsidies with SSF assessed subsidies data\n",
    "SSF_subsidies_estimates_assessed = pd.merge(\n",
    "    left=subsidies1,right=SSF_subsidies_short,how='left'\n",
    ")\n",
    "\n",
    "#  use fillna function to use estimated values for SSF subsidies to fill gaps of countries that have not been assessed\n",
    "SSF_subsidies_estimates_assessed['SSF_subsidies_percent_all'] = SSF_subsidies_estimates_assessed[\n",
    "    'SSF_subsidies_percent'].fillna(\n",
    "    SSF_subsidies_estimates_assessed['SSF_subsidies_estimates']\n",
    ")\n",
    "\n",
    "#  calculate USD values for all SSF for all subtypes and countries form the estimated and assessed percentages\n",
    "SSF_subsidies_estimates_assessed['SSF_subsidies_USD'] = (\n",
    "    SSF_subsidies_estimates_assessed['total_subsidies']\n",
    ")*SSF_subsidies_estimates_assessed['SSF_subsidies_percent_all']\n",
    "\n",
    "np.sum(SSF_subsidies_estimates_assessed['SSF_subsidies_USD'])\n"
   ]
  },
  {
   "cell_type": "code",
   "execution_count": 377,
   "metadata": {
    "collapsed": true
   },
   "outputs": [],
   "source": [
    "SSF_subsidies_estimates_assessed.to_csv('SSF_subsidies_estimates_assessed.csv')"
   ]
  },
  {
   "cell_type": "code",
   "execution_count": 382,
   "metadata": {
    "collapsed": true
   },
   "outputs": [],
   "source": [
    "Subsidies_per_Category = SSF_subsidies_estimates_assessed.groupby(['Category']).sum()"
   ]
  },
  {
   "cell_type": "code",
   "execution_count": 386,
   "metadata": {
    "collapsed": false
   },
   "outputs": [
    {
     "data": {
      "text/plain": [
       "Category\n",
       "Ambiguous             15.045326\n",
       "Beneficial            24.360705\n",
       "Capacity-enhancing    10.686369\n",
       "Name: percent SSF Category, dtype: float64"
      ]
     },
     "execution_count": 386,
     "metadata": {},
     "output_type": "execute_result"
    }
   ],
   "source": [
    "Subsidies_per_Category['percent SSF Category'] = Subsidies_per_Category['SSF_subsidies_USD']/Subsidies_per_Category['total_subsidies']*100\n",
    "Subsidies_per_Category['percent SSF Category']"
   ]
  },
  {
   "cell_type": "code",
   "execution_count": 387,
   "metadata": {
    "collapsed": false
   },
   "outputs": [
    {
     "ename": "KeyError",
     "evalue": "\"['LSF subsidies' 'SSF subsidies'] not in index\"",
     "output_type": "error",
     "traceback": [
      "\u001b[1;31m---------------------------------------------------------------------------\u001b[0m",
      "\u001b[1;31mKeyError\u001b[0m                                  Traceback (most recent call last)",
      "\u001b[1;32m<ipython-input-387-d832fd0d6b45>\u001b[0m in \u001b[0;36m<module>\u001b[1;34m()\u001b[0m\n\u001b[1;32m----> 1\u001b[1;33m \u001b[0mdata\u001b[0m \u001b[1;33m=\u001b[0m \u001b[0mSubsidies_per_Category\u001b[0m\u001b[1;33m[\u001b[0m\u001b[1;33m[\u001b[0m\u001b[1;34m'LSF subsidies'\u001b[0m\u001b[1;33m,\u001b[0m\u001b[1;34m'SSF subsidies'\u001b[0m\u001b[1;33m]\u001b[0m\u001b[1;33m]\u001b[0m\u001b[1;33m\u001b[0m\u001b[0m\n\u001b[0m\u001b[0;32m      2\u001b[0m \u001b[0mdata_dict\u001b[0m \u001b[1;33m=\u001b[0m \u001b[0mdata\u001b[0m\u001b[1;33m.\u001b[0m\u001b[0mto_dict\u001b[0m\u001b[1;33m(\u001b[0m\u001b[1;33m)\u001b[0m\u001b[1;33m\u001b[0m\u001b[0m\n\u001b[0;32m      3\u001b[0m \u001b[1;33m\u001b[0m\u001b[0m\n\u001b[0;32m      4\u001b[0m \u001b[1;33m\u001b[0m\u001b[0m\n\u001b[0;32m      5\u001b[0m \u001b[1;31m# where do these percentages come from?\u001b[0m\u001b[1;33m\u001b[0m\u001b[1;33m\u001b[0m\u001b[0m\n",
      "\u001b[1;32m/home/anna/.envs/pandas/local/lib/python2.7/site-packages/pandas/core/frame.pyc\u001b[0m in \u001b[0;36m__getitem__\u001b[1;34m(self, key)\u001b[0m\n\u001b[0;32m   1906\u001b[0m         \u001b[1;32mif\u001b[0m \u001b[0misinstance\u001b[0m\u001b[1;33m(\u001b[0m\u001b[0mkey\u001b[0m\u001b[1;33m,\u001b[0m \u001b[1;33m(\u001b[0m\u001b[0mSeries\u001b[0m\u001b[1;33m,\u001b[0m \u001b[0mnp\u001b[0m\u001b[1;33m.\u001b[0m\u001b[0mndarray\u001b[0m\u001b[1;33m,\u001b[0m \u001b[0mIndex\u001b[0m\u001b[1;33m,\u001b[0m \u001b[0mlist\u001b[0m\u001b[1;33m)\u001b[0m\u001b[1;33m)\u001b[0m\u001b[1;33m:\u001b[0m\u001b[1;33m\u001b[0m\u001b[0m\n\u001b[0;32m   1907\u001b[0m             \u001b[1;31m# either boolean or fancy integer index\u001b[0m\u001b[1;33m\u001b[0m\u001b[1;33m\u001b[0m\u001b[0m\n\u001b[1;32m-> 1908\u001b[1;33m             \u001b[1;32mreturn\u001b[0m \u001b[0mself\u001b[0m\u001b[1;33m.\u001b[0m\u001b[0m_getitem_array\u001b[0m\u001b[1;33m(\u001b[0m\u001b[0mkey\u001b[0m\u001b[1;33m)\u001b[0m\u001b[1;33m\u001b[0m\u001b[0m\n\u001b[0m\u001b[0;32m   1909\u001b[0m         \u001b[1;32melif\u001b[0m \u001b[0misinstance\u001b[0m\u001b[1;33m(\u001b[0m\u001b[0mkey\u001b[0m\u001b[1;33m,\u001b[0m \u001b[0mDataFrame\u001b[0m\u001b[1;33m)\u001b[0m\u001b[1;33m:\u001b[0m\u001b[1;33m\u001b[0m\u001b[0m\n\u001b[0;32m   1910\u001b[0m             \u001b[1;32mreturn\u001b[0m \u001b[0mself\u001b[0m\u001b[1;33m.\u001b[0m\u001b[0m_getitem_frame\u001b[0m\u001b[1;33m(\u001b[0m\u001b[0mkey\u001b[0m\u001b[1;33m)\u001b[0m\u001b[1;33m\u001b[0m\u001b[0m\n",
      "\u001b[1;32m/home/anna/.envs/pandas/local/lib/python2.7/site-packages/pandas/core/frame.pyc\u001b[0m in \u001b[0;36m_getitem_array\u001b[1;34m(self, key)\u001b[0m\n\u001b[0;32m   1950\u001b[0m             \u001b[1;32mreturn\u001b[0m \u001b[0mself\u001b[0m\u001b[1;33m.\u001b[0m\u001b[0mtake\u001b[0m\u001b[1;33m(\u001b[0m\u001b[0mindexer\u001b[0m\u001b[1;33m,\u001b[0m \u001b[0maxis\u001b[0m\u001b[1;33m=\u001b[0m\u001b[1;36m0\u001b[0m\u001b[1;33m,\u001b[0m \u001b[0mconvert\u001b[0m\u001b[1;33m=\u001b[0m\u001b[0mFalse\u001b[0m\u001b[1;33m)\u001b[0m\u001b[1;33m\u001b[0m\u001b[0m\n\u001b[0;32m   1951\u001b[0m         \u001b[1;32melse\u001b[0m\u001b[1;33m:\u001b[0m\u001b[1;33m\u001b[0m\u001b[0m\n\u001b[1;32m-> 1952\u001b[1;33m             \u001b[0mindexer\u001b[0m \u001b[1;33m=\u001b[0m \u001b[0mself\u001b[0m\u001b[1;33m.\u001b[0m\u001b[0mix\u001b[0m\u001b[1;33m.\u001b[0m\u001b[0m_convert_to_indexer\u001b[0m\u001b[1;33m(\u001b[0m\u001b[0mkey\u001b[0m\u001b[1;33m,\u001b[0m \u001b[0maxis\u001b[0m\u001b[1;33m=\u001b[0m\u001b[1;36m1\u001b[0m\u001b[1;33m)\u001b[0m\u001b[1;33m\u001b[0m\u001b[0m\n\u001b[0m\u001b[0;32m   1953\u001b[0m             \u001b[1;32mreturn\u001b[0m \u001b[0mself\u001b[0m\u001b[1;33m.\u001b[0m\u001b[0mtake\u001b[0m\u001b[1;33m(\u001b[0m\u001b[0mindexer\u001b[0m\u001b[1;33m,\u001b[0m \u001b[0maxis\u001b[0m\u001b[1;33m=\u001b[0m\u001b[1;36m1\u001b[0m\u001b[1;33m,\u001b[0m \u001b[0mconvert\u001b[0m\u001b[1;33m=\u001b[0m\u001b[0mTrue\u001b[0m\u001b[1;33m)\u001b[0m\u001b[1;33m\u001b[0m\u001b[0m\n\u001b[0;32m   1954\u001b[0m \u001b[1;33m\u001b[0m\u001b[0m\n",
      "\u001b[1;32m/home/anna/.envs/pandas/local/lib/python2.7/site-packages/pandas/core/indexing.pyc\u001b[0m in \u001b[0;36m_convert_to_indexer\u001b[1;34m(self, obj, axis, is_setter)\u001b[0m\n\u001b[0;32m   1119\u001b[0m                 \u001b[0mmask\u001b[0m \u001b[1;33m=\u001b[0m \u001b[0mcheck\u001b[0m \u001b[1;33m==\u001b[0m \u001b[1;33m-\u001b[0m\u001b[1;36m1\u001b[0m\u001b[1;33m\u001b[0m\u001b[0m\n\u001b[0;32m   1120\u001b[0m                 \u001b[1;32mif\u001b[0m \u001b[0mmask\u001b[0m\u001b[1;33m.\u001b[0m\u001b[0many\u001b[0m\u001b[1;33m(\u001b[0m\u001b[1;33m)\u001b[0m\u001b[1;33m:\u001b[0m\u001b[1;33m\u001b[0m\u001b[0m\n\u001b[1;32m-> 1121\u001b[1;33m                     \u001b[1;32mraise\u001b[0m \u001b[0mKeyError\u001b[0m\u001b[1;33m(\u001b[0m\u001b[1;34m'%s not in index'\u001b[0m \u001b[1;33m%\u001b[0m \u001b[0mobjarr\u001b[0m\u001b[1;33m[\u001b[0m\u001b[0mmask\u001b[0m\u001b[1;33m]\u001b[0m\u001b[1;33m)\u001b[0m\u001b[1;33m\u001b[0m\u001b[0m\n\u001b[0m\u001b[0;32m   1122\u001b[0m \u001b[1;33m\u001b[0m\u001b[0m\n\u001b[0;32m   1123\u001b[0m                 \u001b[1;32mreturn\u001b[0m \u001b[0m_values_from_object\u001b[0m\u001b[1;33m(\u001b[0m\u001b[0mindexer\u001b[0m\u001b[1;33m)\u001b[0m\u001b[1;33m\u001b[0m\u001b[0m\n",
      "\u001b[1;31mKeyError\u001b[0m: \"['LSF subsidies' 'SSF subsidies'] not in index\""
     ]
    }
   ],
   "source": [
    "data = Subsidies_per_Category[['LSF subsidies','SSF subsidies']]\n",
    "data_dict = data.to_dict()\n",
    "\n",
    "\n",
    "# where do these percentages come from?\n",
    "SSFpercent = (\n",
    "    {'label': 'Ambiguous', 'percentage': 15}, \n",
    "    {'label': 'Beneficial', 'percentage': 24.4},\n",
    "    {'label': 'Capacity-enhancing', 'percentage': 10.7}\n",
    ")\n",
    "\n",
    "# add totals to SFFpercent\n",
    "for key, val in data_dict.items():\n",
    "    for k, v in data_dict[key].items():\n",
    "        for i in SSFpercent:\n",
    "            if i['label'] == k:\n",
    "                if 'total' in i.keys():\n",
    "                    i['total'] += v\n",
    "                else:\n",
    "                    i['total'] = v\n",
    "\n",
    "# print(\"data_dict {}\".format(data_dict))\n",
    "\n",
    "\n",
    "# create subplot\n",
    "ax = data.plot(kind='bar', figsize=(15,10),stacked=True, legend=True, fontsize=18)\n",
    "ax.set_title(\"Global fisheries subsidies (2009)\", fontsize=18)\n",
    "ax.set_ylabel(\"USD\",fontsize=18)\n",
    "ax.set_xlabel(\"\",fontsize=18)\n",
    "ax.set_xticklabels(['Ambiguous','Beneficial', 'Capacity-enhancing'],rotation=360, fontsize=18)\n",
    "\n",
    "# get an ordered list of percentages\n",
    "percentages = []\n",
    "for item in SSFpercent:\n",
    "    for k, v in item.items():\n",
    "        if k == 'percentage':\n",
    "            percentages.append(v)\n",
    "\n",
    "# prepare rects\n",
    "N = len(SSFpercent)\n",
    "indexes = np.arange(N)\n",
    "width = 0.02\n",
    "rects = ax.bar(indexes, percentages, width)\n",
    "\n",
    "# iterate rects and map index with SSF percentage\n",
    "for index, rect in enumerate(rects):\n",
    "    SSFpercent[index]['rect_x'] = rect.get_x() \n",
    "\n",
    "\n",
    "# now we have a single object holding \n",
    "# all the values we need to label the chart \n",
    "for bar in SSFpercent:\n",
    "    #  get percenatage label as a string\n",
    "    percentage = bar['percentage']\n",
    "    #  get value of to of bar\n",
    "    height = bar['total']\n",
    "    label_position = height - ((height / 100 * percentage) / 2)\n",
    "    #  position text lables\n",
    "    ax.text(\n",
    "        bar['rect_x'] + width/2,\n",
    "        label_position  - 11**5, str(percentage) + '%',\n",
    "        ha=\"center\",\n",
    "        family=\"monospace\",\n",
    "        fontsize=18,\n",
    "        fontweight=\"bold\",\n",
    "        color=\"white\"\n",
    "    )\n",
    "\n",
    "\n",
    "plt.savefig('Subsidies_Category.svg', dpi=400, bbox_inches='tight')\n",
    "plt.savefig('Subsidies_Category.pdf', dpi=400, bbox_inches='tight')\n",
    "plt.legend(loc=2,fontsize=18)\n",
    "plt.show()\n"
   ]
  },
  {
   "cell_type": "code",
   "execution_count": 378,
   "metadata": {
    "collapsed": true
   },
   "outputs": [],
   "source": [
    "#  save as csv file to add fuel subsidies\n",
    "SSF_subsidies_estimates_assessed.to_csv('SSF_subsidies_estimates_assessed.csv')\n",
    "#  read the newly created csv file now including fuel subsidy estimates\n",
    "SSF_estimates_all = pd.read_csv(\"SSF_subsidies_withfuel.csv\")"
   ]
  },
  {
   "cell_type": "code",
   "execution_count": null,
   "metadata": {
    "collapsed": true
   },
   "outputs": [],
   "source": []
  },
  {
   "cell_type": "code",
   "execution_count": 379,
   "metadata": {
    "collapsed": false
   },
   "outputs": [
    {
     "data": {
      "text/plain": [
       "7289241.7606364861"
      ]
     },
     "execution_count": 379,
     "metadata": {},
     "output_type": "execute_result"
    }
   ],
   "source": [
    "np.sum(SSF_estimates_all['SSF_subsidies_USD'])"
   ]
  },
  {
   "cell_type": "code",
   "execution_count": 380,
   "metadata": {
    "collapsed": false
   },
   "outputs": [
    {
     "data": {
      "text/plain": [
       "array(['ID', 'Cnumber', 'RegionID', 'ReEst_Subsidy2009_original',\n",
       "       'NewData', 'HDI_2005', 'EEZ', 'CID', 'CLon', 'CLat', 'SIDS',\n",
       "       'TotPop', 'HDI', 'GDP', 'Recreational', 'Subsistence', 'Artisanal',\n",
       "       'Industrial', 'Total_Catch', 'SSF_Catch', 'SSF_Catch_percent',\n",
       "       'mean_catch', 'mean_subsidies_subregion', 'Factor',\n",
       "       'SSF_subsidies_estimates', 'SSFsubsidies_assessed_percent',\n",
       "       'Data_group', 'SSF_USD_1000', 'SSF_subsidies_percent',\n",
       "       'SSF_subsidies_USD'], dtype=object)"
      ]
     },
     "execution_count": 380,
     "metadata": {},
     "output_type": "execute_result"
    }
   ],
   "source": [
    "subsidies_category = SSF_estimates_all.groupby(['Category']).sum()\n",
    "subsidies_category.columns.values"
   ]
  },
  {
   "cell_type": "code",
   "execution_count": 381,
   "metadata": {
    "collapsed": false
   },
   "outputs": [
    {
     "ename": "SyntaxError",
     "evalue": "invalid syntax (<ipython-input-381-5123e0bef31d>, line 2)",
     "output_type": "error",
     "traceback": [
      "\u001b[1;36m  File \u001b[1;32m\"<ipython-input-381-5123e0bef31d>\"\u001b[1;36m, line \u001b[1;32m2\u001b[0m\n\u001b[1;33m    'Category','ReEst_Subsidy2009_original','SSF_USD_1000']\u001b[0m\n\u001b[1;37m                                                           ^\u001b[0m\n\u001b[1;31mSyntaxError\u001b[0m\u001b[1;31m:\u001b[0m invalid syntax\n"
     ]
    }
   ],
   "source": [
    "subsidies_categoryloc[:,[\n",
    "        'Category','ReEst_Subsidy2009_original','SSF_USD_1000']"
   ]
  },
  {
   "cell_type": "code",
   "execution_count": null,
   "metadata": {
    "collapsed": true
   },
   "outputs": [],
   "source": [
    "Subsidies_per_Category['percent SSF Category'] = Subsidies_per_Category['SSF subsidies']/Subsidies_per_Category['total subsidies']*100"
   ]
  },
  {
   "cell_type": "code",
   "execution_count": null,
   "metadata": {
    "collapsed": false
   },
   "outputs": [],
   "source": [
    " SSF_meancatch_meansubsidies_all"
   ]
  },
  {
   "cell_type": "code",
   "execution_count": null,
   "metadata": {
    "collapsed": true
   },
   "outputs": [],
   "source": []
  }
 ],
 "metadata": {
  "kernelspec": {
   "display_name": "Python 2",
   "language": "python",
   "name": "python2"
  },
  "language_info": {
   "codemirror_mode": {
    "name": "ipython",
    "version": 2
   },
   "file_extension": ".py",
   "mimetype": "text/x-python",
   "name": "python",
   "nbconvert_exporter": "python",
   "pygments_lexer": "ipython2",
   "version": "2.7.6"
  }
 },
 "nbformat": 4,
 "nbformat_minor": 0
}
