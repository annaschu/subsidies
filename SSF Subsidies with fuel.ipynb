{
 "cells": [
  {
   "cell_type": "code",
   "execution_count": 53,
   "metadata": {
    "collapsed": false
   },
   "outputs": [
    {
     "data": {
      "text/plain": [
       "u'0.17.0'"
      ]
     },
     "execution_count": 53,
     "metadata": {},
     "output_type": "execute_result"
    }
   ],
   "source": [
    "%matplotlib inline\n",
    "\n",
    "import pandas as pd\n",
    "\n",
    "import matplotlib.pyplot as plt\n",
    "\n",
    "import numpy as np\n",
    "\n",
    "plt.style.use('ggplot')\n",
    "\n",
    "\n",
    "pd.__version__"
   ]
  },
  {
   "cell_type": "code",
   "execution_count": 54,
   "metadata": {
    "collapsed": true
   },
   "outputs": [],
   "source": [
    "SSF_subsidies = pd.read_csv(\"SSF_subsidies.csv\")\n",
    "countries = pd.read_csv(\"Country_Data.csv\")\n",
    "catch = pd.read_csv(\"SAU_Catches.csv\")\n",
    "type_EEZ = pd.read_csv(\"Subtype_Fleet_EEZ.csv\")\n",
    "all_subsidies = pd.read_csv(\"Subsidies2009.csv\")"
   ]
  },
  {
   "cell_type": "code",
   "execution_count": 55,
   "metadata": {
    "collapsed": false
   },
   "outputs": [
    {
     "data": {
      "text/plain": [
       "array(['ID', 'Cnumber', 'RegionID', 'RegionName', 'Type', 'SubType',\n",
       "       'Category', 'ReEst_Subsidy2009', 'NewData', 'Developed', 'HDI_2005',\n",
       "       'Countries', 'SSFsubsidies_assessed_percent',\n",
       "       'weighted_by_sectorsize', 'Data_group',\n",
       "       'SSF_totalCatch_EEZ_percent', '%SSF_totalCatch_Country',\n",
       "       'SSF_USD_1000', 'Comment', 'DocSource', 'SourceVisitDate', 'Ref',\n",
       "       'URL', 'User', 'OldComment'], dtype=object)"
      ]
     },
     "execution_count": 55,
     "metadata": {},
     "output_type": "execute_result"
    }
   ],
   "source": [
    "SSF_subsidies.columns.values"
   ]
  },
  {
   "cell_type": "code",
   "execution_count": 56,
   "metadata": {
    "collapsed": false
   },
   "outputs": [
    {
     "data": {
      "text/plain": [
       "35371111.036526568"
      ]
     },
     "execution_count": 56,
     "metadata": {},
     "output_type": "execute_result"
    }
   ],
   "source": [
    "subsidies_type = pd.merge(left=all_subsidies,right=type_EEZ, how='left')\n",
    "\n",
    "subsidies_type_countries = pd.merge(left=subsidies_type,right=countries, how='left')\n",
    "\n",
    "subsidies_type_countries_catch = pd.merge(left=subsidies_type_countries,right=catch, how='left')\n",
    "\n",
    "catch_countries = pd.merge(left=catch, right=countries, how='left')\n",
    "\n",
    "catch_by_subregion = catch_countries.groupby(['Subregion']).sum()\n",
    "\n",
    "catch_by_subregion['mean_catch'] = (catch_by_subregion['SSF_Catch']/catch_by_subregion['Total_Catch'])*100\n",
    "\n",
    "catch_by_subregion = catch_by_subregion.reset_index()\n",
    "\n",
    "mean_catch = catch_by_subregion.loc[:,['Subregion','mean_catch']]\n",
    "\n",
    "subsidies_type_countries_catch_meancatch = pd.merge(left=subsidies_type_countries_catch,right=mean_catch, how='left')\n",
    "\n",
    "SSF_subsidies_countries = pd.merge(left=SSF_subsidies,right=countries, how='left')\n",
    "\n",
    "SSF_by_subregion = SSF_subsidies_countries.groupby(['Subregion','Type']).sum()\n",
    "\n",
    "SSF_by_subregion['mean_subsidies'] = (SSF_by_subregion['SSF_USD_1000']/SSF_by_subregion['ReEst_Subsidy2009'])*100\n",
    "\n",
    "SSF_by_subregion = SSF_by_subregion.reset_index()\n",
    "\n",
    "mean_SSFsubsidies = SSF_by_subregion.loc[:,['Subregion','Type','mean_subsidies']]\n",
    "\n",
    "subsidies_type_countries_catch_meancatch_meanSSFsubsidies = pd.merge(left=subsidies_type_countries_catch_meancatch,right=mean_SSFsubsidies, how='left')\n",
    "\n",
    "np.sum(subsidies_type_countries_catch_meancatch_meanSSFsubsidies['ReEst_Subsidy2009_original'])\n"
   ]
  },
  {
   "cell_type": "code",
   "execution_count": 63,
   "metadata": {
    "collapsed": false
   },
   "outputs": [
    {
     "data": {
      "text/plain": [
       "5210024.9500068184"
      ]
     },
     "execution_count": 63,
     "metadata": {},
     "output_type": "execute_result"
    }
   ],
   "source": [
    "subsidies_type_countries_catch_meancatch_meanSSFsubsidies['Factor'] = subsidies_type_countries_catch_meancatch_meanSSFsubsidies['SSF_Catch_percent']/subsidies_type_countries_catch_meancatch_meanSSFsubsidies['mean_catch']\n",
    "\n",
    "subsidies_type_countries_catch_meancatch_meanSSFsubsidies['SSF_subsidies_estimates'] = subsidies_type_countries_catch_meancatch_meanSSFsubsidies['Factor']*subsidies_type_countries_catch_meancatch_meanSSFsubsidies['mean_subsidies']\n",
    "\n",
    "SSF_subsidies_short = SSF_subsidies_countries.loc[:,['Countries','Type','SSFsubsidies_assessed_percent','weighted_by_sectorsize','Data_group','SSF_USD_1000']]\n",
    "\n",
    "SSF_subsidies_estimates_assessed = pd.merge(left=subsidies_type_countries_catch_meancatch_meanSSFsubsidies,right=SSF_subsidies_short,how='left')\n",
    "\n",
    "SSF_subsidies_estimates_assessed['SSF_subsidies_percent'] = SSF_subsidies_estimates_assessed['SSFsubsidies_assessed_percent'].fillna(SSF_subsidies_estimates_assessed['SSF_subsidies_estimates'])\n",
    "\n",
    "SSF_subsidies_estimates_assessed['SSF_subsidies_USD'] = (SSF_subsidies_estimates_assessed['ReEst_Subsidy2009_original']/100)*SSF_subsidies_estimates_assessed['SSF_subsidies_percent']\n",
    "\n",
    "np.sum(SSF_subsidies_estimates_assessed['SSF_subsidies_USD'])\n"
   ]
  },
  {
   "cell_type": "code",
   "execution_count": 64,
   "metadata": {
    "collapsed": true
   },
   "outputs": [],
   "source": [
    "SSF_subsidies_estimates_assessed.to_csv('SSF_subsidies_assessed.csv')"
   ]
  },
  {
   "cell_type": "code",
   "execution_count": null,
   "metadata": {
    "collapsed": true
   },
   "outputs": [],
   "source": []
  }
 ],
 "metadata": {
  "kernelspec": {
   "display_name": "Python 2",
   "language": "python",
   "name": "python2"
  },
  "language_info": {
   "codemirror_mode": {
    "name": "ipython",
    "version": 2
   },
   "file_extension": ".py",
   "mimetype": "text/x-python",
   "name": "python",
   "nbconvert_exporter": "python",
   "pygments_lexer": "ipython2",
   "version": "2.7.6"
  }
 },
 "nbformat": 4,
 "nbformat_minor": 0
}
