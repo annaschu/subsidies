{
 "cells": [
  {
   "cell_type": "code",
   "execution_count": 16,
   "metadata": {
    "collapsed": false
   },
   "outputs": [
    {
     "data": {
      "text/plain": [
       "u'0.17.1'"
      ]
     },
     "execution_count": 16,
     "metadata": {},
     "output_type": "execute_result"
    }
   ],
   "source": [
    "import pandas as pd\n",
    "\n",
    "import matplotlib.pyplot as plt\n",
    "\n",
    "import matplotlib as mpl\n",
    "\n",
    "import numpy as np\n",
    "\n",
    "%matplotlib inline\n",
    "\n",
    "plt.style.use('ggplot')\n",
    "\n",
    "pd.set_option('precision',3)\n",
    "\n",
    "from IPython.display import display, HTML\n",
    "\n",
    "pd.__version__"
   ]
  },
  {
   "cell_type": "code",
   "execution_count": 17,
   "metadata": {
    "collapsed": true
   },
   "outputs": [],
   "source": [
    "\n",
    "employment = pd.read_csv(\"Employment_data.csv\")\n",
    "subsidies = pd.read_csv(\"Regions_Subsidies.csv\")"
   ]
  },
  {
   "cell_type": "code",
   "execution_count": 18,
   "metadata": {
    "collapsed": false
   },
   "outputs": [],
   "source": [
    "employment_region = employment.groupby(['Region']).sum()"
   ]
  },
  {
   "cell_type": "code",
   "execution_count": 19,
   "metadata": {
    "collapsed": false
   },
   "outputs": [],
   "source": [
    "employment_grouped = employment_region.reset_index()"
   ]
  },
  {
   "cell_type": "code",
   "execution_count": 38,
   "metadata": {
    "collapsed": false
   },
   "outputs": [
    {
     "data": {
      "text/html": [
       "<div>\n",
       "<table border=\"1\" class=\"dataframe\">\n",
       "  <thead>\n",
       "    <tr style=\"text-align: right;\">\n",
       "      <th></th>\n",
       "      <th>Region</th>\n",
       "      <th>SSF subsidies</th>\n",
       "      <th>LSF subsidies</th>\n",
       "    </tr>\n",
       "  </thead>\n",
       "  <tbody>\n",
       "    <tr>\n",
       "      <th>0</th>\n",
       "      <td>Africa</td>\n",
       "      <td>2.912e+08</td>\n",
       "      <td>6.004e+08</td>\n",
       "    </tr>\n",
       "    <tr>\n",
       "      <th>1</th>\n",
       "      <td>Asia</td>\n",
       "      <td>3.023e+09</td>\n",
       "      <td>1.249e+10</td>\n",
       "    </tr>\n",
       "    <tr>\n",
       "      <th>2</th>\n",
       "      <td>Europe</td>\n",
       "      <td>6.002e+08</td>\n",
       "      <td>7.971e+09</td>\n",
       "    </tr>\n",
       "    <tr>\n",
       "      <th>3</th>\n",
       "      <td>N America</td>\n",
       "      <td>1.023e+09</td>\n",
       "      <td>4.362e+09</td>\n",
       "    </tr>\n",
       "    <tr>\n",
       "      <th>4</th>\n",
       "      <td>Oceania</td>\n",
       "      <td>1.408e+08</td>\n",
       "      <td>3.178e+09</td>\n",
       "    </tr>\n",
       "    <tr>\n",
       "      <th>5</th>\n",
       "      <td>SC America</td>\n",
       "      <td>5.258e+08</td>\n",
       "      <td>1.164e+09</td>\n",
       "    </tr>\n",
       "    <tr>\n",
       "      <th>6</th>\n",
       "      <td>Total</td>\n",
       "      <td>5.605e+09</td>\n",
       "      <td>2.977e+10</td>\n",
       "    </tr>\n",
       "  </tbody>\n",
       "</table>\n",
       "</div>"
      ],
      "text/plain": [
       "       Region  SSF subsidies  LSF subsidies\n",
       "0      Africa      2.912e+08      6.004e+08\n",
       "1        Asia      3.023e+09      1.249e+10\n",
       "2      Europe      6.002e+08      7.971e+09\n",
       "3   N America      1.023e+09      4.362e+09\n",
       "4     Oceania      1.408e+08      3.178e+09\n",
       "5  SC America      5.258e+08      1.164e+09\n",
       "6       Total      5.605e+09      2.977e+10"
      ]
     },
     "execution_count": 38,
     "metadata": {},
     "output_type": "execute_result"
    }
   ],
   "source": [
    "subsidies['SSF subsidies']=subsidies['SSF subsidies']*1000\n",
    "subsidies['LSF subsidies']=subsidies['LSF subsidies']*1000\n",
    "subsidies"
   ]
  },
  {
   "cell_type": "code",
   "execution_count": 39,
   "metadata": {
    "collapsed": true
   },
   "outputs": [],
   "source": [
    "Subsidies_employment = pd.merge(left=employment_grouped,right=subsidies, how='left')"
   ]
  },
  {
   "cell_type": "code",
   "execution_count": 40,
   "metadata": {
    "collapsed": false
   },
   "outputs": [],
   "source": [
    "Subsidies_employment['total subsidies'] = Subsidies_employment['SSF subsidies'] + Subsidies_employment['LSF subsidies'] \n",
    "Subsidies_employment['subsidy per SSF'] = Subsidies_employment['SSF subsidies']/ Subsidies_employment['SSF_jobs_total']\n",
    "Subsidies_employment['subsidy per LSF'] = Subsidies_employment['LSF subsidies']/ Subsidies_employment['LSF_jobs']\n",
    "Subsidies_employment['subsidy per fisher'] = Subsidies_employment['total subsidies']/ Subsidies_employment['Direct_jobs_total']\n"
   ]
  },
  {
   "cell_type": "code",
   "execution_count": 41,
   "metadata": {
    "collapsed": false
   },
   "outputs": [
    {
     "data": {
      "text/html": [
       "<div>\n",
       "<table border=\"1\" class=\"dataframe\">\n",
       "  <thead>\n",
       "    <tr style=\"text-align: right;\">\n",
       "      <th></th>\n",
       "      <th>Region</th>\n",
       "      <th>Direct_jobs_SSF</th>\n",
       "      <th>SSF_jobs_reported</th>\n",
       "      <th>SSF_jobs_total</th>\n",
       "      <th>LSF_jobs</th>\n",
       "      <th>Direct_jobs_total</th>\n",
       "      <th>SSF subsidies</th>\n",
       "      <th>LSF subsidies</th>\n",
       "      <th>total subsidies</th>\n",
       "      <th>subsidy per SSF</th>\n",
       "      <th>subsidy per LSF</th>\n",
       "      <th>subsidy per fisher</th>\n",
       "    </tr>\n",
       "  </thead>\n",
       "  <tbody>\n",
       "    <tr>\n",
       "      <th>0</th>\n",
       "      <td>Africa</td>\n",
       "      <td>1111700</td>\n",
       "      <td>1141401</td>\n",
       "      <td>2253101</td>\n",
       "      <td>837127</td>\n",
       "      <td>3053500</td>\n",
       "      <td>2.912e+08</td>\n",
       "      <td>6.004e+08</td>\n",
       "      <td>8.917e+08</td>\n",
       "      <td>129.265</td>\n",
       "      <td>717.221</td>\n",
       "      <td>292.010</td>\n",
       "    </tr>\n",
       "    <tr>\n",
       "      <th>1</th>\n",
       "      <td>Asia</td>\n",
       "      <td>10232400</td>\n",
       "      <td>5315973</td>\n",
       "      <td>15548373</td>\n",
       "      <td>25971717</td>\n",
       "      <td>40120090</td>\n",
       "      <td>3.023e+09</td>\n",
       "      <td>1.249e+10</td>\n",
       "      <td>1.551e+10</td>\n",
       "      <td>194.452</td>\n",
       "      <td>480.915</td>\n",
       "      <td>386.679</td>\n",
       "    </tr>\n",
       "    <tr>\n",
       "      <th>2</th>\n",
       "      <td>Europe</td>\n",
       "      <td>141700</td>\n",
       "      <td>21307</td>\n",
       "      <td>163007</td>\n",
       "      <td>629793</td>\n",
       "      <td>792800</td>\n",
       "      <td>6.002e+08</td>\n",
       "      <td>7.971e+09</td>\n",
       "      <td>8.571e+09</td>\n",
       "      <td>3681.792</td>\n",
       "      <td>12656.868</td>\n",
       "      <td>10811.510</td>\n",
       "    </tr>\n",
       "    <tr>\n",
       "      <th>3</th>\n",
       "      <td>N America</td>\n",
       "      <td>449000</td>\n",
       "      <td>0</td>\n",
       "      <td>449000</td>\n",
       "      <td>357000</td>\n",
       "      <td>806000</td>\n",
       "      <td>1.023e+09</td>\n",
       "      <td>4.362e+09</td>\n",
       "      <td>5.385e+09</td>\n",
       "      <td>2278.580</td>\n",
       "      <td>12218.668</td>\n",
       "      <td>6681.324</td>\n",
       "    </tr>\n",
       "    <tr>\n",
       "      <th>4</th>\n",
       "      <td>Oceania</td>\n",
       "      <td>53700</td>\n",
       "      <td>609931</td>\n",
       "      <td>663631</td>\n",
       "      <td>46069</td>\n",
       "      <td>709700</td>\n",
       "      <td>1.408e+08</td>\n",
       "      <td>3.178e+09</td>\n",
       "      <td>3.319e+09</td>\n",
       "      <td>212.226</td>\n",
       "      <td>68988.378</td>\n",
       "      <td>4676.716</td>\n",
       "    </tr>\n",
       "    <tr>\n",
       "      <th>5</th>\n",
       "      <td>SC America</td>\n",
       "      <td>2101200</td>\n",
       "      <td>690201</td>\n",
       "      <td>2791401</td>\n",
       "      <td>1101141</td>\n",
       "      <td>3885600</td>\n",
       "      <td>5.258e+08</td>\n",
       "      <td>1.164e+09</td>\n",
       "      <td>1.690e+09</td>\n",
       "      <td>188.368</td>\n",
       "      <td>1057.514</td>\n",
       "      <td>435.012</td>\n",
       "    </tr>\n",
       "  </tbody>\n",
       "</table>\n",
       "</div>"
      ],
      "text/plain": [
       "       Region  Direct_jobs_SSF  SSF_jobs_reported  SSF_jobs_total  LSF_jobs  \\\n",
       "0      Africa          1111700            1141401         2253101    837127   \n",
       "1        Asia         10232400            5315973        15548373  25971717   \n",
       "2      Europe           141700              21307          163007    629793   \n",
       "3   N America           449000                  0          449000    357000   \n",
       "4     Oceania            53700             609931          663631     46069   \n",
       "5  SC America          2101200             690201         2791401   1101141   \n",
       "\n",
       "   Direct_jobs_total  SSF subsidies  LSF subsidies  total subsidies  \\\n",
       "0            3053500      2.912e+08      6.004e+08        8.917e+08   \n",
       "1           40120090      3.023e+09      1.249e+10        1.551e+10   \n",
       "2             792800      6.002e+08      7.971e+09        8.571e+09   \n",
       "3             806000      1.023e+09      4.362e+09        5.385e+09   \n",
       "4             709700      1.408e+08      3.178e+09        3.319e+09   \n",
       "5            3885600      5.258e+08      1.164e+09        1.690e+09   \n",
       "\n",
       "   subsidy per SSF  subsidy per LSF  subsidy per fisher  \n",
       "0          129.265          717.221             292.010  \n",
       "1          194.452          480.915             386.679  \n",
       "2         3681.792        12656.868           10811.510  \n",
       "3         2278.580        12218.668            6681.324  \n",
       "4          212.226        68988.378            4676.716  \n",
       "5          188.368         1057.514             435.012  "
      ]
     },
     "execution_count": 41,
     "metadata": {},
     "output_type": "execute_result"
    }
   ],
   "source": [
    "Subsidies_employment"
   ]
  },
  {
   "cell_type": "code",
   "execution_count": 43,
   "metadata": {
    "collapsed": false
   },
   "outputs": [
    {
     "data": {
      "text/html": [
       "<div>\n",
       "<table border=\"1\" class=\"dataframe\">\n",
       "  <thead>\n",
       "    <tr style=\"text-align: right;\">\n",
       "      <th></th>\n",
       "      <th>Region</th>\n",
       "      <th>subsidy per SSF</th>\n",
       "      <th>subsidy per LSF</th>\n",
       "      <th>subsidy per fisher</th>\n",
       "    </tr>\n",
       "  </thead>\n",
       "  <tbody>\n",
       "    <tr>\n",
       "      <th>0</th>\n",
       "      <td>Africa</td>\n",
       "      <td>129.265</td>\n",
       "      <td>717.221</td>\n",
       "      <td>292.010</td>\n",
       "    </tr>\n",
       "    <tr>\n",
       "      <th>1</th>\n",
       "      <td>Asia</td>\n",
       "      <td>194.452</td>\n",
       "      <td>480.915</td>\n",
       "      <td>386.679</td>\n",
       "    </tr>\n",
       "    <tr>\n",
       "      <th>2</th>\n",
       "      <td>Europe</td>\n",
       "      <td>3681.792</td>\n",
       "      <td>12656.868</td>\n",
       "      <td>10811.510</td>\n",
       "    </tr>\n",
       "    <tr>\n",
       "      <th>3</th>\n",
       "      <td>N America</td>\n",
       "      <td>2278.580</td>\n",
       "      <td>12218.668</td>\n",
       "      <td>6681.324</td>\n",
       "    </tr>\n",
       "    <tr>\n",
       "      <th>4</th>\n",
       "      <td>Oceania</td>\n",
       "      <td>212.226</td>\n",
       "      <td>68988.378</td>\n",
       "      <td>4676.716</td>\n",
       "    </tr>\n",
       "    <tr>\n",
       "      <th>5</th>\n",
       "      <td>SC America</td>\n",
       "      <td>188.368</td>\n",
       "      <td>1057.514</td>\n",
       "      <td>435.012</td>\n",
       "    </tr>\n",
       "  </tbody>\n",
       "</table>\n",
       "</div>"
      ],
      "text/plain": [
       "       Region  subsidy per SSF  subsidy per LSF  subsidy per fisher\n",
       "0      Africa          129.265          717.221             292.010\n",
       "1        Asia          194.452          480.915             386.679\n",
       "2      Europe         3681.792        12656.868           10811.510\n",
       "3   N America         2278.580        12218.668            6681.324\n",
       "4     Oceania          212.226        68988.378            4676.716\n",
       "5  SC America          188.368         1057.514             435.012"
      ]
     },
     "execution_count": 43,
     "metadata": {},
     "output_type": "execute_result"
    }
   ],
   "source": [
    "Subsidies_intensity = Subsidies_employment.loc[:,['Region','subsidy per SSF','subsidy per LSF','subsidy per fisher']]\n",
    "Subsidies_intensity"
   ]
  },
  {
   "cell_type": "code",
   "execution_count": null,
   "metadata": {
    "collapsed": true
   },
   "outputs": [],
   "source": [
    "Subsidies_intensity = Subsidies_intensity.transpose()\n",
    "Subsidies_intensity"
   ]
  },
  {
   "cell_type": "code",
   "execution_count": null,
   "metadata": {
    "collapsed": false
   },
   "outputs": [],
   "source": [
    "#   saved and reloaded for formatting\n",
    "subsidy_intensity_T =  pd.read_csv(\"Subsidy_intensity.csv\")\n",
    "subsidy_intensity_T "
   ]
  },
  {
   "cell_type": "code",
   "execution_count": null,
   "metadata": {
    "collapsed": false
   },
   "outputs": [],
   "source": [
    "subsidy_intensity_T['Africa'].plot(kind='pie', subplots=True, legend=False, labels = None,\n",
    "                                 fontsize=32, figsize=(10, 10), colors = ['#53706b','#eae8db'], explode = (0.01,0.01))\n",
    "plt.savefig('Africa.svg', dpi=400, bbox_inches='tight')"
   ]
  },
  {
   "cell_type": "code",
   "execution_count": null,
   "metadata": {
    "collapsed": false
   },
   "outputs": [],
   "source": [
    "subsidy_intensity_T['Asia'].plot(kind='pie', subplots=True, legend=False, labels = None,\n",
    "                                 fontsize=32, figsize=(10, 10), colors = ['#53706b','#eae8db' ], explode = (0.01,0.01))\n",
    "plt.savefig('Asia.svg', dpi=400, bbox_inches='tight')"
   ]
  },
  {
   "cell_type": "code",
   "execution_count": null,
   "metadata": {
    "collapsed": false
   },
   "outputs": [],
   "source": [
    "subsidy_intensity_T['Europe'].plot(kind='pie', subplots=True, legend=False, labels = None,\n",
    "                                 fontsize=32, figsize=(10, 10), colors = ['#53706b','#eae8db' ], explode = (0.01,0.01))\n",
    "plt.savefig('Europe.svg', dpi=400, bbox_inches='tight')"
   ]
  },
  {
   "cell_type": "code",
   "execution_count": null,
   "metadata": {
    "collapsed": false
   },
   "outputs": [],
   "source": [
    "subsidy_intensity_T['N America'].plot(kind='pie', subplots=True, legend=False, labels = None,\n",
    "                                 fontsize=32, figsize=(10, 10), colors = ['#53706b','#eae8db' ], explode = (0.01,0.01))\n",
    "plt.savefig('N_America.svg', dpi=400, bbox_inches='tight')"
   ]
  },
  {
   "cell_type": "code",
   "execution_count": null,
   "metadata": {
    "collapsed": false
   },
   "outputs": [],
   "source": [
    "subsidy_intensity_T['SC America'].plot(kind='pie', subplots=True, legend=False, labels = None,\n",
    "                                 fontsize=32, figsize=(10, 10), colors = ['#53706b','#eae8db' ], explode = (0.01,0.01))\n",
    "plt.savefig('SC_America.svg', dpi=400, bbox_inches='tight')"
   ]
  },
  {
   "cell_type": "code",
   "execution_count": null,
   "metadata": {
    "collapsed": false
   },
   "outputs": [],
   "source": [
    "subsidy_intensity_T['Oceania'].plot(kind='pie', subplots=True, legend=False, labels = None,\n",
    "                                 fontsize=32, figsize=(10, 10), colors = ['#53706b','#eae8db' ], explode = (0.01,0.01))\n",
    "plt.savefig('Oceania.svg', dpi=400, bbox_inches='tight')"
   ]
  },
  {
   "cell_type": "code",
   "execution_count": null,
   "metadata": {
    "collapsed": true
   },
   "outputs": [],
   "source": []
  },
  {
   "cell_type": "code",
   "execution_count": null,
   "metadata": {
    "collapsed": true
   },
   "outputs": [],
   "source": []
  },
  {
   "cell_type": "code",
   "execution_count": null,
   "metadata": {
    "collapsed": true
   },
   "outputs": [],
   "source": []
  }
 ],
 "metadata": {
  "kernelspec": {
   "display_name": "Python 2",
   "language": "python",
   "name": "python2"
  },
  "language_info": {
   "codemirror_mode": {
    "name": "ipython",
    "version": 2
   },
   "file_extension": ".py",
   "mimetype": "text/x-python",
   "name": "python",
   "nbconvert_exporter": "python",
   "pygments_lexer": "ipython2",
   "version": "2.7.6"
  }
 },
 "nbformat": 4,
 "nbformat_minor": 0
}
