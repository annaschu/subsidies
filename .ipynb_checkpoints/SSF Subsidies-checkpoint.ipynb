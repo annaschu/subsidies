{
 "cells": [
  {
   "cell_type": "code",
   "execution_count": 390,
   "metadata": {
    "collapsed": false
   },
   "outputs": [
    {
     "ename": "NameError",
     "evalue": "name 'pylab' is not defined",
     "output_type": "error",
     "traceback": [
      "\u001b[1;31m---------------------------------------------------------------------------\u001b[0m",
      "\u001b[1;31mNameError\u001b[0m                                 Traceback (most recent call last)",
      "\u001b[1;32m<ipython-input-390-493ce53394d6>\u001b[0m in \u001b[0;36m<module>\u001b[1;34m()\u001b[0m\n\u001b[0;32m      8\u001b[0m \u001b[1;33m\u001b[0m\u001b[0m\n\u001b[0;32m      9\u001b[0m \u001b[0mplt\u001b[0m\u001b[1;33m.\u001b[0m\u001b[0mstyle\u001b[0m\u001b[1;33m.\u001b[0m\u001b[0muse\u001b[0m\u001b[1;33m(\u001b[0m\u001b[1;34m'ggplot'\u001b[0m\u001b[1;33m)\u001b[0m\u001b[1;33m\u001b[0m\u001b[0m\n\u001b[1;32m---> 10\u001b[1;33m \u001b[0mpylab\u001b[0m\u001b[1;33m.\u001b[0m\u001b[0mrcParams\u001b[0m\u001b[1;33m[\u001b[0m\u001b[1;34m'xtick.major.pad'\u001b[0m\u001b[1;33m]\u001b[0m\u001b[1;33m=\u001b[0m\u001b[1;34m'8'\u001b[0m\u001b[1;33m\u001b[0m\u001b[0m\n\u001b[0m\u001b[0;32m     11\u001b[0m \u001b[0mpylab\u001b[0m\u001b[1;33m.\u001b[0m\u001b[0mrcParams\u001b[0m\u001b[1;33m[\u001b[0m\u001b[1;34m'ytick.major.pad'\u001b[0m\u001b[1;33m]\u001b[0m\u001b[1;33m=\u001b[0m\u001b[1;34m'8'\u001b[0m\u001b[1;33m\u001b[0m\u001b[0m\n\u001b[0;32m     12\u001b[0m \u001b[1;33m\u001b[0m\u001b[0m\n",
      "\u001b[1;31mNameError\u001b[0m: name 'pylab' is not defined"
     ]
    }
   ],
   "source": [
    "%matplotlib inline\n",
    "\n",
    "import pandas as pd\n",
    "\n",
    "import matplotlib.pyplot as plt\n",
    "\n",
    "import numpy as np\n",
    "\n",
    "plt.style.use('ggplot')\n",
    "\n",
    "\n",
    "pd.__version__"
   ]
  },
  {
   "cell_type": "code",
   "execution_count": 296,
   "metadata": {
    "collapsed": true
   },
   "outputs": [],
   "source": [
    "SSF_subsidies = pd.read_csv(\"SSFsubsidiesnonfuel.csv\")\n",
    "countries = pd.read_csv(\"Country_Data.csv\")\n",
    "catch = pd.read_csv(\"SAU_Catches.csv\")\n",
    "type_EEZ = pd.read_csv(\"Subtype_Fleet_EEZ.csv\")\n",
    "all_subsidies = pd.read_csv(\"subsidies2009_nofuel.csv\")"
   ]
  },
  {
   "cell_type": "code",
   "execution_count": 297,
   "metadata": {
    "collapsed": false
   },
   "outputs": [],
   "source": [
    "subsidies_type = pd.merge(left=all_subsidies,right=type_EEZ, how='left')"
   ]
  },
  {
   "cell_type": "code",
   "execution_count": 298,
   "metadata": {
    "collapsed": false
   },
   "outputs": [],
   "source": [
    "subsidies_type_countries = pd.merge(left=subsidies_type,right=countries, how='left')"
   ]
  },
  {
   "cell_type": "code",
   "execution_count": 299,
   "metadata": {
    "collapsed": false
   },
   "outputs": [],
   "source": [
    "subsidies_type_countries_catch = pd.merge(left=subsidies_type_countries,right=catch, how='left')"
   ]
  },
  {
   "cell_type": "code",
   "execution_count": 300,
   "metadata": {
    "collapsed": false
   },
   "outputs": [],
   "source": [
    "catch_countries = pd.merge(left=catch, right=countries, how='left')"
   ]
  },
  {
   "cell_type": "code",
   "execution_count": 301,
   "metadata": {
    "collapsed": false
   },
   "outputs": [],
   "source": [
    "catch_by_subregion = catch_countries.groupby(['Subregion']).sum()"
   ]
  },
  {
   "cell_type": "code",
   "execution_count": 302,
   "metadata": {
    "collapsed": false
   },
   "outputs": [],
   "source": [
    "catch_by_subregion['mean_catch'] = (catch_by_subregion['SSF_Catch']/catch_by_subregion['Total_Catch'])*100"
   ]
  },
  {
   "cell_type": "code",
   "execution_count": 303,
   "metadata": {
    "collapsed": false
   },
   "outputs": [],
   "source": [
    "catch_by_subregion = catch_by_subregion.reset_index()"
   ]
  },
  {
   "cell_type": "code",
   "execution_count": 304,
   "metadata": {
    "collapsed": false
   },
   "outputs": [],
   "source": [
    "mean_catch = catch_by_subregion.loc[:,['Subregion','mean_catch']]"
   ]
  },
  {
   "cell_type": "code",
   "execution_count": 305,
   "metadata": {
    "collapsed": false
   },
   "outputs": [],
   "source": [
    "subsidies_type_countries_catch_meancatch = pd.merge(left=subsidies_type_countries_catch,right=mean_catch, how='left')"
   ]
  },
  {
   "cell_type": "code",
   "execution_count": 306,
   "metadata": {
    "collapsed": false
   },
   "outputs": [],
   "source": [
    "SSF_subsidies_countries = pd.merge(left=SSF_subsidies,right=countries, how='left')"
   ]
  },
  {
   "cell_type": "code",
   "execution_count": 307,
   "metadata": {
    "collapsed": false
   },
   "outputs": [],
   "source": [
    "SSF_by_subregion = SSF_subsidies_countries.groupby(['Subregion','Type']).sum()"
   ]
  },
  {
   "cell_type": "code",
   "execution_count": 308,
   "metadata": {
    "collapsed": true
   },
   "outputs": [],
   "source": [
    "SSF_by_subregion['mean_subsidies'] = (SSF_by_subregion['SSF_USD_1000']/SSF_by_subregion['ReEst_Subsidy2009'])*100"
   ]
  },
  {
   "cell_type": "code",
   "execution_count": 309,
   "metadata": {
    "collapsed": true
   },
   "outputs": [],
   "source": [
    "SSF_by_subregion = SSF_by_subregion.reset_index()"
   ]
  },
  {
   "cell_type": "code",
   "execution_count": 310,
   "metadata": {
    "collapsed": true
   },
   "outputs": [],
   "source": [
    "mean_SSFsubsidies = SSF_by_subregion.loc[:,['Subregion','Type','mean_subsidies']]"
   ]
  },
  {
   "cell_type": "code",
   "execution_count": 311,
   "metadata": {
    "collapsed": false
   },
   "outputs": [],
   "source": [
    "subsidies_type_countries_catch_meancatch_meanSSFsubsidies = pd.merge(left=subsidies_type_countries_catch_meancatch,right=mean_SSFsubsidies, how='left')"
   ]
  },
  {
   "cell_type": "code",
   "execution_count": 312,
   "metadata": {
    "collapsed": false
   },
   "outputs": [
    {
     "data": {
      "text/plain": [
       "27801451.679293405"
      ]
     },
     "execution_count": 312,
     "metadata": {},
     "output_type": "execute_result"
    }
   ],
   "source": [
    "np.sum(subsidies_type_countries_catch_meancatch_meanSSFsubsidies['ReEst_Subsidy2009_original'])"
   ]
  },
  {
   "cell_type": "code",
   "execution_count": 313,
   "metadata": {
    "collapsed": false
   },
   "outputs": [],
   "source": [
    "subsidies_type_countries_catch_meancatch_meanSSFsubsidies['Factor'] = subsidies_type_countries_catch_meancatch_meanSSFsubsidies['SSF_Catch_percent']/subsidies_type_countries_catch_meancatch_meanSSFsubsidies['mean_catch']"
   ]
  },
  {
   "cell_type": "code",
   "execution_count": 314,
   "metadata": {
    "collapsed": true
   },
   "outputs": [],
   "source": [
    "subsidies_type_countries_catch_meancatch_meanSSFsubsidies['SSF_subsidies_estimates'] = subsidies_type_countries_catch_meancatch_meanSSFsubsidies['Factor']*subsidies_type_countries_catch_meancatch_meanSSFsubsidies['mean_subsidies']"
   ]
  },
  {
   "cell_type": "code",
   "execution_count": 315,
   "metadata": {
    "collapsed": false
   },
   "outputs": [],
   "source": [
    "SSF_subsidies_short = SSF_subsidies_countries.loc[:,['Countries','Type','SSFsubsidies_assessed_percent','weighted_by_sectorsize','Data_group','SSF_USD_1000']]"
   ]
  },
  {
   "cell_type": "code",
   "execution_count": 316,
   "metadata": {
    "collapsed": false
   },
   "outputs": [],
   "source": [
    "SSF_subsidies_estimates_assessed = pd.merge(left=subsidies_type_countries_catch_meancatch_meanSSFsubsidies,right=SSF_subsidies_short,how='left')"
   ]
  },
  {
   "cell_type": "code",
   "execution_count": 317,
   "metadata": {
    "collapsed": false
   },
   "outputs": [],
   "source": [
    "SSF_subsidies_estimates_assessed['SSF_subsidies_percent'] = SSF_subsidies_estimates_assessed['SSFsubsidies_assessed_percent'].fillna(SSF_subsidies_estimates_assessed['SSF_subsidies_estimates'])"
   ]
  },
  {
   "cell_type": "code",
   "execution_count": 318,
   "metadata": {
    "collapsed": false
   },
   "outputs": [],
   "source": [
    "SSF_subsidies_estimates_assessed['SSF_subsidies_USD'] = (SSF_subsidies_estimates_assessed['ReEst_Subsidy2009_original']/100)*SSF_subsidies_estimates_assessed['SSF_subsidies_percent']"
   ]
  },
  {
   "cell_type": "code",
   "execution_count": 319,
   "metadata": {
    "collapsed": false
   },
   "outputs": [
    {
     "data": {
      "text/plain": [
       "5146268.945449641"
      ]
     },
     "execution_count": 319,
     "metadata": {},
     "output_type": "execute_result"
    }
   ],
   "source": [
    "np.sum(SSF_subsidies_estimates_assessed['SSF_subsidies_USD'])"
   ]
  },
  {
   "cell_type": "code",
   "execution_count": 320,
   "metadata": {
    "collapsed": false
   },
   "outputs": [
    {
     "data": {
      "text/plain": [
       "18.510792187454715"
      ]
     },
     "execution_count": 320,
     "metadata": {},
     "output_type": "execute_result"
    }
   ],
   "source": [
    "np.sum(SSF_subsidies_estimates_assessed['SSF_subsidies_USD'])/np.sum(subsidies_type_countries_catch_meancatch_meanSSFsubsidies['ReEst_Subsidy2009_original'])*100"
   ]
  },
  {
   "cell_type": "code",
   "execution_count": 321,
   "metadata": {
    "collapsed": false
   },
   "outputs": [
    {
     "data": {
      "text/plain": [
       "5146268.945449641"
      ]
     },
     "execution_count": 321,
     "metadata": {},
     "output_type": "execute_result"
    }
   ],
   "source": [
    "np.sum(SSF_subsidies_estimates_assessed['SSF_subsidies_USD'])"
   ]
  },
  {
   "cell_type": "code",
   "execution_count": 322,
   "metadata": {
    "collapsed": false
   },
   "outputs": [],
   "source": [
    "SSF_subsidies_estimates_assessed = SSF_subsidies_estimates_assessed.replace(to_replace='South, Central America and Carribbean',value='S and C America')"
   ]
  },
  {
   "cell_type": "code",
   "execution_count": 323,
   "metadata": {
    "collapsed": true
   },
   "outputs": [],
   "source": [
    "SSF_subsidies_estimates_assessed = SSF_subsidies_estimates_assessed.rename(columns={'ReEst_Subsidy2009_original': 'total subsidies', 'SSF_subsidies_USD': 'SSF subsidies'})"
   ]
  },
  {
   "cell_type": "code",
   "execution_count": 324,
   "metadata": {
    "collapsed": true
   },
   "outputs": [],
   "source": [
    "SSF_subsidies_estimates_assessed['LSF subsidies'] = SSF_subsidies_estimates_assessed['total subsidies']-SSF_subsidies_estimates_assessed['SSF subsidies']"
   ]
  },
  {
   "cell_type": "code",
   "execution_count": 325,
   "metadata": {
    "collapsed": false
   },
   "outputs": [
    {
     "data": {
      "text/html": [
       "<div>\n",
       "<table border=\"1\" class=\"dataframe\">\n",
       "  <thead>\n",
       "    <tr style=\"text-align: right;\">\n",
       "      <th></th>\n",
       "      <th>ID</th>\n",
       "      <th>Cnumber</th>\n",
       "      <th>RegionID</th>\n",
       "      <th>RegionName</th>\n",
       "      <th>Countries</th>\n",
       "      <th>Type</th>\n",
       "      <th>SubType</th>\n",
       "      <th>Category</th>\n",
       "      <th>total subsidies</th>\n",
       "      <th>NewData</th>\n",
       "      <th>...</th>\n",
       "      <th>mean_subsidies</th>\n",
       "      <th>Factor</th>\n",
       "      <th>SSF_subsidies_estimates</th>\n",
       "      <th>SSFsubsidies_assessed_percent</th>\n",
       "      <th>weighted_by_sectorsize</th>\n",
       "      <th>Data_group</th>\n",
       "      <th>SSF_USD_1000</th>\n",
       "      <th>SSF_subsidies_percent</th>\n",
       "      <th>SSF subsidies</th>\n",
       "      <th>LSF subsidies</th>\n",
       "    </tr>\n",
       "  </thead>\n",
       "  <tbody>\n",
       "    <tr>\n",
       "      <th>60</th>\n",
       "      <td>66</td>\n",
       "      <td>36</td>\n",
       "      <td>5</td>\n",
       "      <td>Oceania</td>\n",
       "      <td>Australia</td>\n",
       "      <td>A1</td>\n",
       "      <td>Fisheries mangt.</td>\n",
       "      <td>Beneficial</td>\n",
       "      <td>61780.418490</td>\n",
       "      <td>0</td>\n",
       "      <td>...</td>\n",
       "      <td>16.578444</td>\n",
       "      <td>0.982318</td>\n",
       "      <td>16.285300</td>\n",
       "      <td>19.461492</td>\n",
       "      <td>TRUE</td>\n",
       "      <td>3</td>\n",
       "      <td>12023.391151</td>\n",
       "      <td>19.461492</td>\n",
       "      <td>12023.391151</td>\n",
       "      <td>49757.027339</td>\n",
       "    </tr>\n",
       "    <tr>\n",
       "      <th>61</th>\n",
       "      <td>67</td>\n",
       "      <td>36</td>\n",
       "      <td>5</td>\n",
       "      <td>Oceania</td>\n",
       "      <td>Australia</td>\n",
       "      <td>A2</td>\n",
       "      <td>Fishery R&amp;D</td>\n",
       "      <td>Beneficial</td>\n",
       "      <td>9922.318280</td>\n",
       "      <td>0</td>\n",
       "      <td>...</td>\n",
       "      <td>17.146119</td>\n",
       "      <td>0.982318</td>\n",
       "      <td>16.842937</td>\n",
       "      <td>17.146119</td>\n",
       "      <td>TRUE</td>\n",
       "      <td>3</td>\n",
       "      <td>1701.292472</td>\n",
       "      <td>17.146119</td>\n",
       "      <td>1701.292472</td>\n",
       "      <td>8221.025808</td>\n",
       "    </tr>\n",
       "    <tr>\n",
       "      <th>62</th>\n",
       "      <td>68</td>\n",
       "      <td>36</td>\n",
       "      <td>5</td>\n",
       "      <td>Oceania</td>\n",
       "      <td>Australia</td>\n",
       "      <td>A3</td>\n",
       "      <td>MPAs</td>\n",
       "      <td>Beneficial</td>\n",
       "      <td>72077.407561</td>\n",
       "      <td>1</td>\n",
       "      <td>...</td>\n",
       "      <td>18.949043</td>\n",
       "      <td>0.982318</td>\n",
       "      <td>18.613981</td>\n",
       "      <td>19.461492</td>\n",
       "      <td>TRUE</td>\n",
       "      <td>3</td>\n",
       "      <td>14027.338847</td>\n",
       "      <td>19.461492</td>\n",
       "      <td>14027.338847</td>\n",
       "      <td>58050.068714</td>\n",
       "    </tr>\n",
       "    <tr>\n",
       "      <th>63</th>\n",
       "      <td>69</td>\n",
       "      <td>36</td>\n",
       "      <td>5</td>\n",
       "      <td>Oceania</td>\n",
       "      <td>Australia</td>\n",
       "      <td>B1</td>\n",
       "      <td>Boat constsruct. &amp; renov.</td>\n",
       "      <td>Capacity-enhancing</td>\n",
       "      <td>89014.750270</td>\n",
       "      <td>0</td>\n",
       "      <td>...</td>\n",
       "      <td>17.146119</td>\n",
       "      <td>1.113140</td>\n",
       "      <td>19.086038</td>\n",
       "      <td>17.146119</td>\n",
       "      <td>TRUE</td>\n",
       "      <td>3</td>\n",
       "      <td>15262.574761</td>\n",
       "      <td>17.146119</td>\n",
       "      <td>15262.574761</td>\n",
       "      <td>73752.175509</td>\n",
       "    </tr>\n",
       "    <tr>\n",
       "      <th>64</th>\n",
       "      <td>70</td>\n",
       "      <td>36</td>\n",
       "      <td>5</td>\n",
       "      <td>Oceania</td>\n",
       "      <td>Australia</td>\n",
       "      <td>B2</td>\n",
       "      <td>Fisheries dev. projects</td>\n",
       "      <td>Capacity-enhancing</td>\n",
       "      <td>0.000000</td>\n",
       "      <td>0</td>\n",
       "      <td>...</td>\n",
       "      <td>NaN</td>\n",
       "      <td>1.113140</td>\n",
       "      <td>NaN</td>\n",
       "      <td>NaN</td>\n",
       "      <td>NaN</td>\n",
       "      <td>NaN</td>\n",
       "      <td>NaN</td>\n",
       "      <td>NaN</td>\n",
       "      <td>NaN</td>\n",
       "      <td>NaN</td>\n",
       "    </tr>\n",
       "    <tr>\n",
       "      <th>65</th>\n",
       "      <td>71</td>\n",
       "      <td>36</td>\n",
       "      <td>5</td>\n",
       "      <td>Oceania</td>\n",
       "      <td>Australia</td>\n",
       "      <td>B3</td>\n",
       "      <td>Fishing port develop.</td>\n",
       "      <td>Capacity-enhancing</td>\n",
       "      <td>0.000000</td>\n",
       "      <td>0</td>\n",
       "      <td>...</td>\n",
       "      <td>NaN</td>\n",
       "      <td>1.113140</td>\n",
       "      <td>NaN</td>\n",
       "      <td>NaN</td>\n",
       "      <td>NaN</td>\n",
       "      <td>NaN</td>\n",
       "      <td>NaN</td>\n",
       "      <td>NaN</td>\n",
       "      <td>NaN</td>\n",
       "      <td>NaN</td>\n",
       "    </tr>\n",
       "    <tr>\n",
       "      <th>66</th>\n",
       "      <td>72</td>\n",
       "      <td>36</td>\n",
       "      <td>5</td>\n",
       "      <td>Oceania</td>\n",
       "      <td>Australia</td>\n",
       "      <td>B4</td>\n",
       "      <td>Markt. &amp; storage infrast.</td>\n",
       "      <td>Capacity-enhancing</td>\n",
       "      <td>0.000000</td>\n",
       "      <td>0</td>\n",
       "      <td>...</td>\n",
       "      <td>NaN</td>\n",
       "      <td>1.113140</td>\n",
       "      <td>NaN</td>\n",
       "      <td>NaN</td>\n",
       "      <td>NaN</td>\n",
       "      <td>NaN</td>\n",
       "      <td>NaN</td>\n",
       "      <td>NaN</td>\n",
       "      <td>NaN</td>\n",
       "      <td>NaN</td>\n",
       "    </tr>\n",
       "    <tr>\n",
       "      <th>67</th>\n",
       "      <td>73</td>\n",
       "      <td>36</td>\n",
       "      <td>5</td>\n",
       "      <td>Oceania</td>\n",
       "      <td>Australia</td>\n",
       "      <td>B5</td>\n",
       "      <td>Tax exemption</td>\n",
       "      <td>Capacity-enhancing</td>\n",
       "      <td>0.000000</td>\n",
       "      <td>0</td>\n",
       "      <td>...</td>\n",
       "      <td>NaN</td>\n",
       "      <td>1.113140</td>\n",
       "      <td>NaN</td>\n",
       "      <td>NaN</td>\n",
       "      <td>NaN</td>\n",
       "      <td>NaN</td>\n",
       "      <td>NaN</td>\n",
       "      <td>NaN</td>\n",
       "      <td>NaN</td>\n",
       "      <td>NaN</td>\n",
       "    </tr>\n",
       "    <tr>\n",
       "      <th>68</th>\n",
       "      <td>74</td>\n",
       "      <td>36</td>\n",
       "      <td>5</td>\n",
       "      <td>Oceania</td>\n",
       "      <td>Australia</td>\n",
       "      <td>B6</td>\n",
       "      <td>Fishing access</td>\n",
       "      <td>Capacity-enhancing</td>\n",
       "      <td>0.000000</td>\n",
       "      <td>0</td>\n",
       "      <td>...</td>\n",
       "      <td>NaN</td>\n",
       "      <td>1.113140</td>\n",
       "      <td>NaN</td>\n",
       "      <td>NaN</td>\n",
       "      <td>NaN</td>\n",
       "      <td>NaN</td>\n",
       "      <td>NaN</td>\n",
       "      <td>NaN</td>\n",
       "      <td>NaN</td>\n",
       "      <td>NaN</td>\n",
       "    </tr>\n",
       "    <tr>\n",
       "      <th>69</th>\n",
       "      <td>76</td>\n",
       "      <td>36</td>\n",
       "      <td>5</td>\n",
       "      <td>Oceania</td>\n",
       "      <td>Australia</td>\n",
       "      <td>C1</td>\n",
       "      <td>Fisher assistance</td>\n",
       "      <td>Ambiguous</td>\n",
       "      <td>28262.262712</td>\n",
       "      <td>0</td>\n",
       "      <td>...</td>\n",
       "      <td>100.000000</td>\n",
       "      <td>1.113140</td>\n",
       "      <td>111.314046</td>\n",
       "      <td>100.000000</td>\n",
       "      <td>TRUE</td>\n",
       "      <td>2</td>\n",
       "      <td>28262.262712</td>\n",
       "      <td>100.000000</td>\n",
       "      <td>28262.262712</td>\n",
       "      <td>0.000000</td>\n",
       "    </tr>\n",
       "    <tr>\n",
       "      <th>70</th>\n",
       "      <td>77</td>\n",
       "      <td>36</td>\n",
       "      <td>5</td>\n",
       "      <td>Oceania</td>\n",
       "      <td>Australia</td>\n",
       "      <td>C2</td>\n",
       "      <td>Vessel buyback</td>\n",
       "      <td>Ambiguous</td>\n",
       "      <td>168997.617791</td>\n",
       "      <td>0</td>\n",
       "      <td>...</td>\n",
       "      <td>0.000000</td>\n",
       "      <td>1.113140</td>\n",
       "      <td>0.000000</td>\n",
       "      <td>0.000000</td>\n",
       "      <td>1</td>\n",
       "      <td>3</td>\n",
       "      <td>0.000000</td>\n",
       "      <td>0.000000</td>\n",
       "      <td>0.000000</td>\n",
       "      <td>168997.617791</td>\n",
       "    </tr>\n",
       "    <tr>\n",
       "      <th>71</th>\n",
       "      <td>78</td>\n",
       "      <td>36</td>\n",
       "      <td>5</td>\n",
       "      <td>Oceania</td>\n",
       "      <td>Australia</td>\n",
       "      <td>C3</td>\n",
       "      <td>Rural fisher communities</td>\n",
       "      <td>Ambiguous</td>\n",
       "      <td>0.000000</td>\n",
       "      <td>0</td>\n",
       "      <td>...</td>\n",
       "      <td>NaN</td>\n",
       "      <td>1.113140</td>\n",
       "      <td>NaN</td>\n",
       "      <td>NaN</td>\n",
       "      <td>NaN</td>\n",
       "      <td>NaN</td>\n",
       "      <td>NaN</td>\n",
       "      <td>NaN</td>\n",
       "      <td>NaN</td>\n",
       "      <td>NaN</td>\n",
       "    </tr>\n",
       "    <tr>\n",
       "      <th>72</th>\n",
       "      <td>79</td>\n",
       "      <td>44</td>\n",
       "      <td>4</td>\n",
       "      <td>S and C America</td>\n",
       "      <td>Bahamas</td>\n",
       "      <td>A1</td>\n",
       "      <td>Fisheries mangt.</td>\n",
       "      <td>Beneficial</td>\n",
       "      <td>163.967094</td>\n",
       "      <td>0</td>\n",
       "      <td>...</td>\n",
       "      <td>93.207957</td>\n",
       "      <td>0.208564</td>\n",
       "      <td>19.439806</td>\n",
       "      <td>NaN</td>\n",
       "      <td>NaN</td>\n",
       "      <td>NaN</td>\n",
       "      <td>NaN</td>\n",
       "      <td>19.439806</td>\n",
       "      <td>31.874886</td>\n",
       "      <td>132.092209</td>\n",
       "    </tr>\n",
       "    <tr>\n",
       "      <th>73</th>\n",
       "      <td>80</td>\n",
       "      <td>44</td>\n",
       "      <td>4</td>\n",
       "      <td>S and C America</td>\n",
       "      <td>Bahamas</td>\n",
       "      <td>A2</td>\n",
       "      <td>Fishery R&amp;D</td>\n",
       "      <td>Beneficial</td>\n",
       "      <td>4325.619257</td>\n",
       "      <td>0</td>\n",
       "      <td>...</td>\n",
       "      <td>NaN</td>\n",
       "      <td>0.208564</td>\n",
       "      <td>NaN</td>\n",
       "      <td>NaN</td>\n",
       "      <td>NaN</td>\n",
       "      <td>NaN</td>\n",
       "      <td>NaN</td>\n",
       "      <td>NaN</td>\n",
       "      <td>NaN</td>\n",
       "      <td>NaN</td>\n",
       "    </tr>\n",
       "    <tr>\n",
       "      <th>74</th>\n",
       "      <td>81</td>\n",
       "      <td>44</td>\n",
       "      <td>4</td>\n",
       "      <td>S and C America</td>\n",
       "      <td>Bahamas</td>\n",
       "      <td>A3</td>\n",
       "      <td>MPAs</td>\n",
       "      <td>Beneficial</td>\n",
       "      <td>6367.755870</td>\n",
       "      <td>0</td>\n",
       "      <td>...</td>\n",
       "      <td>94.606770</td>\n",
       "      <td>0.208564</td>\n",
       "      <td>19.731548</td>\n",
       "      <td>NaN</td>\n",
       "      <td>NaN</td>\n",
       "      <td>NaN</td>\n",
       "      <td>NaN</td>\n",
       "      <td>19.731548</td>\n",
       "      <td>1256.456824</td>\n",
       "      <td>5111.299047</td>\n",
       "    </tr>\n",
       "    <tr>\n",
       "      <th>75</th>\n",
       "      <td>82</td>\n",
       "      <td>44</td>\n",
       "      <td>4</td>\n",
       "      <td>S and C America</td>\n",
       "      <td>Bahamas</td>\n",
       "      <td>B1</td>\n",
       "      <td>Boat constsruct. &amp; renov.</td>\n",
       "      <td>Capacity-enhancing</td>\n",
       "      <td>0.000000</td>\n",
       "      <td>0</td>\n",
       "      <td>...</td>\n",
       "      <td>100.000000</td>\n",
       "      <td>0.221848</td>\n",
       "      <td>22.184813</td>\n",
       "      <td>NaN</td>\n",
       "      <td>NaN</td>\n",
       "      <td>NaN</td>\n",
       "      <td>NaN</td>\n",
       "      <td>22.184813</td>\n",
       "      <td>0.000000</td>\n",
       "      <td>0.000000</td>\n",
       "    </tr>\n",
       "    <tr>\n",
       "      <th>76</th>\n",
       "      <td>83</td>\n",
       "      <td>44</td>\n",
       "      <td>4</td>\n",
       "      <td>S and C America</td>\n",
       "      <td>Bahamas</td>\n",
       "      <td>B2</td>\n",
       "      <td>Fisheries dev. projects</td>\n",
       "      <td>Capacity-enhancing</td>\n",
       "      <td>0.000000</td>\n",
       "      <td>0</td>\n",
       "      <td>...</td>\n",
       "      <td>82.274301</td>\n",
       "      <td>0.221848</td>\n",
       "      <td>18.252400</td>\n",
       "      <td>NaN</td>\n",
       "      <td>NaN</td>\n",
       "      <td>NaN</td>\n",
       "      <td>NaN</td>\n",
       "      <td>18.252400</td>\n",
       "      <td>0.000000</td>\n",
       "      <td>0.000000</td>\n",
       "    </tr>\n",
       "    <tr>\n",
       "      <th>77</th>\n",
       "      <td>84</td>\n",
       "      <td>44</td>\n",
       "      <td>4</td>\n",
       "      <td>S and C America</td>\n",
       "      <td>Bahamas</td>\n",
       "      <td>B3</td>\n",
       "      <td>Fishing port develop.</td>\n",
       "      <td>Capacity-enhancing</td>\n",
       "      <td>0.000000</td>\n",
       "      <td>0</td>\n",
       "      <td>...</td>\n",
       "      <td>NaN</td>\n",
       "      <td>0.221848</td>\n",
       "      <td>NaN</td>\n",
       "      <td>NaN</td>\n",
       "      <td>NaN</td>\n",
       "      <td>NaN</td>\n",
       "      <td>NaN</td>\n",
       "      <td>NaN</td>\n",
       "      <td>NaN</td>\n",
       "      <td>NaN</td>\n",
       "    </tr>\n",
       "    <tr>\n",
       "      <th>78</th>\n",
       "      <td>85</td>\n",
       "      <td>44</td>\n",
       "      <td>4</td>\n",
       "      <td>S and C America</td>\n",
       "      <td>Bahamas</td>\n",
       "      <td>B4</td>\n",
       "      <td>Markt. &amp; storage infrast.</td>\n",
       "      <td>Capacity-enhancing</td>\n",
       "      <td>0.000000</td>\n",
       "      <td>0</td>\n",
       "      <td>...</td>\n",
       "      <td>100.000000</td>\n",
       "      <td>0.221848</td>\n",
       "      <td>22.184813</td>\n",
       "      <td>NaN</td>\n",
       "      <td>NaN</td>\n",
       "      <td>NaN</td>\n",
       "      <td>NaN</td>\n",
       "      <td>22.184813</td>\n",
       "      <td>0.000000</td>\n",
       "      <td>0.000000</td>\n",
       "    </tr>\n",
       "    <tr>\n",
       "      <th>79</th>\n",
       "      <td>86</td>\n",
       "      <td>44</td>\n",
       "      <td>4</td>\n",
       "      <td>S and C America</td>\n",
       "      <td>Bahamas</td>\n",
       "      <td>B5</td>\n",
       "      <td>Tax exemption</td>\n",
       "      <td>Capacity-enhancing</td>\n",
       "      <td>3183.204185</td>\n",
       "      <td>0</td>\n",
       "      <td>...</td>\n",
       "      <td>NaN</td>\n",
       "      <td>0.221848</td>\n",
       "      <td>NaN</td>\n",
       "      <td>NaN</td>\n",
       "      <td>NaN</td>\n",
       "      <td>NaN</td>\n",
       "      <td>NaN</td>\n",
       "      <td>NaN</td>\n",
       "      <td>NaN</td>\n",
       "      <td>NaN</td>\n",
       "    </tr>\n",
       "    <tr>\n",
       "      <th>80</th>\n",
       "      <td>87</td>\n",
       "      <td>44</td>\n",
       "      <td>4</td>\n",
       "      <td>S and C America</td>\n",
       "      <td>Bahamas</td>\n",
       "      <td>B6</td>\n",
       "      <td>Fishing access</td>\n",
       "      <td>Capacity-enhancing</td>\n",
       "      <td>0.000000</td>\n",
       "      <td>0</td>\n",
       "      <td>...</td>\n",
       "      <td>NaN</td>\n",
       "      <td>0.221848</td>\n",
       "      <td>NaN</td>\n",
       "      <td>NaN</td>\n",
       "      <td>NaN</td>\n",
       "      <td>NaN</td>\n",
       "      <td>NaN</td>\n",
       "      <td>NaN</td>\n",
       "      <td>NaN</td>\n",
       "      <td>NaN</td>\n",
       "    </tr>\n",
       "    <tr>\n",
       "      <th>81</th>\n",
       "      <td>89</td>\n",
       "      <td>44</td>\n",
       "      <td>4</td>\n",
       "      <td>S and C America</td>\n",
       "      <td>Bahamas</td>\n",
       "      <td>C1</td>\n",
       "      <td>Fisher assistance</td>\n",
       "      <td>Ambiguous</td>\n",
       "      <td>0.000000</td>\n",
       "      <td>0</td>\n",
       "      <td>...</td>\n",
       "      <td>NaN</td>\n",
       "      <td>0.221848</td>\n",
       "      <td>NaN</td>\n",
       "      <td>NaN</td>\n",
       "      <td>NaN</td>\n",
       "      <td>NaN</td>\n",
       "      <td>NaN</td>\n",
       "      <td>NaN</td>\n",
       "      <td>NaN</td>\n",
       "      <td>NaN</td>\n",
       "    </tr>\n",
       "    <tr>\n",
       "      <th>82</th>\n",
       "      <td>90</td>\n",
       "      <td>44</td>\n",
       "      <td>4</td>\n",
       "      <td>S and C America</td>\n",
       "      <td>Bahamas</td>\n",
       "      <td>C2</td>\n",
       "      <td>Vessel buyback</td>\n",
       "      <td>Ambiguous</td>\n",
       "      <td>0.000000</td>\n",
       "      <td>0</td>\n",
       "      <td>...</td>\n",
       "      <td>NaN</td>\n",
       "      <td>0.221848</td>\n",
       "      <td>NaN</td>\n",
       "      <td>NaN</td>\n",
       "      <td>NaN</td>\n",
       "      <td>NaN</td>\n",
       "      <td>NaN</td>\n",
       "      <td>NaN</td>\n",
       "      <td>NaN</td>\n",
       "      <td>NaN</td>\n",
       "    </tr>\n",
       "    <tr>\n",
       "      <th>83</th>\n",
       "      <td>91</td>\n",
       "      <td>44</td>\n",
       "      <td>4</td>\n",
       "      <td>S and C America</td>\n",
       "      <td>Bahamas</td>\n",
       "      <td>C3</td>\n",
       "      <td>Rural fisher communities</td>\n",
       "      <td>Ambiguous</td>\n",
       "      <td>0.000000</td>\n",
       "      <td>0</td>\n",
       "      <td>...</td>\n",
       "      <td>100.000000</td>\n",
       "      <td>0.221848</td>\n",
       "      <td>22.184813</td>\n",
       "      <td>NaN</td>\n",
       "      <td>NaN</td>\n",
       "      <td>NaN</td>\n",
       "      <td>NaN</td>\n",
       "      <td>22.184813</td>\n",
       "      <td>0.000000</td>\n",
       "      <td>0.000000</td>\n",
       "    </tr>\n",
       "    <tr>\n",
       "      <th>84</th>\n",
       "      <td>92</td>\n",
       "      <td>48</td>\n",
       "      <td>2</td>\n",
       "      <td>Asia</td>\n",
       "      <td>Bahrain</td>\n",
       "      <td>A1</td>\n",
       "      <td>Fisheries mangt.</td>\n",
       "      <td>Beneficial</td>\n",
       "      <td>4742.404576</td>\n",
       "      <td>0</td>\n",
       "      <td>...</td>\n",
       "      <td>55.184815</td>\n",
       "      <td>2.414710</td>\n",
       "      <td>133.255332</td>\n",
       "      <td>NaN</td>\n",
       "      <td>NaN</td>\n",
       "      <td>NaN</td>\n",
       "      <td>NaN</td>\n",
       "      <td>133.255332</td>\n",
       "      <td>6319.506972</td>\n",
       "      <td>-1577.102396</td>\n",
       "    </tr>\n",
       "    <tr>\n",
       "      <th>85</th>\n",
       "      <td>93</td>\n",
       "      <td>48</td>\n",
       "      <td>2</td>\n",
       "      <td>Asia</td>\n",
       "      <td>Bahrain</td>\n",
       "      <td>A2</td>\n",
       "      <td>Fishery R&amp;D</td>\n",
       "      <td>Beneficial</td>\n",
       "      <td>1259.211357</td>\n",
       "      <td>0</td>\n",
       "      <td>...</td>\n",
       "      <td>54.058162</td>\n",
       "      <td>2.414710</td>\n",
       "      <td>130.534790</td>\n",
       "      <td>NaN</td>\n",
       "      <td>NaN</td>\n",
       "      <td>NaN</td>\n",
       "      <td>NaN</td>\n",
       "      <td>130.534790</td>\n",
       "      <td>1643.708904</td>\n",
       "      <td>-384.497547</td>\n",
       "    </tr>\n",
       "    <tr>\n",
       "      <th>86</th>\n",
       "      <td>94</td>\n",
       "      <td>48</td>\n",
       "      <td>2</td>\n",
       "      <td>Asia</td>\n",
       "      <td>Bahrain</td>\n",
       "      <td>A3</td>\n",
       "      <td>MPAs</td>\n",
       "      <td>Beneficial</td>\n",
       "      <td>490.020074</td>\n",
       "      <td>0</td>\n",
       "      <td>...</td>\n",
       "      <td>28.637529</td>\n",
       "      <td>2.414710</td>\n",
       "      <td>69.151332</td>\n",
       "      <td>NaN</td>\n",
       "      <td>NaN</td>\n",
       "      <td>NaN</td>\n",
       "      <td>NaN</td>\n",
       "      <td>69.151332</td>\n",
       "      <td>338.855407</td>\n",
       "      <td>151.164667</td>\n",
       "    </tr>\n",
       "    <tr>\n",
       "      <th>87</th>\n",
       "      <td>95</td>\n",
       "      <td>48</td>\n",
       "      <td>2</td>\n",
       "      <td>Asia</td>\n",
       "      <td>Bahrain</td>\n",
       "      <td>B1</td>\n",
       "      <td>Boat constsruct. &amp; renov.</td>\n",
       "      <td>Capacity-enhancing</td>\n",
       "      <td>3657.738472</td>\n",
       "      <td>0</td>\n",
       "      <td>...</td>\n",
       "      <td>0.000000</td>\n",
       "      <td>2.110636</td>\n",
       "      <td>0.000000</td>\n",
       "      <td>NaN</td>\n",
       "      <td>NaN</td>\n",
       "      <td>NaN</td>\n",
       "      <td>NaN</td>\n",
       "      <td>0.000000</td>\n",
       "      <td>0.000000</td>\n",
       "      <td>3657.738472</td>\n",
       "    </tr>\n",
       "    <tr>\n",
       "      <th>88</th>\n",
       "      <td>96</td>\n",
       "      <td>48</td>\n",
       "      <td>2</td>\n",
       "      <td>Asia</td>\n",
       "      <td>Bahrain</td>\n",
       "      <td>B2</td>\n",
       "      <td>Fisheries dev. projects</td>\n",
       "      <td>Capacity-enhancing</td>\n",
       "      <td>0.000000</td>\n",
       "      <td>0</td>\n",
       "      <td>...</td>\n",
       "      <td>37.371542</td>\n",
       "      <td>2.110636</td>\n",
       "      <td>78.877703</td>\n",
       "      <td>NaN</td>\n",
       "      <td>NaN</td>\n",
       "      <td>NaN</td>\n",
       "      <td>NaN</td>\n",
       "      <td>78.877703</td>\n",
       "      <td>0.000000</td>\n",
       "      <td>0.000000</td>\n",
       "    </tr>\n",
       "    <tr>\n",
       "      <th>89</th>\n",
       "      <td>97</td>\n",
       "      <td>48</td>\n",
       "      <td>2</td>\n",
       "      <td>Asia</td>\n",
       "      <td>Bahrain</td>\n",
       "      <td>B3</td>\n",
       "      <td>Fishing port develop.</td>\n",
       "      <td>Capacity-enhancing</td>\n",
       "      <td>1985.080540</td>\n",
       "      <td>0</td>\n",
       "      <td>...</td>\n",
       "      <td>NaN</td>\n",
       "      <td>2.110636</td>\n",
       "      <td>NaN</td>\n",
       "      <td>NaN</td>\n",
       "      <td>NaN</td>\n",
       "      <td>NaN</td>\n",
       "      <td>NaN</td>\n",
       "      <td>NaN</td>\n",
       "      <td>NaN</td>\n",
       "      <td>NaN</td>\n",
       "    </tr>\n",
       "    <tr>\n",
       "      <th>90</th>\n",
       "      <td>98</td>\n",
       "      <td>48</td>\n",
       "      <td>2</td>\n",
       "      <td>Asia</td>\n",
       "      <td>Bahrain</td>\n",
       "      <td>B4</td>\n",
       "      <td>Markt. &amp; storage infrast.</td>\n",
       "      <td>Capacity-enhancing</td>\n",
       "      <td>0.000000</td>\n",
       "      <td>0</td>\n",
       "      <td>...</td>\n",
       "      <td>39.898846</td>\n",
       "      <td>2.110636</td>\n",
       "      <td>84.211921</td>\n",
       "      <td>NaN</td>\n",
       "      <td>NaN</td>\n",
       "      <td>NaN</td>\n",
       "      <td>NaN</td>\n",
       "      <td>84.211921</td>\n",
       "      <td>0.000000</td>\n",
       "      <td>0.000000</td>\n",
       "    </tr>\n",
       "    <tr>\n",
       "      <th>91</th>\n",
       "      <td>99</td>\n",
       "      <td>48</td>\n",
       "      <td>2</td>\n",
       "      <td>Asia</td>\n",
       "      <td>Bahrain</td>\n",
       "      <td>B5</td>\n",
       "      <td>Tax exemption</td>\n",
       "      <td>Capacity-enhancing</td>\n",
       "      <td>383.312664</td>\n",
       "      <td>0</td>\n",
       "      <td>...</td>\n",
       "      <td>78.500000</td>\n",
       "      <td>2.110636</td>\n",
       "      <td>165.684888</td>\n",
       "      <td>NaN</td>\n",
       "      <td>NaN</td>\n",
       "      <td>NaN</td>\n",
       "      <td>NaN</td>\n",
       "      <td>165.684888</td>\n",
       "      <td>635.091157</td>\n",
       "      <td>-251.778494</td>\n",
       "    </tr>\n",
       "    <tr>\n",
       "      <th>92</th>\n",
       "      <td>100</td>\n",
       "      <td>48</td>\n",
       "      <td>2</td>\n",
       "      <td>Asia</td>\n",
       "      <td>Bahrain</td>\n",
       "      <td>B6</td>\n",
       "      <td>Fishing access</td>\n",
       "      <td>Capacity-enhancing</td>\n",
       "      <td>0.000000</td>\n",
       "      <td>0</td>\n",
       "      <td>...</td>\n",
       "      <td>NaN</td>\n",
       "      <td>2.110636</td>\n",
       "      <td>NaN</td>\n",
       "      <td>NaN</td>\n",
       "      <td>NaN</td>\n",
       "      <td>NaN</td>\n",
       "      <td>NaN</td>\n",
       "      <td>NaN</td>\n",
       "      <td>NaN</td>\n",
       "      <td>NaN</td>\n",
       "    </tr>\n",
       "    <tr>\n",
       "      <th>93</th>\n",
       "      <td>102</td>\n",
       "      <td>48</td>\n",
       "      <td>2</td>\n",
       "      <td>Asia</td>\n",
       "      <td>Bahrain</td>\n",
       "      <td>C1</td>\n",
       "      <td>Fisher assistance</td>\n",
       "      <td>Ambiguous</td>\n",
       "      <td>1476.704093</td>\n",
       "      <td>0</td>\n",
       "      <td>...</td>\n",
       "      <td>NaN</td>\n",
       "      <td>2.110636</td>\n",
       "      <td>NaN</td>\n",
       "      <td>NaN</td>\n",
       "      <td>NaN</td>\n",
       "      <td>NaN</td>\n",
       "      <td>NaN</td>\n",
       "      <td>NaN</td>\n",
       "      <td>NaN</td>\n",
       "      <td>NaN</td>\n",
       "    </tr>\n",
       "    <tr>\n",
       "      <th>94</th>\n",
       "      <td>103</td>\n",
       "      <td>48</td>\n",
       "      <td>2</td>\n",
       "      <td>Asia</td>\n",
       "      <td>Bahrain</td>\n",
       "      <td>C2</td>\n",
       "      <td>Vessel buyback</td>\n",
       "      <td>Ambiguous</td>\n",
       "      <td>0.000000</td>\n",
       "      <td>0</td>\n",
       "      <td>...</td>\n",
       "      <td>NaN</td>\n",
       "      <td>2.110636</td>\n",
       "      <td>NaN</td>\n",
       "      <td>NaN</td>\n",
       "      <td>NaN</td>\n",
       "      <td>NaN</td>\n",
       "      <td>NaN</td>\n",
       "      <td>NaN</td>\n",
       "      <td>NaN</td>\n",
       "      <td>NaN</td>\n",
       "    </tr>\n",
       "    <tr>\n",
       "      <th>95</th>\n",
       "      <td>104</td>\n",
       "      <td>48</td>\n",
       "      <td>2</td>\n",
       "      <td>Asia</td>\n",
       "      <td>Bahrain</td>\n",
       "      <td>C3</td>\n",
       "      <td>Rural fisher communities</td>\n",
       "      <td>Ambiguous</td>\n",
       "      <td>0.000000</td>\n",
       "      <td>0</td>\n",
       "      <td>...</td>\n",
       "      <td>100.000000</td>\n",
       "      <td>2.110636</td>\n",
       "      <td>211.063552</td>\n",
       "      <td>NaN</td>\n",
       "      <td>NaN</td>\n",
       "      <td>NaN</td>\n",
       "      <td>NaN</td>\n",
       "      <td>211.063552</td>\n",
       "      <td>0.000000</td>\n",
       "      <td>0.000000</td>\n",
       "    </tr>\n",
       "    <tr>\n",
       "      <th>96</th>\n",
       "      <td>105</td>\n",
       "      <td>50</td>\n",
       "      <td>2</td>\n",
       "      <td>Asia</td>\n",
       "      <td>Bangladesh</td>\n",
       "      <td>A1</td>\n",
       "      <td>Fisheries mangt.</td>\n",
       "      <td>Beneficial</td>\n",
       "      <td>32023.505057</td>\n",
       "      <td>0</td>\n",
       "      <td>...</td>\n",
       "      <td>51.791692</td>\n",
       "      <td>1.661223</td>\n",
       "      <td>86.037531</td>\n",
       "      <td>NaN</td>\n",
       "      <td>NaN</td>\n",
       "      <td>NaN</td>\n",
       "      <td>NaN</td>\n",
       "      <td>86.037531</td>\n",
       "      <td>27552.232986</td>\n",
       "      <td>4471.272071</td>\n",
       "    </tr>\n",
       "    <tr>\n",
       "      <th>97</th>\n",
       "      <td>106</td>\n",
       "      <td>50</td>\n",
       "      <td>2</td>\n",
       "      <td>Asia</td>\n",
       "      <td>Bangladesh</td>\n",
       "      <td>A2</td>\n",
       "      <td>Fishery R&amp;D</td>\n",
       "      <td>Beneficial</td>\n",
       "      <td>22182.082452</td>\n",
       "      <td>0</td>\n",
       "      <td>...</td>\n",
       "      <td>51.935335</td>\n",
       "      <td>1.661223</td>\n",
       "      <td>86.276154</td>\n",
       "      <td>NaN</td>\n",
       "      <td>NaN</td>\n",
       "      <td>NaN</td>\n",
       "      <td>NaN</td>\n",
       "      <td>86.276154</td>\n",
       "      <td>19137.847552</td>\n",
       "      <td>3044.234901</td>\n",
       "    </tr>\n",
       "    <tr>\n",
       "      <th>98</th>\n",
       "      <td>107</td>\n",
       "      <td>50</td>\n",
       "      <td>2</td>\n",
       "      <td>Asia</td>\n",
       "      <td>Bangladesh</td>\n",
       "      <td>A3</td>\n",
       "      <td>MPAs</td>\n",
       "      <td>Beneficial</td>\n",
       "      <td>573.272741</td>\n",
       "      <td>0</td>\n",
       "      <td>...</td>\n",
       "      <td>49.400139</td>\n",
       "      <td>1.661223</td>\n",
       "      <td>82.064629</td>\n",
       "      <td>NaN</td>\n",
       "      <td>NaN</td>\n",
       "      <td>NaN</td>\n",
       "      <td>NaN</td>\n",
       "      <td>82.064629</td>\n",
       "      <td>470.454148</td>\n",
       "      <td>102.818592</td>\n",
       "    </tr>\n",
       "    <tr>\n",
       "      <th>99</th>\n",
       "      <td>108</td>\n",
       "      <td>50</td>\n",
       "      <td>2</td>\n",
       "      <td>Asia</td>\n",
       "      <td>Bangladesh</td>\n",
       "      <td>B1</td>\n",
       "      <td>Boat constsruct. &amp; renov.</td>\n",
       "      <td>Capacity-enhancing</td>\n",
       "      <td>0.000000</td>\n",
       "      <td>0</td>\n",
       "      <td>...</td>\n",
       "      <td>55.585967</td>\n",
       "      <td>1.718040</td>\n",
       "      <td>95.498927</td>\n",
       "      <td>NaN</td>\n",
       "      <td>NaN</td>\n",
       "      <td>NaN</td>\n",
       "      <td>NaN</td>\n",
       "      <td>95.498927</td>\n",
       "      <td>0.000000</td>\n",
       "      <td>0.000000</td>\n",
       "    </tr>\n",
       "  </tbody>\n",
       "</table>\n",
       "<p>40 rows × 41 columns</p>\n",
       "</div>"
      ],
      "text/plain": [
       "     ID  Cnumber  RegionID       RegionName   Countries Type  \\\n",
       "60   66       36         5          Oceania   Australia   A1   \n",
       "61   67       36         5          Oceania   Australia   A2   \n",
       "62   68       36         5          Oceania   Australia   A3   \n",
       "63   69       36         5          Oceania   Australia   B1   \n",
       "64   70       36         5          Oceania   Australia   B2   \n",
       "65   71       36         5          Oceania   Australia   B3   \n",
       "66   72       36         5          Oceania   Australia   B4   \n",
       "67   73       36         5          Oceania   Australia   B5   \n",
       "68   74       36         5          Oceania   Australia   B6   \n",
       "69   76       36         5          Oceania   Australia   C1   \n",
       "70   77       36         5          Oceania   Australia   C2   \n",
       "71   78       36         5          Oceania   Australia   C3   \n",
       "72   79       44         4  S and C America     Bahamas   A1   \n",
       "73   80       44         4  S and C America     Bahamas   A2   \n",
       "74   81       44         4  S and C America     Bahamas   A3   \n",
       "75   82       44         4  S and C America     Bahamas   B1   \n",
       "76   83       44         4  S and C America     Bahamas   B2   \n",
       "77   84       44         4  S and C America     Bahamas   B3   \n",
       "78   85       44         4  S and C America     Bahamas   B4   \n",
       "79   86       44         4  S and C America     Bahamas   B5   \n",
       "80   87       44         4  S and C America     Bahamas   B6   \n",
       "81   89       44         4  S and C America     Bahamas   C1   \n",
       "82   90       44         4  S and C America     Bahamas   C2   \n",
       "83   91       44         4  S and C America     Bahamas   C3   \n",
       "84   92       48         2             Asia     Bahrain   A1   \n",
       "85   93       48         2             Asia     Bahrain   A2   \n",
       "86   94       48         2             Asia     Bahrain   A3   \n",
       "87   95       48         2             Asia     Bahrain   B1   \n",
       "88   96       48         2             Asia     Bahrain   B2   \n",
       "89   97       48         2             Asia     Bahrain   B3   \n",
       "90   98       48         2             Asia     Bahrain   B4   \n",
       "91   99       48         2             Asia     Bahrain   B5   \n",
       "92  100       48         2             Asia     Bahrain   B6   \n",
       "93  102       48         2             Asia     Bahrain   C1   \n",
       "94  103       48         2             Asia     Bahrain   C2   \n",
       "95  104       48         2             Asia     Bahrain   C3   \n",
       "96  105       50         2             Asia  Bangladesh   A1   \n",
       "97  106       50         2             Asia  Bangladesh   A2   \n",
       "98  107       50         2             Asia  Bangladesh   A3   \n",
       "99  108       50         2             Asia  Bangladesh   B1   \n",
       "\n",
       "                      SubType            Category  total subsidies  NewData  \\\n",
       "60           Fisheries mangt.          Beneficial     61780.418490        0   \n",
       "61                Fishery R&D          Beneficial      9922.318280        0   \n",
       "62                       MPAs          Beneficial     72077.407561        1   \n",
       "63  Boat constsruct. & renov.  Capacity-enhancing     89014.750270        0   \n",
       "64    Fisheries dev. projects  Capacity-enhancing         0.000000        0   \n",
       "65      Fishing port develop.  Capacity-enhancing         0.000000        0   \n",
       "66  Markt. & storage infrast.  Capacity-enhancing         0.000000        0   \n",
       "67              Tax exemption  Capacity-enhancing         0.000000        0   \n",
       "68             Fishing access  Capacity-enhancing         0.000000        0   \n",
       "69          Fisher assistance           Ambiguous     28262.262712        0   \n",
       "70             Vessel buyback           Ambiguous    168997.617791        0   \n",
       "71   Rural fisher communities           Ambiguous         0.000000        0   \n",
       "72           Fisheries mangt.          Beneficial       163.967094        0   \n",
       "73                Fishery R&D          Beneficial      4325.619257        0   \n",
       "74                       MPAs          Beneficial      6367.755870        0   \n",
       "75  Boat constsruct. & renov.  Capacity-enhancing         0.000000        0   \n",
       "76    Fisheries dev. projects  Capacity-enhancing         0.000000        0   \n",
       "77      Fishing port develop.  Capacity-enhancing         0.000000        0   \n",
       "78  Markt. & storage infrast.  Capacity-enhancing         0.000000        0   \n",
       "79              Tax exemption  Capacity-enhancing      3183.204185        0   \n",
       "80             Fishing access  Capacity-enhancing         0.000000        0   \n",
       "81          Fisher assistance           Ambiguous         0.000000        0   \n",
       "82             Vessel buyback           Ambiguous         0.000000        0   \n",
       "83   Rural fisher communities           Ambiguous         0.000000        0   \n",
       "84           Fisheries mangt.          Beneficial      4742.404576        0   \n",
       "85                Fishery R&D          Beneficial      1259.211357        0   \n",
       "86                       MPAs          Beneficial       490.020074        0   \n",
       "87  Boat constsruct. & renov.  Capacity-enhancing      3657.738472        0   \n",
       "88    Fisheries dev. projects  Capacity-enhancing         0.000000        0   \n",
       "89      Fishing port develop.  Capacity-enhancing      1985.080540        0   \n",
       "90  Markt. & storage infrast.  Capacity-enhancing         0.000000        0   \n",
       "91              Tax exemption  Capacity-enhancing       383.312664        0   \n",
       "92             Fishing access  Capacity-enhancing         0.000000        0   \n",
       "93          Fisher assistance           Ambiguous      1476.704093        0   \n",
       "94             Vessel buyback           Ambiguous         0.000000        0   \n",
       "95   Rural fisher communities           Ambiguous         0.000000        0   \n",
       "96           Fisheries mangt.          Beneficial     32023.505057        0   \n",
       "97                Fishery R&D          Beneficial     22182.082452        0   \n",
       "98                       MPAs          Beneficial       573.272741        0   \n",
       "99  Boat constsruct. & renov.  Capacity-enhancing         0.000000        0   \n",
       "\n",
       "        ...       mean_subsidies    Factor SSF_subsidies_estimates  \\\n",
       "60      ...            16.578444  0.982318               16.285300   \n",
       "61      ...            17.146119  0.982318               16.842937   \n",
       "62      ...            18.949043  0.982318               18.613981   \n",
       "63      ...            17.146119  1.113140               19.086038   \n",
       "64      ...                  NaN  1.113140                     NaN   \n",
       "65      ...                  NaN  1.113140                     NaN   \n",
       "66      ...                  NaN  1.113140                     NaN   \n",
       "67      ...                  NaN  1.113140                     NaN   \n",
       "68      ...                  NaN  1.113140                     NaN   \n",
       "69      ...           100.000000  1.113140              111.314046   \n",
       "70      ...             0.000000  1.113140                0.000000   \n",
       "71      ...                  NaN  1.113140                     NaN   \n",
       "72      ...            93.207957  0.208564               19.439806   \n",
       "73      ...                  NaN  0.208564                     NaN   \n",
       "74      ...            94.606770  0.208564               19.731548   \n",
       "75      ...           100.000000  0.221848               22.184813   \n",
       "76      ...            82.274301  0.221848               18.252400   \n",
       "77      ...                  NaN  0.221848                     NaN   \n",
       "78      ...           100.000000  0.221848               22.184813   \n",
       "79      ...                  NaN  0.221848                     NaN   \n",
       "80      ...                  NaN  0.221848                     NaN   \n",
       "81      ...                  NaN  0.221848                     NaN   \n",
       "82      ...                  NaN  0.221848                     NaN   \n",
       "83      ...           100.000000  0.221848               22.184813   \n",
       "84      ...            55.184815  2.414710              133.255332   \n",
       "85      ...            54.058162  2.414710              130.534790   \n",
       "86      ...            28.637529  2.414710               69.151332   \n",
       "87      ...             0.000000  2.110636                0.000000   \n",
       "88      ...            37.371542  2.110636               78.877703   \n",
       "89      ...                  NaN  2.110636                     NaN   \n",
       "90      ...            39.898846  2.110636               84.211921   \n",
       "91      ...            78.500000  2.110636              165.684888   \n",
       "92      ...                  NaN  2.110636                     NaN   \n",
       "93      ...                  NaN  2.110636                     NaN   \n",
       "94      ...                  NaN  2.110636                     NaN   \n",
       "95      ...           100.000000  2.110636              211.063552   \n",
       "96      ...            51.791692  1.661223               86.037531   \n",
       "97      ...            51.935335  1.661223               86.276154   \n",
       "98      ...            49.400139  1.661223               82.064629   \n",
       "99      ...            55.585967  1.718040               95.498927   \n",
       "\n",
       "    SSFsubsidies_assessed_percent weighted_by_sectorsize  Data_group  \\\n",
       "60                      19.461492                   TRUE           3   \n",
       "61                      17.146119                   TRUE           3   \n",
       "62                      19.461492                   TRUE           3   \n",
       "63                      17.146119                   TRUE           3   \n",
       "64                            NaN                    NaN         NaN   \n",
       "65                            NaN                    NaN         NaN   \n",
       "66                            NaN                    NaN         NaN   \n",
       "67                            NaN                    NaN         NaN   \n",
       "68                            NaN                    NaN         NaN   \n",
       "69                     100.000000                   TRUE           2   \n",
       "70                       0.000000                      1           3   \n",
       "71                            NaN                    NaN         NaN   \n",
       "72                            NaN                    NaN         NaN   \n",
       "73                            NaN                    NaN         NaN   \n",
       "74                            NaN                    NaN         NaN   \n",
       "75                            NaN                    NaN         NaN   \n",
       "76                            NaN                    NaN         NaN   \n",
       "77                            NaN                    NaN         NaN   \n",
       "78                            NaN                    NaN         NaN   \n",
       "79                            NaN                    NaN         NaN   \n",
       "80                            NaN                    NaN         NaN   \n",
       "81                            NaN                    NaN         NaN   \n",
       "82                            NaN                    NaN         NaN   \n",
       "83                            NaN                    NaN         NaN   \n",
       "84                            NaN                    NaN         NaN   \n",
       "85                            NaN                    NaN         NaN   \n",
       "86                            NaN                    NaN         NaN   \n",
       "87                            NaN                    NaN         NaN   \n",
       "88                            NaN                    NaN         NaN   \n",
       "89                            NaN                    NaN         NaN   \n",
       "90                            NaN                    NaN         NaN   \n",
       "91                            NaN                    NaN         NaN   \n",
       "92                            NaN                    NaN         NaN   \n",
       "93                            NaN                    NaN         NaN   \n",
       "94                            NaN                    NaN         NaN   \n",
       "95                            NaN                    NaN         NaN   \n",
       "96                            NaN                    NaN         NaN   \n",
       "97                            NaN                    NaN         NaN   \n",
       "98                            NaN                    NaN         NaN   \n",
       "99                            NaN                    NaN         NaN   \n",
       "\n",
       "    SSF_USD_1000  SSF_subsidies_percent  SSF subsidies  LSF subsidies  \n",
       "60  12023.391151              19.461492   12023.391151   49757.027339  \n",
       "61   1701.292472              17.146119    1701.292472    8221.025808  \n",
       "62  14027.338847              19.461492   14027.338847   58050.068714  \n",
       "63  15262.574761              17.146119   15262.574761   73752.175509  \n",
       "64           NaN                    NaN            NaN            NaN  \n",
       "65           NaN                    NaN            NaN            NaN  \n",
       "66           NaN                    NaN            NaN            NaN  \n",
       "67           NaN                    NaN            NaN            NaN  \n",
       "68           NaN                    NaN            NaN            NaN  \n",
       "69  28262.262712             100.000000   28262.262712       0.000000  \n",
       "70      0.000000               0.000000       0.000000  168997.617791  \n",
       "71           NaN                    NaN            NaN            NaN  \n",
       "72           NaN              19.439806      31.874886     132.092209  \n",
       "73           NaN                    NaN            NaN            NaN  \n",
       "74           NaN              19.731548    1256.456824    5111.299047  \n",
       "75           NaN              22.184813       0.000000       0.000000  \n",
       "76           NaN              18.252400       0.000000       0.000000  \n",
       "77           NaN                    NaN            NaN            NaN  \n",
       "78           NaN              22.184813       0.000000       0.000000  \n",
       "79           NaN                    NaN            NaN            NaN  \n",
       "80           NaN                    NaN            NaN            NaN  \n",
       "81           NaN                    NaN            NaN            NaN  \n",
       "82           NaN                    NaN            NaN            NaN  \n",
       "83           NaN              22.184813       0.000000       0.000000  \n",
       "84           NaN             133.255332    6319.506972   -1577.102396  \n",
       "85           NaN             130.534790    1643.708904    -384.497547  \n",
       "86           NaN              69.151332     338.855407     151.164667  \n",
       "87           NaN               0.000000       0.000000    3657.738472  \n",
       "88           NaN              78.877703       0.000000       0.000000  \n",
       "89           NaN                    NaN            NaN            NaN  \n",
       "90           NaN              84.211921       0.000000       0.000000  \n",
       "91           NaN             165.684888     635.091157    -251.778494  \n",
       "92           NaN                    NaN            NaN            NaN  \n",
       "93           NaN                    NaN            NaN            NaN  \n",
       "94           NaN                    NaN            NaN            NaN  \n",
       "95           NaN             211.063552       0.000000       0.000000  \n",
       "96           NaN              86.037531   27552.232986    4471.272071  \n",
       "97           NaN              86.276154   19137.847552    3044.234901  \n",
       "98           NaN              82.064629     470.454148     102.818592  \n",
       "99           NaN              95.498927       0.000000       0.000000  \n",
       "\n",
       "[40 rows x 41 columns]"
      ]
     },
     "execution_count": 325,
     "metadata": {},
     "output_type": "execute_result"
    }
   ],
   "source": [
    "SSF_subsidies_estimates_assessed.iloc[60:100]"
   ]
  },
  {
   "cell_type": "code",
   "execution_count": 326,
   "metadata": {
    "collapsed": false
   },
   "outputs": [],
   "source": [
    "SSF_subsidies_subregions = SSF_subsidies_estimates_assessed.groupby(['Subregion']).sum()"
   ]
  },
  {
   "cell_type": "code",
   "execution_count": 327,
   "metadata": {
    "collapsed": false
   },
   "outputs": [],
   "source": [
    "SSF_subsidies_subregions['SSF_bySubregion_percent'] = SSF_subsidies_subregions['SSF subsidies']/SSF_subsidies_subregions['total subsidies']*100"
   ]
  },
  {
   "cell_type": "code",
   "execution_count": 328,
   "metadata": {
    "collapsed": false
   },
   "outputs": [],
   "source": [
    "SSF_subsidies_subregions1 = SSF_subsidies_subregions.loc[:,['Subregion','total subsidies','SSF subsidies']]"
   ]
  },
  {
   "cell_type": "code",
   "execution_count": 329,
   "metadata": {
    "collapsed": false
   },
   "outputs": [
    {
     "data": {
      "text/plain": [
       "<matplotlib.axes._subplots.AxesSubplot at 0x7f01687d9290>"
      ]
     },
     "execution_count": 329,
     "metadata": {},
     "output_type": "execute_result"
    },
    {
     "data": {
      "image/png": "[encoded data removed]",
      "text/plain": [
       "<matplotlib.figure.Figure at 0x7f01686eb650>"
      ]
     },
     "metadata": {},
     "output_type": "display_data"
    }
   ],
   "source": [
    "SSF_subsidies_subregions1.plot(kind='bar', stacked=True)"
   ]
  },
  {
   "cell_type": "code",
   "execution_count": 330,
   "metadata": {
    "collapsed": true
   },
   "outputs": [],
   "source": [
    "SSF_subsidies_regions = SSF_subsidies_estimates_assessed.groupby(['RegionName']).sum()"
   ]
  },
  {
   "cell_type": "code",
   "execution_count": 331,
   "metadata": {
    "collapsed": false
   },
   "outputs": [],
   "source": [
    "SSF_subsidies_regions1 = SSF_subsidies_regions.loc[:,['RegionName','total subsidies','SSF subsidies']]"
   ]
  },
  {
   "cell_type": "code",
   "execution_count": 332,
   "metadata": {
    "collapsed": false
   },
   "outputs": [
    {
     "data": {
      "text/plain": [
       "<matplotlib.axes._subplots.AxesSubplot at 0x7f0168130f50>"
      ]
     },
     "execution_count": 332,
     "metadata": {},
     "output_type": "execute_result"
    },
    {
     "data": {
      "image/png": "[encoded data removed]",
      "text/plain": [
       "<matplotlib.figure.Figure at 0x7f016a8541d0>"
      ]
     },
     "metadata": {},
     "output_type": "display_data"
    }
   ],
   "source": [
    "SSF_subsidies_regions1.plot(kind='bar', stacked=True)"
   ]
  },
  {
   "cell_type": "code",
   "execution_count": null,
   "metadata": {
    "collapsed": false
   },
   "outputs": [],
   "source": []
  },
  {
   "cell_type": "code",
   "execution_count": 333,
   "metadata": {
    "collapsed": false
   },
   "outputs": [
    {
     "data": {
      "image/png": "[encoded data removed]",
      "text/plain": [
       "<matplotlib.figure.Figure at 0x7f016a813650>"
      ]
     },
     "metadata": {},
     "output_type": "display_data"
    }
   ],
   "source": [
    "ax = SSF_subsidies_regions[['total subsidies','SSF subsidies']].plot(kind='bar',title =\"Fisheries subsidies 2009 in USD\",figsize=(15,10),legend=True, fontsize=12)\n",
    "\n",
    "ax.set_ylabel(\"USD (2009)\",fontsize=15)\n",
    "labels=ax.set_xticklabels(['Africa','Asia','Europe','N. America','Oceania','S. and C. America'],rotation=360)\n",
    "\n",
    "plt.show()"
   ]
  },
  {
   "cell_type": "code",
   "execution_count": 334,
   "metadata": {
    "collapsed": true
   },
   "outputs": [],
   "source": [
    "SSF_subsidies_regions = SSF_subsidies_regions.sort_values(by=['total subsidies'],ascending=False)"
   ]
  },
  {
   "cell_type": "code",
   "execution_count": 335,
   "metadata": {
    "collapsed": false
   },
   "outputs": [],
   "source": [
    "SSF_subsidies_regions['SSF percent per region'] = SSF_subsidies_regions['SSF subsidies']/SSF_subsidies_regions['total subsidies']*100"
   ]
  },
  {
   "cell_type": "code",
   "execution_count": 336,
   "metadata": {
    "collapsed": false
   },
   "outputs": [
    {
     "data": {
      "text/plain": [
       "RegionName\n",
       "Asia               24.320787\n",
       "Europe              7.808365\n",
       "North America      19.120420\n",
       "Oceania             4.351885\n",
       "S and C America    32.175351\n",
       "Africa             32.485492\n",
       "Name: SSF percent per region, dtype: float64"
      ]
     },
     "execution_count": 336,
     "metadata": {},
     "output_type": "execute_result"
    }
   ],
   "source": [
    "SSF_subsidies_regions['SSF percent per region']"
   ]
  },
  {
   "cell_type": "code",
   "execution_count": 337,
   "metadata": {
    "collapsed": false
   },
   "outputs": [
    {
     "data": {
      "image/png": "[encoded data removed]",
      "text/plain": [
       "<matplotlib.figure.Figure at 0x7f01688a5050>"
      ]
     },
     "metadata": {},
     "output_type": "display_data"
    }
   ],
   "source": [
    "ax = SSF_subsidies_regions[['LSF subsidies','SSF subsidies']].plot(kind='bar',title =\"Fisheries subsidies 2009 in USD\", figsize=(15,10),stacked=True, legend=True, fontsize=15)\n",
    "ax.set_ylabel(\"USD\",fontsize=15)\n",
    "ax.set_xlabel(\" \")\n",
    "labels=ax.set_xticklabels(['Asia','Europe','N. America','Oceania','S. and C. America','Africa'],rotation=360)\n",
    "plt.show()"
   ]
  },
  {
   "cell_type": "code",
   "execution_count": 338,
   "metadata": {
    "collapsed": true
   },
   "outputs": [],
   "source": [
    "Subsidies_per_subtype = SSF_subsidies_estimates_assessed.groupby(['SubType']).sum()"
   ]
  },
  {
   "cell_type": "code",
   "execution_count": 339,
   "metadata": {
    "collapsed": true
   },
   "outputs": [],
   "source": [
    "Subsidies_per_subtype = Subsidies_per_subtype.sort_values(by=['total subsidies'],ascending=False)"
   ]
  },
  {
   "cell_type": "code",
   "execution_count": 340,
   "metadata": {
    "collapsed": false
   },
   "outputs": [
    {
     "data": {
      "text/plain": [
       "SubType\n",
       "Fisheries mangt.             1838869.689217\n",
       "Fishing port develop.         721551.333897\n",
       "Boat constsruct. & renov.     502472.772886\n",
       "Fishery R&D                   586440.470801\n",
       "Markt. & storage infrast.     182531.752292\n",
       "Vessel buyback                  3483.168888\n",
       "Fisher assistance             478174.766724\n",
       "MPAs                          271039.484501\n",
       "Tax exemption                 147164.690146\n",
       "Fisheries dev. projects       271515.713462\n",
       "Fishing access                  2772.689895\n",
       "Rural fisher communities      140252.412739\n",
       "Name: SSF subsidies, dtype: float64"
      ]
     },
     "execution_count": 340,
     "metadata": {},
     "output_type": "execute_result"
    }
   ],
   "source": [
    "Subsidies_per_subtype['SSF subsidies']"
   ]
  },
  {
   "cell_type": "code",
   "execution_count": 341,
   "metadata": {
    "collapsed": false
   },
   "outputs": [
    {
     "data": {
      "image/png": "[encoded data removed]",
      "text/plain": [
       "<matplotlib.figure.Figure at 0x7f0168141190>"
      ]
     },
     "metadata": {},
     "output_type": "display_data"
    }
   ],
   "source": [
    "ax = Subsidies_per_subtype[['LSF subsidies','SSF subsidies']].plot(kind='bar',title =\"Fisheries subsidies 2009 in USD\", figsize=(15,10),stacked=True, legend=True, fontsize=15)\n",
    "ax.set_ylabel(\"USD\",fontsize=15)\n",
    "ax.set_xlabel(\"Subtype\",fontsize=15)\n",
    "labels=ax.set_xticklabels(['Management','Port Develop.','Boat construct.','Research and Develop.','Market and storage','Vessel buyback','Fisher assistance','MPAs','Tax exemption','Develop. project','Fishing access','Rural fisher communities'],rotation=60)\n",
    "plt.show()"
   ]
  },
  {
   "cell_type": "code",
   "execution_count": 342,
   "metadata": {
    "collapsed": false
   },
   "outputs": [],
   "source": [
    "Subsidies_category_subtype = SSF_subsidies_estimates_assessed.groupby(['Category','SubType']).sum()"
   ]
  },
  {
   "cell_type": "code",
   "execution_count": 343,
   "metadata": {
    "collapsed": false
   },
   "outputs": [],
   "source": [
    "Subsidies_category_subtype = Subsidies_category_subtype.loc[:,['LSF subsidies','SSF subsidies']]"
   ]
  },
  {
   "cell_type": "code",
   "execution_count": 344,
   "metadata": {
    "collapsed": false
   },
   "outputs": [],
   "source": [
    "Subsidies_category_subtype_transposed = Subsidies_category_subtype.transpose()"
   ]
  },
  {
   "cell_type": "code",
   "execution_count": 345,
   "metadata": {
    "collapsed": false
   },
   "outputs": [
    {
     "data": {
      "text/html": [
       "<div>\n",
       "<table border=\"1\" class=\"dataframe\">\n",
       "  <thead>\n",
       "    <tr>\n",
       "      <th>Category</th>\n",
       "      <th colspan=\"3\" halign=\"left\">Ambiguous</th>\n",
       "      <th colspan=\"3\" halign=\"left\">Beneficial</th>\n",
       "      <th colspan=\"6\" halign=\"left\">Capacity-enhancing</th>\n",
       "    </tr>\n",
       "    <tr>\n",
       "      <th>SubType</th>\n",
       "      <th>Fisher assistance</th>\n",
       "      <th>Rural fisher communities</th>\n",
       "      <th>Vessel buyback</th>\n",
       "      <th>Fisheries mangt.</th>\n",
       "      <th>Fishery R&amp;D</th>\n",
       "      <th>MPAs</th>\n",
       "      <th>Boat constsruct. &amp; renov.</th>\n",
       "      <th>Fisheries dev. projects</th>\n",
       "      <th>Fishing access</th>\n",
       "      <th>Fishing port develop.</th>\n",
       "      <th>Markt. &amp; storage infrast.</th>\n",
       "      <th>Tax exemption</th>\n",
       "    </tr>\n",
       "  </thead>\n",
       "  <tbody>\n",
       "    <tr>\n",
       "      <th>LSF subsidies</th>\n",
       "      <td>1461976.882041</td>\n",
       "      <td>19172.193342</td>\n",
       "      <td>2074451.044869</td>\n",
       "      <td>5291066.380491</td>\n",
       "      <td>2110301.270611</td>\n",
       "      <td>956643.578333</td>\n",
       "      <td>2752806.180759</td>\n",
       "      <td>766069.561453</td>\n",
       "      <td>934505.963324</td>\n",
       "      <td>2736278.891287</td>\n",
       "      <td>2483920.756849</td>\n",
       "      <td>941140.648236</td>\n",
       "    </tr>\n",
       "    <tr>\n",
       "      <th>SSF subsidies</th>\n",
       "      <td>478174.766724</td>\n",
       "      <td>140252.412739</td>\n",
       "      <td>3483.168888</td>\n",
       "      <td>1838869.689217</td>\n",
       "      <td>586440.470801</td>\n",
       "      <td>271039.484501</td>\n",
       "      <td>502472.772886</td>\n",
       "      <td>271515.713462</td>\n",
       "      <td>2772.689895</td>\n",
       "      <td>721551.333897</td>\n",
       "      <td>182531.752292</td>\n",
       "      <td>147164.690146</td>\n",
       "    </tr>\n",
       "  </tbody>\n",
       "</table>\n",
       "</div>"
      ],
      "text/plain": [
       "Category              Ambiguous                                           \\\n",
       "SubType       Fisher assistance Rural fisher communities  Vessel buyback   \n",
       "LSF subsidies    1461976.882041             19172.193342  2074451.044869   \n",
       "SSF subsidies     478174.766724            140252.412739     3483.168888   \n",
       "\n",
       "Category            Beneficial                                 \\\n",
       "SubType       Fisheries mangt.     Fishery R&D           MPAs   \n",
       "LSF subsidies   5291066.380491  2110301.270611  956643.578333   \n",
       "SSF subsidies   1838869.689217   586440.470801  271039.484501   \n",
       "\n",
       "Category             Capacity-enhancing                          \\\n",
       "SubType       Boat constsruct. & renov. Fisheries dev. projects   \n",
       "LSF subsidies            2752806.180759           766069.561453   \n",
       "SSF subsidies             502472.772886           271515.713462   \n",
       "\n",
       "Category                                                                      \\\n",
       "SubType       Fishing access Fishing port develop. Markt. & storage infrast.   \n",
       "LSF subsidies  934505.963324        2736278.891287            2483920.756849   \n",
       "SSF subsidies    2772.689895         721551.333897             182531.752292   \n",
       "\n",
       "Category                      \n",
       "SubType        Tax exemption  \n",
       "LSF subsidies  941140.648236  \n",
       "SSF subsidies  147164.690146  "
      ]
     },
     "execution_count": 345,
     "metadata": {},
     "output_type": "execute_result"
    }
   ],
   "source": [
    "Subsidies_category_subtype_transposed"
   ]
  },
  {
   "cell_type": "code",
   "execution_count": 351,
   "metadata": {
    "collapsed": false
   },
   "outputs": [
    {
     "data": {
      "text/plain": [
       "<matplotlib.text.Text at 0x7f0163ba3f90>"
      ]
     },
     "execution_count": 351,
     "metadata": {},
     "output_type": "execute_result"
    },
    {
     "data": {
      "image/png": "[encoded data removed]",
      "text/plain": [
       "<matplotlib.figure.Figure at 0x7f0163baac10>"
      ]
     },
     "metadata": {},
     "output_type": "display_data"
    }
   ],
   "source": [
    "# source: sam clarke\n",
    "def transform_group_data(data):\n",
    "    '''\n",
    "    Funtion for creating a three-level dict \n",
    "    from a two-level dict with two-tuple as key.\n",
    "    '''\n",
    "    transformed_data = {}\n",
    "    for k, v in data.items():\n",
    "        if k[0] in transformed_data.keys():\n",
    "            transformed_data[k[0]][k[1]] = v\n",
    "        else:\n",
    "            transformed_data[k[0]] = {k[1]: v}\n",
    "    return transformed_data\n",
    "    \n",
    "    \n",
    "# source:  http://stackoverflow.com/questions/19184484/how-to-add-group-labels-for-bar-charts-in-matplotlib\n",
    "def mk_groups(data):\n",
    "    try:\n",
    "        newdata = data.items()\n",
    "    except:\n",
    "        return\n",
    "\n",
    "    thisgroup = []\n",
    "    groups = []\n",
    "    for key, value in newdata:\n",
    "        newgroups = mk_groups(value)\n",
    "        if newgroups is None:\n",
    "            thisgroup.append((key, value))\n",
    "        else:\n",
    "            thisgroup.append((key, len(newgroups[-1])))\n",
    "            if groups:\n",
    "                groups = [g + n for n, g in zip(newgroups, groups)]\n",
    "            else:\n",
    "                groups = newgroups\n",
    "    return [thisgroup] + groups\n",
    "\n",
    "def add_line(ax, xpos, ypos):\n",
    "    line = plt.Line2D([xpos, xpos], [ypos + .1, ypos],\n",
    "                      transform=ax.transAxes, color='black')\n",
    "    line.set_clip_on(False)\n",
    "    ax.add_line(line)\n",
    "\n",
    "def label_group_bar(ax, data):\n",
    "    groups = mk_groups(data)\n",
    "    xy = groups.pop()\n",
    "    x, y = zip(*xy)\n",
    "    ly = len(y)\n",
    "    xticks = range(1, ly + 1)\n",
    "\n",
    "    ax.bar(xticks, y, align='center')\n",
    "    ax.set_xticks(xticks)\n",
    "    ax.set_xticklabels(x, rotation=90)\n",
    "    ax.set_xlim(.5, ly + .5)\n",
    "    ax.yaxis.grid(True)\n",
    "\n",
    "    scale = 1. / ly\n",
    "    for pos in xrange(ly + 1):\n",
    "        add_line(ax, pos * scale, -.1)\n",
    "    ypos = -.2\n",
    "    while groups:\n",
    "        group = groups.pop()\n",
    "        pos = 0\n",
    "        for label, rpos in group:\n",
    "            lxpos = (pos + .5 * rpos) * scale\n",
    "            ax.text(lxpos, ypos, label, ha='center', transform=ax.transAxes)\n",
    "            add_line(ax, pos * scale, ypos)\n",
    "            pos += rpos\n",
    "        add_line(ax, pos * scale, ypos)\n",
    "        ypos -= .1\n",
    "        \n",
    "# group the data        \n",
    "group_data = Subsidies_category_subtype_transposed.to_dict()\n",
    "\n",
    "# transform the data from two-level three-level dict\n",
    "transformed_data = transform_group_data(group_data)\n",
    "\n",
    "# configure plot\n",
    "fig = plt.figure(figsize=(20,10))\n",
    "\n",
    "ax = fig.add_subplot(1,1,1)\n",
    "\n",
    "\n",
    "# plot\n",
    "label_group_bar(ax, transformed_data)\n",
    "\n",
    "\n",
    "# not sure what this does.... \n",
    "# fig.subplots_adjust(bottom=0.3)\n",
    "\n",
    "# TODO: rotate label axis!\n",
    "ax.set_ylabel(\"USD\",fontsize=15)\n",
    "\n"
   ]
  },
  {
   "cell_type": "code",
   "execution_count": 347,
   "metadata": {
    "collapsed": false
   },
   "outputs": [
    {
     "data": {
      "text/plain": [
       "{'Ambiguous': {'Fisher assistance': {'LSF subsidies': 1461976.8820411996,\n",
       "   'SSF subsidies': 478174.76672412478},\n",
       "  'Rural fisher communities': {'LSF subsidies': 19172.193342417449,\n",
       "   'SSF subsidies': 140252.41273913364},\n",
       "  'Vessel buyback': {'LSF subsidies': 2074451.0448688618,\n",
       "   'SSF subsidies': 3483.1688880456272}},\n",
       " 'Beneficial': {'Fisheries mangt.': {'LSF subsidies': 5291066.3804910639,\n",
       "   'SSF subsidies': 1838869.6892172887},\n",
       "  'Fishery R&D': {'LSF subsidies': 2110301.2706111157,\n",
       "   'SSF subsidies': 586440.47080104146},\n",
       "  'MPAs': {'LSF subsidies': 956643.57833284535,\n",
       "   'SSF subsidies': 271039.48450104753}},\n",
       " 'Capacity-enhancing': {'Boat constsruct. & renov.': {'LSF subsidies': 2752806.1807585061,\n",
       "   'SSF subsidies': 502472.77288635977},\n",
       "  'Fisheries dev. projects': {'LSF subsidies': 766069.56145347178,\n",
       "   'SSF subsidies': 271515.71346197359},\n",
       "  'Fishing access': {'LSF subsidies': 934505.96332426183,\n",
       "   'SSF subsidies': 2772.6898951225821},\n",
       "  'Fishing port develop.': {'LSF subsidies': 2736278.8912866181,\n",
       "   'SSF subsidies': 721551.33389738284},\n",
       "  'Markt. & storage infrast.': {'LSF subsidies': 2483920.7568490775,\n",
       "   'SSF subsidies': 182531.75229193442},\n",
       "  'Tax exemption': {'LSF subsidies': 941140.64823551511,\n",
       "   'SSF subsidies': 147164.69014618493}}}"
      ]
     },
     "execution_count": 347,
     "metadata": {},
     "output_type": "execute_result"
    }
   ],
   "source": [
    "transformed_data"
   ]
  },
  {
   "cell_type": "code",
   "execution_count": 423,
   "metadata": {
    "collapsed": false,
    "scrolled": false
   },
   "outputs": [
    {
     "data": {
      "text/plain": [
       "<matplotlib.figure.Figure at 0x7f0168a13ed0>"
      ]
     },
     "metadata": {},
     "output_type": "display_data"
    },
    {
     "data": {
      "image/png": "[encoded data removed]",
      "text/plain": [
       "<matplotlib.figure.Figure at 0x7f0168a13b90>"
      ]
     },
     "metadata": {},
     "output_type": "display_data"
    }
   ],
   "source": [
    "fig = plt.figure()\n",
    "ax = Subsidies_category_subtype[['LSF subsidies','SSF subsidies']].plot(kind='bar',title =\"Fisheries subsidies per category in 2009 USD\", figsize=(15,10),stacked=True, legend=True, fontsize=15)\n",
    "ax.set_ylabel(\"USD\",fontsize=15)\n",
    "ax.set_xlabel(\"Ambiguous                              Beneficial                                               Capacity-enhancing               \",fontsize=15,)\n",
    "labels=ax.set_xticklabels(['Fisher assistance','Rural communities','Vessel buyback', 'Management', 'Research', 'MPAs', 'Boat construct.', 'Develop. project', 'Fishing access', 'Port Develop.', 'Market and storage', 'Tax exemption'],rotation=90)\n",
    "plt.legend(loc='best',fontsize=14)\n",
    "plt.savefig('Subsidies_Category.svg', dpi=400, bbox_inches='tight')\n",
    "plt.show()\n"
   ]
  },
  {
   "cell_type": "code",
   "execution_count": 353,
   "metadata": {
    "collapsed": false
   },
   "outputs": [
    {
     "data": {
      "text/html": [
       "<div>\n",
       "<table border=\"1\" class=\"dataframe\">\n",
       "  <thead>\n",
       "    <tr style=\"text-align: right;\">\n",
       "      <th></th>\n",
       "      <th></th>\n",
       "      <th>LSF subsidies</th>\n",
       "      <th>SSF subsidies</th>\n",
       "    </tr>\n",
       "    <tr>\n",
       "      <th>Category</th>\n",
       "      <th>SubType</th>\n",
       "      <th></th>\n",
       "      <th></th>\n",
       "    </tr>\n",
       "  </thead>\n",
       "  <tbody>\n",
       "    <tr>\n",
       "      <th>Beneficial</th>\n",
       "      <th>Fisheries mangt.</th>\n",
       "      <td>5291066.380491</td>\n",
       "      <td>1838869.689217</td>\n",
       "    </tr>\n",
       "    <tr>\n",
       "      <th rowspan=\"3\" valign=\"top\">Capacity-enhancing</th>\n",
       "      <th>Boat constsruct. &amp; renov.</th>\n",
       "      <td>2752806.180759</td>\n",
       "      <td>502472.772886</td>\n",
       "    </tr>\n",
       "    <tr>\n",
       "      <th>Fishing port develop.</th>\n",
       "      <td>2736278.891287</td>\n",
       "      <td>721551.333897</td>\n",
       "    </tr>\n",
       "    <tr>\n",
       "      <th>Markt. &amp; storage infrast.</th>\n",
       "      <td>2483920.756849</td>\n",
       "      <td>182531.752292</td>\n",
       "    </tr>\n",
       "    <tr>\n",
       "      <th>Beneficial</th>\n",
       "      <th>Fishery R&amp;D</th>\n",
       "      <td>2110301.270611</td>\n",
       "      <td>586440.470801</td>\n",
       "    </tr>\n",
       "    <tr>\n",
       "      <th rowspan=\"2\" valign=\"top\">Ambiguous</th>\n",
       "      <th>Vessel buyback</th>\n",
       "      <td>2074451.044869</td>\n",
       "      <td>3483.168888</td>\n",
       "    </tr>\n",
       "    <tr>\n",
       "      <th>Fisher assistance</th>\n",
       "      <td>1461976.882041</td>\n",
       "      <td>478174.766724</td>\n",
       "    </tr>\n",
       "    <tr>\n",
       "      <th>Beneficial</th>\n",
       "      <th>MPAs</th>\n",
       "      <td>956643.578333</td>\n",
       "      <td>271039.484501</td>\n",
       "    </tr>\n",
       "    <tr>\n",
       "      <th rowspan=\"3\" valign=\"top\">Capacity-enhancing</th>\n",
       "      <th>Tax exemption</th>\n",
       "      <td>941140.648236</td>\n",
       "      <td>147164.690146</td>\n",
       "    </tr>\n",
       "    <tr>\n",
       "      <th>Fishing access</th>\n",
       "      <td>934505.963324</td>\n",
       "      <td>2772.689895</td>\n",
       "    </tr>\n",
       "    <tr>\n",
       "      <th>Fisheries dev. projects</th>\n",
       "      <td>766069.561453</td>\n",
       "      <td>271515.713462</td>\n",
       "    </tr>\n",
       "    <tr>\n",
       "      <th>Ambiguous</th>\n",
       "      <th>Rural fisher communities</th>\n",
       "      <td>19172.193342</td>\n",
       "      <td>140252.412739</td>\n",
       "    </tr>\n",
       "  </tbody>\n",
       "</table>\n",
       "</div>"
      ],
      "text/plain": [
       "                                               LSF subsidies   SSF subsidies\n",
       "Category           SubType                                                  \n",
       "Beneficial         Fisheries mangt.           5291066.380491  1838869.689217\n",
       "Capacity-enhancing Boat constsruct. & renov.  2752806.180759   502472.772886\n",
       "                   Fishing port develop.      2736278.891287   721551.333897\n",
       "                   Markt. & storage infrast.  2483920.756849   182531.752292\n",
       "Beneficial         Fishery R&D                2110301.270611   586440.470801\n",
       "Ambiguous          Vessel buyback             2074451.044869     3483.168888\n",
       "                   Fisher assistance          1461976.882041   478174.766724\n",
       "Beneficial         MPAs                        956643.578333   271039.484501\n",
       "Capacity-enhancing Tax exemption               941140.648236   147164.690146\n",
       "                   Fishing access              934505.963324     2772.689895\n",
       "                   Fisheries dev. projects     766069.561453   271515.713462\n",
       "Ambiguous          Rural fisher communities     19172.193342   140252.412739"
      ]
     },
     "execution_count": 353,
     "metadata": {},
     "output_type": "execute_result"
    }
   ],
   "source": [
    "Subsidies_category_subtype.sort_values(by=['LSF subsidies'],ascending=False)"
   ]
  },
  {
   "cell_type": "code",
   "execution_count": null,
   "metadata": {
    "collapsed": true
   },
   "outputs": [],
   "source": [
    "Subsidies_per_Category = SSF_subsidies_estimates_assessed.groupby(['Category']).sum()"
   ]
  },
  {
   "cell_type": "code",
   "execution_count": null,
   "metadata": {
    "collapsed": false
   },
   "outputs": [],
   "source": [
    "ax = Subsidies_per_Category[['LSF subsidies','SSF subsidies']].plot(kind='bar',title =\"Fisheries subsidies 2009 in USD\", figsize=(15,10),stacked=True, legend=True, fontsize=15)\n",
    "ax.set_ylabel(\"USD\",fontsize=15)\n",
    "ax.set_xlabel(\"Subsidy Category\",fontsize=15)\n",
    "\n",
    "plt.show()"
   ]
  },
  {
   "cell_type": "code",
   "execution_count": null,
   "metadata": {
    "collapsed": true
   },
   "outputs": [],
   "source": []
  }
 ],
 "metadata": {
  "kernelspec": {
   "display_name": "Python 2",
   "language": "python",
   "name": "python2"
  },
  "language_info": {
   "codemirror_mode": {
    "name": "ipython",
    "version": 2
   },
   "file_extension": ".py",
   "mimetype": "text/x-python",
   "name": "python",
   "nbconvert_exporter": "python",
   "pygments_lexer": "ipython2",
   "version": "2.7.6"
  }
 },
 "nbformat": 4,
 "nbformat_minor": 0
}
