{
 "cells": [
  {
   "cell_type": "code",
   "execution_count": 3,
   "metadata": {
    "collapsed": false
   },
   "outputs": [
    {
     "data": {
      "text/plain": [
       "u'0.17.1'"
      ]
     },
     "execution_count": 3,
     "metadata": {},
     "output_type": "execute_result"
    }
   ],
   "source": [
    "import pandas as pd\n",
    "\n",
    "import matplotlib.pyplot as plt\n",
    "\n",
    "import matplotlib as mpl\n",
    "\n",
    "import numpy as np\n",
    "\n",
    "%matplotlib inline\n",
    "\n",
    "plt.style.use('ggplot')\n",
    "\n",
    "pd.set_option('precision',3)\n",
    "\n",
    "from IPython.display import display, HTML\n",
    "\n",
    "pd.__version__"
   ]
  },
  {
   "cell_type": "code",
   "execution_count": 4,
   "metadata": {
    "collapsed": false
   },
   "outputs": [],
   "source": [
    "NB = pd.read_csv(\"NBNew.csv\")"
   ]
  },
  {
   "cell_type": "code",
   "execution_count": 5,
   "metadata": {
    "collapsed": false
   },
   "outputs": [
    {
     "data": {
      "text/plain": [
       "0    -581.316\n",
       "1    -318.768\n",
       "2    -338.743\n",
       "3    -508.918\n",
       "4     276.969\n",
       "5     369.620\n",
       "6     705.436\n",
       "7       1.615\n",
       "8      18.943\n",
       "9     167.275\n",
       "10    253.123\n",
       "11    436.751\n",
       "12    719.134\n",
       "Name: SSF_private, dtype: float64"
      ]
     },
     "execution_count": 5,
     "metadata": {},
     "output_type": "execute_result"
    }
   ],
   "source": [
    "NB.SSF_private"
   ]
  },
  {
   "cell_type": "code",
   "execution_count": 6,
   "metadata": {
    "collapsed": false
   },
   "outputs": [
    {
     "name": "stdout",
     "output_type": "stream",
     "text": [
      "    year  SSF_private  SSF_society  LSF_society  LSF_private\n",
      "0   2000     -581.316     -616.998       96.801      161.562\n",
      "1   2001     -318.768     -359.219      203.127      262.468\n",
      "2   2002     -338.743     -369.220       12.738       82.234\n",
      "3   2003     -508.918     -539.616       93.132      167.931\n",
      "4   2004      276.969      206.015       49.874      207.468\n",
      "5   2005      369.620      303.534       86.951      209.548\n",
      "6   2006      705.436      598.476      184.092      296.776\n",
      "7   2007        1.615      -34.092      192.693      337.889\n",
      "8   2008       18.943      -67.794      127.485      351.394\n",
      "9   2009      167.275       91.713        0.246      195.406\n",
      "10  2010      253.123      232.013     -163.465      -49.008\n",
      "11  2011      436.751      407.206     -199.992      -30.508\n",
      "12  2012      719.134      690.022     -258.225      -52.756\n"
     ]
    }
   ],
   "source": [
    "print NB"
   ]
  },
  {
   "cell_type": "code",
   "execution_count": 7,
   "metadata": {
    "collapsed": true
   },
   "outputs": [],
   "source": [
    "from scipy import stats"
   ]
  },
  {
   "cell_type": "code",
   "execution_count": 8,
   "metadata": {
    "collapsed": false
   },
   "outputs": [
    {
     "data": {
      "text/plain": [
       "MannwhitneyuResult(statistic=44.0, pvalue=0.020119743683066984)"
      ]
     },
     "execution_count": 8,
     "metadata": {},
     "output_type": "execute_result"
    }
   ],
   "source": [
    "stats.mannwhitneyu(NB['LSF_society'], NB['LSF_private'])"
   ]
  },
  {
   "cell_type": "code",
   "execution_count": 9,
   "metadata": {
    "collapsed": false
   },
   "outputs": [
    {
     "data": {
      "text/plain": [
       "MannwhitneyuResult(statistic=74.0, pvalue=0.30403843973296141)"
      ]
     },
     "execution_count": 9,
     "metadata": {},
     "output_type": "execute_result"
    }
   ],
   "source": [
    "stats.mannwhitneyu(NB['SSF_society'], NB['SSF_private'])"
   ]
  },
  {
   "cell_type": "code",
   "execution_count": 10,
   "metadata": {
    "collapsed": false
   },
   "outputs": [
    {
     "data": {
      "text/plain": [
       "MannwhitneyuResult(statistic=78.0, pvalue=0.3791582367631452)"
      ]
     },
     "execution_count": 10,
     "metadata": {},
     "output_type": "execute_result"
    }
   ],
   "source": [
    "stats.mannwhitneyu(NB['LSF_society'], NB['SSF_society'])"
   ]
  },
  {
   "cell_type": "code",
   "execution_count": 11,
   "metadata": {
    "collapsed": false
   },
   "outputs": [
    {
     "data": {
      "text/plain": [
       "MannwhitneyuResult(statistic=82.0, pvalue=0.45915446727274173)"
      ]
     },
     "execution_count": 11,
     "metadata": {},
     "output_type": "execute_result"
    }
   ],
   "source": [
    "stats.mannwhitneyu(NB['SSF_private'], NB['LSF_private'])"
   ]
  },
  {
   "cell_type": "code",
   "execution_count": 12,
   "metadata": {
    "collapsed": false
   },
   "outputs": [
    {
     "data": {
      "text/plain": [
       "MannwhitneyuResult(statistic=72.0, pvalue=0.26915037450936141)"
      ]
     },
     "execution_count": 12,
     "metadata": {},
     "output_type": "execute_result"
    }
   ],
   "source": [
    "stats.mannwhitneyu(NB['SSF_private'], NB['LSF_society'])"
   ]
  },
  {
   "cell_type": "code",
   "execution_count": 13,
   "metadata": {
    "collapsed": false
   },
   "outputs": [
    {
     "data": {
      "text/plain": [
       "MannwhitneyuResult(statistic=72.0, pvalue=0.26915037450936141)"
      ]
     },
     "execution_count": 13,
     "metadata": {},
     "output_type": "execute_result"
    }
   ],
   "source": [
    "stats.mannwhitneyu(NB['SSF_society'], NB['LSF_private'])"
   ]
  },
  {
   "cell_type": "code",
   "execution_count": 14,
   "metadata": {
    "collapsed": false
   },
   "outputs": [],
   "source": [
    "NB_gap = pd.read_csv(\"Gaps_regressions.csv\")"
   ]
  },
  {
   "cell_type": "code",
   "execution_count": 16,
   "metadata": {
    "collapsed": false
   },
   "outputs": [
    {
     "name": "stdout",
     "output_type": "stream",
     "text": [
      "    Year   SSF_NB   LSF_NB  SSF_Nbfisher  LSF_Nbfisher  SSF_NBLV  LSF_NBLV\n",
      "0   2000   35.682   64.762       138.831      2521.574     0.022     0.083\n",
      "1   2001   40.452   59.341       157.389      2270.730     0.022     0.067\n",
      "2   2002   30.477   69.495       118.581      2652.601     0.016     0.097\n",
      "3   2003   30.698   74.799       119.439      2847.845     0.020     0.101\n",
      "4   2004   70.954  157.594       276.066      5981.016     0.033     0.236\n",
      "5   2005   66.086  122.598       257.125      4815.126     0.029     0.175\n",
      "6   2006  106.960  112.685       416.160      4463.117     0.041     0.142\n",
      "7   2007   35.707  145.196       138.928      5799.033     0.018     0.176\n",
      "8   2008   86.737  223.909       337.475      8942.763     0.044     0.289\n",
      "9   2009   75.562  195.160       293.997      7982.981     0.040     0.303\n",
      "10  2010   21.110  114.457        92.890      4793.018     0.010     0.202\n",
      "11  2011   29.545  169.484       149.805      7130.445     0.014     0.284\n",
      "12  2012   29.112  205.469       180.661      8710.371     0.013     0.371\n"
     ]
    }
   ],
   "source": [
    "print NB_gap"
   ]
  },
  {
   "cell_type": "code",
   "execution_count": 25,
   "metadata": {
    "collapsed": false
   },
   "outputs": [
    {
     "data": {
      "text/plain": [
       "<matplotlib.collections.PathCollection at 0x7f28dabab8d0>"
      ]
     },
     "execution_count": 25,
     "metadata": {},
     "output_type": "execute_result"
    },
    {
     "data": {
      "image/png": "[encoded data removed]",
      "text/plain": [
       "<matplotlib.figure.Figure at 0x7f28dac1dc50>"
      ]
     },
     "metadata": {},
     "output_type": "display_data"
    }
   ],
   "source": [
    "plt.scatter(NB_gap.Year,NB_gap.LSF_NBLV)"
   ]
  },
  {
   "cell_type": "code",
   "execution_count": null,
   "metadata": {
    "collapsed": false
   },
   "outputs": [],
   "source": [
    "#  X=NB_gap['SSF_gap']\n",
    "#  Y=NB_gap['LSF_gap']\n",
    "#  linear_model.LinearRegression().fit(X,Y)"
   ]
  },
  {
   "cell_type": "code",
   "execution_count": null,
   "metadata": {
    "collapsed": true
   },
   "outputs": [],
   "source": []
  }
 ],
 "metadata": {
  "kernelspec": {
   "display_name": "Python 2",
   "language": "python",
   "name": "python2"
  },
  "language_info": {
   "codemirror_mode": {
    "name": "ipython",
    "version": 2
   },
   "file_extension": ".py",
   "mimetype": "text/x-python",
   "name": "python",
   "nbconvert_exporter": "python",
   "pygments_lexer": "ipython2",
   "version": "2.7.6"
  }
 },
 "nbformat": 4,
 "nbformat_minor": 0
}
