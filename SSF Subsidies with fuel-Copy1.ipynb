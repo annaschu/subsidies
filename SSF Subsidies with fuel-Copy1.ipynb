{
 "cells": [
  {
   "cell_type": "code",
   "execution_count": 1,
   "metadata": {
    "collapsed": false
   },
   "outputs": [
    {
     "data": {
      "text/plain": [
       "u'0.17.1'"
      ]
     },
     "execution_count": 1,
     "metadata": {},
     "output_type": "execute_result"
    }
   ],
   "source": [
    "%matplotlib inline\n",
    "\n",
    "import pandas as pd\n",
    "\n",
    "import matplotlib.pyplot as plt\n",
    "\n",
    "import numpy as np\n",
    "\n",
    "plt.style.use('ggplot')\n",
    "\n",
    "pd.__version__"
   ]
  },
  {
   "cell_type": "code",
   "execution_count": 2,
   "metadata": {
    "collapsed": true
   },
   "outputs": [],
   "source": [
    "SSF_subsidies = pd.read_csv(\"SSF_subsidies.csv\")\n",
    "countries = pd.read_csv(\"Country_Data.csv\")\n",
    "catch = pd.read_csv(\"SAU_Catches.csv\")\n",
    "type_EEZ = pd.read_csv(\"Subtype_Fleet_EEZ.csv\")\n",
    "all_subsidies = pd.read_csv(\"Subsidies2009.csv\")"
   ]
  },
  {
   "cell_type": "code",
   "execution_count": 3,
   "metadata": {
    "collapsed": false
   },
   "outputs": [
    {
     "data": {
      "text/plain": [
       "array(['ID', 'Cnumber', 'RegionID', 'RegionName', 'Type', 'SubType',\n",
       "       'Category', 'total_subsidies', 'NewData', 'Developed', 'HDI_2005',\n",
       "       'Countries', 'SSFsubsidies_assessed_percent',\n",
       "       'weighted_by_sectorsize', 'Data_group',\n",
       "       'SSF_totalCatch_EEZ_percent', '%SSF_totalCatch_Country',\n",
       "       'SSF_USD_1000', 'Comment', 'DocSource', 'SourceVisitDate', 'Ref',\n",
       "       'URL', 'User', 'OldComment'], dtype=object)"
      ]
     },
     "execution_count": 3,
     "metadata": {},
     "output_type": "execute_result"
    }
   ],
   "source": [
    "SSF_subsidies.columns.values"
   ]
  },
  {
   "cell_type": "code",
   "execution_count": 4,
   "metadata": {
    "collapsed": false
   },
   "outputs": [],
   "source": [
    "\n",
    "\n",
    "SSF_subsidies['SSF_subsidies_percent'] = SSF_subsidies['SSF_USD_1000']/SSF_subsidies['total_subsidies']\n",
    "\n",
    "\n",
    "#  merge original all subsidies data with to align with subsidy \n",
    "#  type and whether the EEZ catch data or the FLeet catch data apply, \n",
    "#  see type_EEZ data, this is in preparation to later merge with SAU_catch data \n",
    "\n",
    "subsidies_type = pd.merge(\n",
    "    left=all_subsidies,\n",
    "    right=type_EEZ,\n",
    "    how='left'\n",
    ")\n",
    "\n",
    "\n",
    "#  now this needs to be merged with country data to have coordinates per country\n",
    "#  and have each country data point assigned to a subregion (thanks to Andres data)\n",
    "\n",
    "subsidies_type_countries = pd.merge(\n",
    "    left=subsidies_type,\n",
    "    right=countries,\n",
    "    how='left'\n",
    ")\n",
    "\n",
    "\n",
    "#  calculate SSF catch percent by dividing SSF catch / total catch\n",
    "\n",
    "catch['SSF_catch_percent']=catch['SSF_catch']/catch['total_catch']\n",
    "\n",
    "\n",
    "#  merge with SSF catch from SAU_catch data\n",
    "\n",
    "subsidies_type_countries_catch = pd.merge(\n",
    "    left=subsidies_type_countries,\n",
    "    right=catch, how='left'\n",
    ")\n",
    "\n",
    "#  calculating mean SSF catch per subregion, \n",
    "#  needed to use to fill gaps for SSF subsidies that have not been assessed\n",
    "\n",
    "catch_countries = pd.merge(\n",
    "    left=catch, \n",
    "    right=countries, \n",
    "    how='left'\n",
    ")\n",
    "\n"
   ]
  },
  {
   "cell_type": "code",
   "execution_count": 5,
   "metadata": {
    "collapsed": false
   },
   "outputs": [],
   "source": [
    "\n",
    "catch_by_subregion = catch_countries.groupby(['Subregion']).sum()\n",
    "catch_by_subregion['SSF_subregion_catch'] = (\n",
    "    catch_by_subregion['SSF_catch']/catch_by_subregion['total_catch']\n",
    ")\n",
    "\n",
    "catch_by_subregion = catch_by_subregion.reset_index()\n",
    "\n",
    "SSF_subregion_catch = catch_by_subregion.loc[:,['Subregion','SSF_subregion_catch']]\n",
    "\n",
    "\n",
    "\n",
    "#  merging mean catch with all subsidies data\n",
    "subsidies_type_countries_catch_meancatch = pd.merge(\n",
    "    left=subsidies_type_countries_catch,right=SSF_subregion_catch, how='left'\n",
    ") \n",
    "\n",
    "#  preparing SSF subsidies by merging with country data\n",
    "SSF_subsidies_countries = pd.merge(\n",
    "    left=SSF_subsidies,right=countries, how='left')\n",
    "\n",
    "#  from SSF subsidies assessed calculate mean per subregion and per type \n",
    "#  to fill gaps of countries that have not been assessed\n",
    "SSF_by_subregion = SSF_subsidies_countries.groupby(\n",
    "    ['Subregion','Type']).sum(\n",
    ")\n",
    "\n",
    "\n",
    "SSF_by_subregion['SSF_subsidies_subregion'] = (\n",
    "    SSF_by_subregion['SSF_USD_1000']/SSF_by_subregion['total_subsidies']\n",
    ")\n",
    "SSF_by_subregion = SSF_by_subregion.reset_index()\n",
    "SSF_subsidies_subregion = SSF_by_subregion.loc[:,['Subregion','Type','SSF_subsidies_subregion']]\n"
   ]
  },
  {
   "cell_type": "code",
   "execution_count": 6,
   "metadata": {
    "collapsed": false
   },
   "outputs": [
    {
     "name": "stdout",
     "output_type": "stream",
     "text": [
      "ssf all: True, total: 26849.2514743\n",
      "ssf all: 0.266518716109, total: False\n"
     ]
    }
   ],
   "source": [
    "\n",
    "#  as not all subsidies types are covered by countries assessed, \n",
    "#  mean values for region are being calculated to replace the empty cells\n",
    "SSF_by_region = SSF_subsidies_countries.groupby(\n",
    "    ['RegionName','Type']).sum(\n",
    ")\n",
    "SSF_by_region['SSF_subsidies_region'] = (\n",
    "    SSF_by_region['SSF_USD_1000']/SSF_by_region['total_subsidies']\n",
    ")\n",
    "SSF_by_region = SSF_by_region.reset_index()\n",
    "SSF_subsidies_region = SSF_by_region.loc[ \n",
    "    :,['RegionName','Type','SSF_subsidies_region']\n",
    "]\n",
    "\n",
    "#  merge mean subsidies by type and subregion to all subsidies data\n",
    "catch_subsidies_subregion = pd.merge(\n",
    "    left=subsidies_type_countries_catch_meancatch,right=SSF_subsidies_subregion, how='left'\n",
    ")\n",
    "\n",
    "\n",
    "#  merge mean subsidies by type and region to all subsidies data that now have included total subsidies per subregion\n",
    "catch_subsidies_subregion_region = pd.merge(\n",
    "    left=catch_subsidies_subregion,right=SSF_subsidies_region, how='left'\n",
    ")\n",
    "\n",
    "#  fill gaps from mean subsidies per subregion with mean subsidies per region and name new column ['subsidies_subregion_all']\n",
    "\n",
    "#  create new column and name ['SSF_subsidies_true] and state true for all values > 0 \n",
    "\n",
    "catch_subsidies_subregion_region['total_subsidies_true'] = np.where(\n",
    "    catch_subsidies_subregion_region['total_subsidies'] > 0, True, False\n",
    ")\n",
    "    \n",
    "def check_data(index=0):\n",
    "    df = catch_subsidies_subregion_region\n",
    "    print(\"ssf all: {}, total: {}\".format(df['total_subsidies_true'][index], df['total_subsidies'][index]))\n",
    "    \n",
    "check_data(1946)\n",
    "\n",
    "#  make a new column that states True for NaN in subsidies per subregion and name ['total_subregion_NaN']\n",
    "\n",
    "catch_subsidies_subregion_region['total_subregion_NaN'] = pd.isnull(catch_subsidies_subregion_region['SSF_subsidies_subregion'])\n",
    "\n",
    "\n",
    "def check_data(index=0):\n",
    "    print(\"ssf all: {}, total: {}\".format(catch_subsidies_subregion_region['SSF_subsidies_subregion'][index], catch_subsidies_subregion_region['total_subregion_NaN'][index]))\n",
    "    \n",
    "check_data(1946)"
   ]
  },
  {
   "cell_type": "code",
   "execution_count": 7,
   "metadata": {
    "collapsed": false
   },
   "outputs": [
    {
     "name": "stdout",
     "output_type": "stream",
     "text": [
      "ssf all: False, total: True, isNaN: False\n"
     ]
    }
   ],
   "source": [
    "#  create a new column that states True when ['total_subregion_NaN'] is True and ['SSF_subsidies_true] is True\n",
    "#  name new column ['total_subregion_all']\n",
    "#  this shows when True that there is a total subsidy for that category but no value from total subregion subsidy data and therefore we will replace with the total region value\n",
    "\n",
    "catch_subsidies_subregion_region['total_subregion_all'] = np.where((catch_subsidies_subregion_region['total_subsidies_true'] == True) & (catch_subsidies_subregion_region['total_subregion_NaN'] == True), True, False)\n",
    "\n",
    "\n",
    "def check_data(index=0):\n",
    "    print(\"ssf all: {0}, total: {1}, isNaN: {2}\".format(catch_subsidies_subregion_region['total_subregion_all'][index],catch_subsidies_subregion_region['total_subsidies_true'][index], catch_subsidies_subregion_region['total_subregion_NaN'][index]))\n",
    "\n",
    "check_data(1056)"
   ]
  },
  {
   "cell_type": "code",
   "execution_count": 8,
   "metadata": {
    "collapsed": false
   },
   "outputs": [
    {
     "name": "stdout",
     "output_type": "stream",
     "text": [
      "ssf all: 0.156401916407, total: True, isNaN: 0.156401916407\n"
     ]
    }
   ],
   "source": [
    "#  create new column and name ['subsidies_subregion_all'] to use value from subregion or from region\n",
    "#  when ['total_subregion_all'] is true us region data when false use subregion data\n",
    "\n",
    "\n",
    "#  catch_subsidies_subregion_region['subsidies_subregion_all'] = \n",
    "#  np.where(catch_subsidies_subregion_region['total_subregion_all'] == True, \n",
    "#  catch_subsidies_subregion_region['SSF_subsidies_region'], \n",
    "#  catch_subsidies_subregion_region['SSF_subsidies_subregion'])\n",
    "\n",
    "\n",
    "catch_subsidies_subregion_region['subsidies_subregion_all'] = np.where(catch_subsidies_subregion_region['total_subregion_all'] == True, catch_subsidies_subregion_region['SSF_subsidies_region'], catch_subsidies_subregion_region['SSF_subsidies_subregion'])\n",
    "\n",
    "catch_subsidies_subregion_region\n",
    "\n",
    "def check_data(index=0):\n",
    "    print(\"ssf all: {0}, total: {1}, isNaN: {2}\".format(catch_subsidies_subregion_region['subsidies_subregion_all'][index],catch_subsidies_subregion_region['total_subregion_all'][index], catch_subsidies_subregion_region['SSF_subsidies_region'][index]))\n",
    "\n",
    "check_data(1936)"
   ]
  },
  {
   "cell_type": "code",
   "execution_count": 9,
   "metadata": {
    "collapsed": false
   },
   "outputs": [
    {
     "data": {
      "text/plain": [
       "35371111.003231212"
      ]
     },
     "execution_count": 9,
     "metadata": {},
     "output_type": "execute_result"
    }
   ],
   "source": [
    "np.sum(catch_subsidies_subregion_region['total_subsidies'])"
   ]
  },
  {
   "cell_type": "code",
   "execution_count": 10,
   "metadata": {
    "collapsed": false
   },
   "outputs": [
    {
     "data": {
      "text/plain": [
       "array(['ID', 'Cnumber', 'RegionID', 'RegionName', 'Countries', 'Type',\n",
       "       'SubType', 'Category', 'total_subsidies', 'NewData', 'Developed',\n",
       "       'HDI_2005', 'EEZ', 'CID', 'Subregion', 'CLon', 'CLat', 'SIDS',\n",
       "       'TotPop', 'HDI', 'Develop', 'GDP', 'EU member', 'Region',\n",
       "       'Recreational', 'Subsistence', 'Artisanal', 'Industrial',\n",
       "       'total_catch', 'SSF_catch', 'SSF_catch_percent',\n",
       "       'SSF_subregion_catch', 'SSF_subsidies_subregion',\n",
       "       'SSF_subsidies_region', 'total_subsidies_true',\n",
       "       'total_subregion_NaN', 'total_subregion_all',\n",
       "       'subsidies_subregion_all'], dtype=object)"
      ]
     },
     "execution_count": 10,
     "metadata": {},
     "output_type": "execute_result"
    }
   ],
   "source": [
    "catch_subsidies_subregion_region.columns.values"
   ]
  },
  {
   "cell_type": "code",
   "execution_count": 11,
   "metadata": {
    "collapsed": false
   },
   "outputs": [],
   "source": [
    "subsidies1 = catch_subsidies_subregion_region.loc[:,['RegionName','Subregion','Countries','CLon', 'CLat','SIDS',\n",
    "       'TotPop', 'HDI', 'Develop', 'GDP','Category','SubType','Type','EEZ', 'total_subsidies','SSF_catch_percent','SSF_subregion_catch','subsidies_subregion_all']]"
   ]
  },
  {
   "cell_type": "code",
   "execution_count": 12,
   "metadata": {
    "collapsed": false
   },
   "outputs": [],
   "source": [
    "#  create a new column 'Factor' and calculate as adjustment value for total subsidies per subregion and total SSF catch per subregion \n",
    "#  used to fill gaps for country that have not been assessed, this is done per subsidy subtype also\n",
    "\n",
    "subsidies1['Factor'] = subsidies1['SSF_catch_percent']/subsidies1['SSF_subregion_catch']\n",
    "\n",
    "#  multiply the \"Factor\" value with the mean subsidy value per subregion\n",
    "#  to estimate the value for SSF subsidies per subsidy type for the countries that have not been assessed\n",
    "subsidies1['SSF_subsidies_estimates'] = subsidies1['Factor']*subsidies1['subsidies_subregion_all']\n",
    "\n"
   ]
  },
  {
   "cell_type": "code",
   "execution_count": 13,
   "metadata": {
    "collapsed": true
   },
   "outputs": [],
   "source": [
    "SSF_subsidies_short = SSF_subsidies_countries.loc[:,['Countries','Type','SSFsubsidies_assessed_percent','weighted_by_sectorsize', 'Data_group','SSF_USD_1000','SSF_subsidies_percent']]"
   ]
  },
  {
   "cell_type": "code",
   "execution_count": 14,
   "metadata": {
    "collapsed": false
   },
   "outputs": [
    {
     "data": {
      "text/plain": [
       "5630950.8349868348"
      ]
     },
     "execution_count": 14,
     "metadata": {},
     "output_type": "execute_result"
    }
   ],
   "source": [
    "\n",
    "#  merge estimated values for subsidies with SSF assessed subsidies data\n",
    "SSF_subsidies_estimates_assessed = pd.merge(\n",
    "    left=subsidies1,right=SSF_subsidies_short,how='left'\n",
    ")\n",
    "\n",
    "#  use fillna function to use estimated values for SSF subsidies to fill gaps of countries that have not been assessed\n",
    "SSF_subsidies_estimates_assessed['SSF_subsidies_percent_all'] = SSF_subsidies_estimates_assessed[\n",
    "    'SSF_subsidies_percent'].fillna(\n",
    "    SSF_subsidies_estimates_assessed['SSF_subsidies_estimates']\n",
    ")\n",
    "\n",
    "#  calculate USD values for all SSF for all subtypes and countries form the estimated and assessed percentages\n",
    "SSF_subsidies_estimates_assessed['SSF_subsidies_USD'] = (\n",
    "    SSF_subsidies_estimates_assessed['total_subsidies']\n",
    ")*SSF_subsidies_estimates_assessed['SSF_subsidies_percent_all']\n",
    "\n",
    "np.sum(SSF_subsidies_estimates_assessed['SSF_subsidies_USD'])\n"
   ]
  },
  {
   "cell_type": "code",
   "execution_count": 15,
   "metadata": {
    "collapsed": true
   },
   "outputs": [],
   "source": [
    "SSF_subsidies_estimates_assessed.to_csv('SSF_subsidies_estimates_assessed.csv')"
   ]
  },
  {
   "cell_type": "code",
   "execution_count": 16,
   "metadata": {
    "collapsed": true
   },
   "outputs": [],
   "source": [
    "Subsidies_per_Category = SSF_subsidies_estimates_assessed.groupby(['Category']).sum()"
   ]
  },
  {
   "cell_type": "code",
   "execution_count": 435,
   "metadata": {
    "collapsed": false
   },
   "outputs": [
    {
     "data": {
      "text/plain": [
       "Category\n",
       "Ambiguous             15.045326\n",
       "Beneficial            24.360705\n",
       "Capacity-enhancing    10.686369\n",
       "Name: percent SSF Category, dtype: float64"
      ]
     },
     "execution_count": 435,
     "metadata": {},
     "output_type": "execute_result"
    }
   ],
   "source": [
    "Subsidies_per_Category['percent SSF Category'] = Subsidies_per_Category['SSF_subsidies_USD']/Subsidies_per_Category['total_subsidies']*100\n",
    "Subsidies_per_Category['percent SSF Category']"
   ]
  },
  {
   "cell_type": "code",
   "execution_count": 17,
   "metadata": {
    "collapsed": false
   },
   "outputs": [
    {
     "ename": "IOError",
     "evalue": "File SSF_subsidies_withfuel.csv does not exist",
     "output_type": "error",
     "traceback": [
      "\u001b[1;31m---------------------------------------------------------------------------\u001b[0m",
      "\u001b[1;31mIOError\u001b[0m                                   Traceback (most recent call last)",
      "\u001b[1;32m<ipython-input-17-bd372501a861>\u001b[0m in \u001b[0;36m<module>\u001b[1;34m()\u001b[0m\n\u001b[0;32m      2\u001b[0m \u001b[0mSSF_subsidies_estimates_assessed\u001b[0m\u001b[1;33m.\u001b[0m\u001b[0mto_csv\u001b[0m\u001b[1;33m(\u001b[0m\u001b[1;34m'SSF_subsidies_estimates_assessed.csv'\u001b[0m\u001b[1;33m)\u001b[0m\u001b[1;33m\u001b[0m\u001b[0m\n\u001b[0;32m      3\u001b[0m \u001b[1;31m#  read the newly created csv file now including fuel subsidy estimates\u001b[0m\u001b[1;33m\u001b[0m\u001b[1;33m\u001b[0m\u001b[0m\n\u001b[1;32m----> 4\u001b[1;33m \u001b[0mSSF_estimates_all\u001b[0m \u001b[1;33m=\u001b[0m \u001b[0mpd\u001b[0m\u001b[1;33m.\u001b[0m\u001b[0mread_csv\u001b[0m\u001b[1;33m(\u001b[0m\u001b[1;34m\"SSF_subsidies_withfuel.csv\"\u001b[0m\u001b[1;33m)\u001b[0m\u001b[1;33m\u001b[0m\u001b[0m\n\u001b[0m",
      "\u001b[1;32m/home/anna/.envs/subsidies/local/lib/python2.7/site-packages/pandas/io/parsers.pyc\u001b[0m in \u001b[0;36mparser_f\u001b[1;34m(filepath_or_buffer, sep, dialect, compression, doublequote, escapechar, quotechar, quoting, skipinitialspace, lineterminator, header, index_col, names, prefix, skiprows, skipfooter, skip_footer, na_values, true_values, false_values, delimiter, converters, dtype, usecols, engine, delim_whitespace, as_recarray, na_filter, compact_ints, use_unsigned, low_memory, buffer_lines, warn_bad_lines, error_bad_lines, keep_default_na, thousands, comment, decimal, parse_dates, keep_date_col, dayfirst, date_parser, memory_map, float_precision, nrows, iterator, chunksize, verbose, encoding, squeeze, mangle_dupe_cols, tupleize_cols, infer_datetime_format, skip_blank_lines)\u001b[0m\n\u001b[0;32m    496\u001b[0m                     skip_blank_lines=skip_blank_lines)\n\u001b[0;32m    497\u001b[0m \u001b[1;33m\u001b[0m\u001b[0m\n\u001b[1;32m--> 498\u001b[1;33m         \u001b[1;32mreturn\u001b[0m \u001b[0m_read\u001b[0m\u001b[1;33m(\u001b[0m\u001b[0mfilepath_or_buffer\u001b[0m\u001b[1;33m,\u001b[0m \u001b[0mkwds\u001b[0m\u001b[1;33m)\u001b[0m\u001b[1;33m\u001b[0m\u001b[0m\n\u001b[0m\u001b[0;32m    499\u001b[0m \u001b[1;33m\u001b[0m\u001b[0m\n\u001b[0;32m    500\u001b[0m     \u001b[0mparser_f\u001b[0m\u001b[1;33m.\u001b[0m\u001b[0m__name__\u001b[0m \u001b[1;33m=\u001b[0m \u001b[0mname\u001b[0m\u001b[1;33m\u001b[0m\u001b[0m\n",
      "\u001b[1;32m/home/anna/.envs/subsidies/local/lib/python2.7/site-packages/pandas/io/parsers.pyc\u001b[0m in \u001b[0;36m_read\u001b[1;34m(filepath_or_buffer, kwds)\u001b[0m\n\u001b[0;32m    273\u001b[0m \u001b[1;33m\u001b[0m\u001b[0m\n\u001b[0;32m    274\u001b[0m     \u001b[1;31m# Create the parser.\u001b[0m\u001b[1;33m\u001b[0m\u001b[1;33m\u001b[0m\u001b[0m\n\u001b[1;32m--> 275\u001b[1;33m     \u001b[0mparser\u001b[0m \u001b[1;33m=\u001b[0m \u001b[0mTextFileReader\u001b[0m\u001b[1;33m(\u001b[0m\u001b[0mfilepath_or_buffer\u001b[0m\u001b[1;33m,\u001b[0m \u001b[1;33m**\u001b[0m\u001b[0mkwds\u001b[0m\u001b[1;33m)\u001b[0m\u001b[1;33m\u001b[0m\u001b[0m\n\u001b[0m\u001b[0;32m    276\u001b[0m \u001b[1;33m\u001b[0m\u001b[0m\n\u001b[0;32m    277\u001b[0m     \u001b[1;32mif\u001b[0m \u001b[1;33m(\u001b[0m\u001b[0mnrows\u001b[0m \u001b[1;32mis\u001b[0m \u001b[1;32mnot\u001b[0m \u001b[0mNone\u001b[0m\u001b[1;33m)\u001b[0m \u001b[1;32mand\u001b[0m \u001b[1;33m(\u001b[0m\u001b[0mchunksize\u001b[0m \u001b[1;32mis\u001b[0m \u001b[1;32mnot\u001b[0m \u001b[0mNone\u001b[0m\u001b[1;33m)\u001b[0m\u001b[1;33m:\u001b[0m\u001b[1;33m\u001b[0m\u001b[0m\n",
      "\u001b[1;32m/home/anna/.envs/subsidies/local/lib/python2.7/site-packages/pandas/io/parsers.pyc\u001b[0m in \u001b[0;36m__init__\u001b[1;34m(self, f, engine, **kwds)\u001b[0m\n\u001b[0;32m    588\u001b[0m             \u001b[0mself\u001b[0m\u001b[1;33m.\u001b[0m\u001b[0moptions\u001b[0m\u001b[1;33m[\u001b[0m\u001b[1;34m'has_index_names'\u001b[0m\u001b[1;33m]\u001b[0m \u001b[1;33m=\u001b[0m \u001b[0mkwds\u001b[0m\u001b[1;33m[\u001b[0m\u001b[1;34m'has_index_names'\u001b[0m\u001b[1;33m]\u001b[0m\u001b[1;33m\u001b[0m\u001b[0m\n\u001b[0;32m    589\u001b[0m \u001b[1;33m\u001b[0m\u001b[0m\n\u001b[1;32m--> 590\u001b[1;33m         \u001b[0mself\u001b[0m\u001b[1;33m.\u001b[0m\u001b[0m_make_engine\u001b[0m\u001b[1;33m(\u001b[0m\u001b[0mself\u001b[0m\u001b[1;33m.\u001b[0m\u001b[0mengine\u001b[0m\u001b[1;33m)\u001b[0m\u001b[1;33m\u001b[0m\u001b[0m\n\u001b[0m\u001b[0;32m    591\u001b[0m \u001b[1;33m\u001b[0m\u001b[0m\n\u001b[0;32m    592\u001b[0m     \u001b[1;32mdef\u001b[0m \u001b[0m_get_options_with_defaults\u001b[0m\u001b[1;33m(\u001b[0m\u001b[0mself\u001b[0m\u001b[1;33m,\u001b[0m \u001b[0mengine\u001b[0m\u001b[1;33m)\u001b[0m\u001b[1;33m:\u001b[0m\u001b[1;33m\u001b[0m\u001b[0m\n",
      "\u001b[1;32m/home/anna/.envs/subsidies/local/lib/python2.7/site-packages/pandas/io/parsers.pyc\u001b[0m in \u001b[0;36m_make_engine\u001b[1;34m(self, engine)\u001b[0m\n\u001b[0;32m    729\u001b[0m     \u001b[1;32mdef\u001b[0m \u001b[0m_make_engine\u001b[0m\u001b[1;33m(\u001b[0m\u001b[0mself\u001b[0m\u001b[1;33m,\u001b[0m \u001b[0mengine\u001b[0m\u001b[1;33m=\u001b[0m\u001b[1;34m'c'\u001b[0m\u001b[1;33m)\u001b[0m\u001b[1;33m:\u001b[0m\u001b[1;33m\u001b[0m\u001b[0m\n\u001b[0;32m    730\u001b[0m         \u001b[1;32mif\u001b[0m \u001b[0mengine\u001b[0m \u001b[1;33m==\u001b[0m \u001b[1;34m'c'\u001b[0m\u001b[1;33m:\u001b[0m\u001b[1;33m\u001b[0m\u001b[0m\n\u001b[1;32m--> 731\u001b[1;33m             \u001b[0mself\u001b[0m\u001b[1;33m.\u001b[0m\u001b[0m_engine\u001b[0m \u001b[1;33m=\u001b[0m \u001b[0mCParserWrapper\u001b[0m\u001b[1;33m(\u001b[0m\u001b[0mself\u001b[0m\u001b[1;33m.\u001b[0m\u001b[0mf\u001b[0m\u001b[1;33m,\u001b[0m \u001b[1;33m**\u001b[0m\u001b[0mself\u001b[0m\u001b[1;33m.\u001b[0m\u001b[0moptions\u001b[0m\u001b[1;33m)\u001b[0m\u001b[1;33m\u001b[0m\u001b[0m\n\u001b[0m\u001b[0;32m    732\u001b[0m         \u001b[1;32melse\u001b[0m\u001b[1;33m:\u001b[0m\u001b[1;33m\u001b[0m\u001b[0m\n\u001b[0;32m    733\u001b[0m             \u001b[1;32mif\u001b[0m \u001b[0mengine\u001b[0m \u001b[1;33m==\u001b[0m \u001b[1;34m'python'\u001b[0m\u001b[1;33m:\u001b[0m\u001b[1;33m\u001b[0m\u001b[0m\n",
      "\u001b[1;32m/home/anna/.envs/subsidies/local/lib/python2.7/site-packages/pandas/io/parsers.pyc\u001b[0m in \u001b[0;36m__init__\u001b[1;34m(self, src, **kwds)\u001b[0m\n\u001b[0;32m   1101\u001b[0m         \u001b[0mkwds\u001b[0m\u001b[1;33m[\u001b[0m\u001b[1;34m'allow_leading_cols'\u001b[0m\u001b[1;33m]\u001b[0m \u001b[1;33m=\u001b[0m \u001b[0mself\u001b[0m\u001b[1;33m.\u001b[0m\u001b[0mindex_col\u001b[0m \u001b[1;32mis\u001b[0m \u001b[1;32mnot\u001b[0m \u001b[0mFalse\u001b[0m\u001b[1;33m\u001b[0m\u001b[0m\n\u001b[0;32m   1102\u001b[0m \u001b[1;33m\u001b[0m\u001b[0m\n\u001b[1;32m-> 1103\u001b[1;33m         \u001b[0mself\u001b[0m\u001b[1;33m.\u001b[0m\u001b[0m_reader\u001b[0m \u001b[1;33m=\u001b[0m \u001b[0m_parser\u001b[0m\u001b[1;33m.\u001b[0m\u001b[0mTextReader\u001b[0m\u001b[1;33m(\u001b[0m\u001b[0msrc\u001b[0m\u001b[1;33m,\u001b[0m \u001b[1;33m**\u001b[0m\u001b[0mkwds\u001b[0m\u001b[1;33m)\u001b[0m\u001b[1;33m\u001b[0m\u001b[0m\n\u001b[0m\u001b[0;32m   1104\u001b[0m \u001b[1;33m\u001b[0m\u001b[0m\n\u001b[0;32m   1105\u001b[0m         \u001b[1;31m# XXX\u001b[0m\u001b[1;33m\u001b[0m\u001b[1;33m\u001b[0m\u001b[0m\n",
      "\u001b[1;32mpandas/parser.pyx\u001b[0m in \u001b[0;36mpandas.parser.TextReader.__cinit__ (pandas/parser.c:3246)\u001b[1;34m()\u001b[0m\n",
      "\u001b[1;32mpandas/parser.pyx\u001b[0m in \u001b[0;36mpandas.parser.TextReader._setup_parser_source (pandas/parser.c:6111)\u001b[1;34m()\u001b[0m\n",
      "\u001b[1;31mIOError\u001b[0m: File SSF_subsidies_withfuel.csv does not exist"
     ]
    }
   ],
   "source": [
    "#  save as csv file to add fuel subsidies\n",
    "SSF_subsidies_estimates_assessed.to_csv('SSF_subsidies_estimates_assessed.csv')\n",
    "#  read the newly created csv file now including fuel subsidy estimates\n",
    "SSF_estimates_all = pd.read_csv(\"SSF_subsidies_withfuel.csv\")"
   ]
  },
  {
   "cell_type": "code",
   "execution_count": null,
   "metadata": {
    "collapsed": true
   },
   "outputs": [],
   "source": []
  },
  {
   "cell_type": "code",
   "execution_count": null,
   "metadata": {
    "collapsed": false
   },
   "outputs": [],
   "source": [
    "np.sum(SSF_estimates_all['SSF_subsidies_USD'])"
   ]
  },
  {
   "cell_type": "code",
   "execution_count": null,
   "metadata": {
    "collapsed": false
   },
   "outputs": [],
   "source": [
    "subsidies_category = SSF_estimates_all.groupby(['Category']).sum()\n",
    "subsidies_category.columns.values"
   ]
  },
  {
   "cell_type": "code",
   "execution_count": null,
   "metadata": {
    "collapsed": false
   },
   "outputs": [],
   "source": [
    "subsidies_categoryloc[:,[\n",
    "        'Category','ReEst_Subsidy2009_original','SSF_USD_1000']"
   ]
  },
  {
   "cell_type": "code",
   "execution_count": null,
   "metadata": {
    "collapsed": true
   },
   "outputs": [],
   "source": [
    "Subsidies_per_Category['percent SSF Category'] = Subsidies_per_Category['SSF subsidies']/Subsidies_per_Category['total subsidies']*100"
   ]
  },
  {
   "cell_type": "code",
   "execution_count": null,
   "metadata": {
    "collapsed": false
   },
   "outputs": [],
   "source": [
    " SSF_meancatch_meansubsidies_all"
   ]
  },
  {
   "cell_type": "code",
   "execution_count": null,
   "metadata": {
    "collapsed": true
   },
   "outputs": [],
   "source": []
  }
 ],
 "metadata": {
  "kernelspec": {
   "display_name": "Python 2",
   "language": "python",
   "name": "python2"
  },
  "language_info": {
   "codemirror_mode": {
    "name": "ipython",
    "version": 2
   },
   "file_extension": ".py",
   "mimetype": "text/x-python",
   "name": "python",
   "nbconvert_exporter": "python",
   "pygments_lexer": "ipython2",
   "version": "2.7.6"
  }
 },
 "nbformat": 4,
 "nbformat_minor": 0
}
