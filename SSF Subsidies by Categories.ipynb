{
 "cells": [
  {
   "cell_type": "code",
   "execution_count": 1,
   "metadata": {
    "collapsed": false
   },
   "outputs": [
    {
     "data": {
      "text/plain": [
       "u'0.17.1'"
      ]
     },
     "execution_count": 1,
     "metadata": {},
     "output_type": "execute_result"
    }
   ],
   "source": [
    "import pandas as pd\n",
    "\n",
    "import matplotlib.pyplot as plt\n",
    "\n",
    "import matplotlib as mpl\n",
    "\n",
    "import numpy as np\n",
    "\n",
    "%matplotlib inline\n",
    "\n",
    "plt.style.use('ggplot')\n",
    "\n",
    "pd.set_option('precision',3)\n",
    "\n",
    "pd.__version__"
   ]
  },
  {
   "cell_type": "code",
   "execution_count": 2,
   "metadata": {
    "collapsed": true
   },
   "outputs": [],
   "source": [
    "SSF_subsidies = pd.read_csv(\"SSF_subsidies.csv\")\n",
    "countries = pd.read_csv(\"Country_Data.csv\")\n",
    "catch = pd.read_csv(\"SAU_Catches.csv\")\n",
    "type_EEZ = pd.read_csv(\"Subtype_Fleet_EEZ.csv\")\n",
    "all_subsidies = pd.read_csv(\"Subsidies2009.csv\")"
   ]
  },
  {
   "cell_type": "code",
   "execution_count": 3,
   "metadata": {
    "collapsed": true
   },
   "outputs": [],
   "source": [
    "SSF_subsidies['SSF_subsidies_percent'] = SSF_subsidies['SSF_USD_1000']/SSF_subsidies['total_subsidies']\n",
    "\n",
    "#  merge original all subsidies data with to align with subsidy \n",
    "#  type and whether the EEZ catch data or the FLeet catch data apply, \n",
    "#  see type_EEZ data, this is in preparation to later merge with SAU_catch data \n",
    "\n",
    "subsidies_type = pd.merge(\n",
    "    left=all_subsidies,\n",
    "    right=type_EEZ,\n",
    "    how='left'\n",
    ")\n",
    "\n",
    "#  now this needs to be merged with country data to have coordinates per country\n",
    "#  and have each country data point assigned to a subregion (thanks to Andres data)\n",
    "\n",
    "subsidies_type_countries = pd.merge(\n",
    "    left=subsidies_type,\n",
    "    right=countries,\n",
    "    how='left'\n",
    ")\n",
    "\n",
    "#  calculate SSF catch percent by dividing SSF catch / total catch\n",
    "\n",
    "catch['SSF_catch_percent']=catch['SSF_catch']/catch['total_catch']\n",
    "\n",
    "#  merge with SSF catch from SAU_catch data\n",
    "\n",
    "subsidies_type_countries_catch = pd.merge(\n",
    "    left=subsidies_type_countries,\n",
    "    right=catch, how='left'\n",
    ")\n",
    "\n",
    "#  calculating mean SSF catch per subregion, \n",
    "#  needed to use to fill gaps for SSF subsidies that have not been assessed\n",
    "\n",
    "catch_countries = pd.merge(\n",
    "    left=catch, \n",
    "    right=countries, \n",
    "    how='left'\n",
    ")"
   ]
  },
  {
   "cell_type": "code",
   "execution_count": 6,
   "metadata": {
    "collapsed": true
   },
   "outputs": [],
   "source": [
    "catch_by_subregion = catch_countries.groupby(['Subregion']).sum()\n",
    "catch_by_subregion['SSF_subregion_catch'] = (\n",
    "    catch_by_subregion['SSF_catch']/catch_by_subregion['total_catch']\n",
    ")\n",
    "\n",
    "catch_by_subregion = catch_by_subregion.reset_index()\n",
    "\n",
    "SSF_subregion_catch = catch_by_subregion.loc[:,['Subregion','SSF_subregion_catch']]\n",
    "\n",
    "\n",
    "#  merging mean catch with all subsidies data\n",
    "subsidies_type_countries_catch_meancatch = pd.merge(\n",
    "    left=subsidies_type_countries_catch,right=SSF_subregion_catch, how='left'\n",
    ") \n",
    "\n",
    "#  preparing SSF subsidies by merging with country data\n",
    "SSF_subsidies_countries = pd.merge(\n",
    "    left=SSF_subsidies,right=countries, how='left')\n",
    "\n",
    "#  from SSF subsidies assessed calculate mean per subregion and per type \n",
    "#  to fill gaps of countries that have not been assessed\n",
    "SSF_by_subregion = SSF_subsidies_countries.groupby(\n",
    "    ['Subregion','Type']).sum(\n",
    ")\n",
    "\n",
    "\n",
    "SSF_by_subregion['SSF_subsidies_subregion'] = (\n",
    "    SSF_by_subregion['SSF_USD_1000']/SSF_by_subregion['total_subsidies']\n",
    ")\n",
    "SSF_by_subregion = SSF_by_subregion.reset_index()\n",
    "SSF_subsidies_subregion = SSF_by_subregion.loc[:,['Subregion','Type','SSF_subsidies_subregion']]"
   ]
  },
  {
   "cell_type": "code",
   "execution_count": 9,
   "metadata": {
    "collapsed": false
   },
   "outputs": [
    {
     "name": "stdout",
     "output_type": "stream",
     "text": [
      "ssf all: True, total: 26849.2514743\n",
      "ssf all: 0.0, total: False\n",
      "ssf all: False, total: True, isNaN: False\n",
      "ssf all: 0.345222623209, total: False, isNaN: 0.211431702815\n"
     ]
    }
   ],
   "source": [
    "\n",
    "#  as not all subsidies types are covered by countries assessed, \n",
    "#  mean values for region are being calculated to replace the empty cells\n",
    "SSF_by_region = SSF_subsidies_countries.groupby(\n",
    "    ['RegionName','Type']).sum(\n",
    ")\n",
    "SSF_by_region['SSF_subsidies_region'] = (\n",
    "    SSF_by_region['SSF_USD_1000']/SSF_by_region['total_subsidies']\n",
    ")\n",
    "SSF_by_region = SSF_by_region.reset_index()\n",
    "SSF_subsidies_region = SSF_by_region.loc[\n",
    "    :,['RegionName','Type','SSF_subsidies_region']\n",
    "]\n",
    "\n",
    "#  merge mean subsidies by type and subregion to all subsidies data\n",
    "catch_subsidies_subregion = pd.merge(\n",
    "    left=subsidies_type_countries_catch_meancatch,right=SSF_subsidies_subregion, how='left'\n",
    ")\n",
    "\n",
    "\n",
    "#  merge mean subsidies by type and region to all subsidies data that now have included total subsidies per subregion\n",
    "catch_subsidies_subregion_region = pd.merge(\n",
    "    left=catch_subsidies_subregion,right=SSF_subsidies_region, how='left'\n",
    ")\n",
    "\n",
    "#  fill gaps from mean subsidies per subregion with mean subsidies per region and name new column ['subsidies_subregion_all']\n",
    "\n",
    "#  create new column and name ['SSF_subsidies_true] and state true for all values > 0 \n",
    "\n",
    "catch_subsidies_subregion_region['total_subsidies_true'] = np.where(\n",
    "    catch_subsidies_subregion_region['total_subsidies'] > 0, True, False\n",
    ")\n",
    "    \n",
    "def check_data(index=0):\n",
    "    df = catch_subsidies_subregion_region\n",
    "    print(\"ssf all: {}, total: {}\".format(df['total_subsidies_true'][index], df['total_subsidies'][index]))\n",
    "    \n",
    "check_data(1946)\n",
    "\n",
    "#  make a new column that states True for NaN in subsidies per subregion and name ['total_subregion_NaN']\n",
    "\n",
    "catch_subsidies_subregion_region['total_subregion_NaN'] = pd.isnull(catch_subsidies_subregion_region['SSF_subsidies_subregion'])\n",
    "\n",
    "\n",
    "def check_data(index=0):\n",
    "    print(\"ssf all: {}, total: {}\".format(catch_subsidies_subregion_region['SSF_subsidies_subregion'][index], catch_subsidies_subregion_region['total_subregion_NaN'][index]))\n",
    "    \n",
    "check_data(1946)\n",
    "\n",
    "#  create a new column that states True when ['total_subregion_NaN'] is True and ['SSF_subsidies_true] is True\n",
    "#  name new column ['total_subregion_all']\n",
    "#  this shows when True that there is a total subsidy for that category \n",
    "#  but no value from total subregion subsidy data and therefore we will replace with the total region value\n",
    "\n",
    "catch_subsidies_subregion_region['total_subregion_all'] = np.where((catch_subsidies_subregion_region['total_subsidies_true'] == True) & (catch_subsidies_subregion_region['total_subregion_NaN'] == True), True, False)\n",
    "\n",
    "\n",
    "def check_data(index=0):\n",
    "    print(\"ssf all: {0}, total: {1}, isNaN: {2}\".format(catch_subsidies_subregion_region['total_subregion_all'][index],catch_subsidies_subregion_region['total_subsidies_true'][index], catch_subsidies_subregion_region['total_subregion_NaN'][index]))\n",
    "\n",
    "check_data(1056)\n",
    "\n",
    "#  create new column and name ['subsidies_subregion_all'] to use value from subregion or from region\n",
    "#  when ['total_subregion_all'] is true use region data when false use subregion data\n",
    "\n",
    "\n",
    "#  catch_subsidies_subregion_region['subsidies_subregion_all'] = \n",
    "#  np.where(catch_subsidies_subregion_region['total_subregion_all'] == True, \n",
    "#  catch_subsidies_subregion_region['SSF_subsidies_region'], \n",
    "#  catch_subsidies_subregion_region['SSF_subsidies_subregion'])\n",
    "\n",
    "\n",
    "catch_subsidies_subregion_region['subsidies_subregion_all'] = np.where(catch_subsidies_subregion_region['total_subregion_all'] == True, catch_subsidies_subregion_region['SSF_subsidies_region'], catch_subsidies_subregion_region['SSF_subsidies_subregion'])\n",
    "\n",
    "catch_subsidies_subregion_region\n",
    "\n",
    "def check_data(index=0):\n",
    "    print(\"ssf all: {0}, total: {1}, isNaN: {2}\".format(catch_subsidies_subregion_region['subsidies_subregion_all'][index],catch_subsidies_subregion_region['total_subregion_all'][index], catch_subsidies_subregion_region['SSF_subsidies_region'][index]))\n",
    "\n",
    "check_data(1146)\n"
   ]
  },
  {
   "cell_type": "code",
   "execution_count": null,
   "metadata": {
    "collapsed": true
   },
   "outputs": [],
   "source": []
  }
 ],
 "metadata": {
  "kernelspec": {
   "display_name": "Python 2",
   "language": "python",
   "name": "python2"
  },
  "language_info": {
   "codemirror_mode": {
    "name": "ipython",
    "version": 2
   },
   "file_extension": ".py",
   "mimetype": "text/x-python",
   "name": "python",
   "nbconvert_exporter": "python",
   "pygments_lexer": "ipython2",
   "version": "2.7.6"
  }
 },
 "nbformat": 4,
 "nbformat_minor": 0
}
