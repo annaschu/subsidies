{
 "cells": [
  {
   "cell_type": "code",
   "execution_count": 3,
   "metadata": {
    "collapsed": false
   },
   "outputs": [
    {
     "data": {
      "text/plain": [
       "u'0.17.1'"
      ]
     },
     "execution_count": 3,
     "metadata": {},
     "output_type": "execute_result"
    }
   ],
   "source": [
    "import pandas as pd\n",
    "\n",
    "import matplotlib.pyplot as plt\n",
    "\n",
    "import matplotlib as mpl\n",
    "\n",
    "import numpy as np\n",
    "\n",
    "%matplotlib inline\n",
    "\n",
    "plt.style.use('ggplot')\n",
    "\n",
    "pd.__version__"
   ]
  },
  {
   "cell_type": "code",
   "execution_count": null,
   "metadata": {
    "collapsed": false
   },
   "outputs": [],
   "source": [
    "SSF_subsidies = pd.read_csv(\"SSF_subsidies.csv\")\n",
    "countries = pd.read_csv(\"Country_Data.csv\")\n",
    "catch = pd.read_csv(\"SAU_Catches.csv\")\n",
    "type_EEZ = pd.read_csv(\"Subtype_Fleet_EEZ.csv\")\n",
    "all_subsidies = pd.read_csv(\"Subsidies2009.csv\")"
   ]
  },
  {
   "cell_type": "code",
   "execution_count": null,
   "metadata": {
    "collapsed": false
   },
   "outputs": [],
   "source": [
    "SSF_subsidies.groupby(['SubType']).sum()"
   ]
  },
  {
   "cell_type": "code",
   "execution_count": null,
   "metadata": {
    "collapsed": false
   },
   "outputs": [],
   "source": [
    "catch.groupby(['EEZ']).sum()"
   ]
  },
  {
   "cell_type": "code",
   "execution_count": null,
   "metadata": {
    "collapsed": true
   },
   "outputs": [],
   "source": [
    "\n",
    "\n",
    "SSF_subsidies['SSF_subsidies_percent'] = SSF_subsidies['SSF_USD_1000']/SSF_subsidies['total_subsidies']\n",
    "\n",
    "\n",
    "#  merge original all subsidies data with to align with subsidy \n",
    "#  type and whether the EEZ catch data or the FLeet catch data apply, \n",
    "#  see type_EEZ data, this is in preparation to later merge with SAU_catch data \n",
    "\n",
    "subsidies_type = pd.merge(\n",
    "    left=all_subsidies,\n",
    "    right=type_EEZ,\n",
    "    how='left'\n",
    ")\n",
    "\n",
    "\n",
    "#  now this needs to be merged with country data to have coordinates per country\n",
    "#  and have each country data point assigned to a subregion (thanks to Andres data)\n",
    "\n",
    "subsidies_type_countries = pd.merge(\n",
    "    left=subsidies_type,\n",
    "    right=countries,\n",
    "    how='left'\n",
    ")\n",
    "\n",
    "\n",
    "#  calculate SSF catch percent by dividing SSF catch / total catch\n",
    "\n",
    "catch['SSF_catch_percent']=catch['SSF_catch']/catch['total_catch']\n",
    "\n",
    "\n",
    "#  merge with SSF catch from SAU_catch data\n",
    "\n",
    "subsidies_type_countries_catch = pd.merge(\n",
    "    left=subsidies_type_countries,\n",
    "    right=catch, how='left'\n",
    ")\n",
    "\n",
    "#  calculating mean SSF catch per subregion, \n",
    "#  needed to use to fill gaps for SSF subsidies that have not been assessed\n",
    "\n",
    "catch_countries = pd.merge(\n",
    "    left=catch, \n",
    "    right=countries, \n",
    "    how='left'\n",
    ")"
   ]
  },
  {
   "cell_type": "code",
   "execution_count": null,
   "metadata": {
    "collapsed": true
   },
   "outputs": [],
   "source": [
    "\n",
    "catch_by_subregion = catch_countries.groupby(['Subregion']).sum()\n",
    "catch_by_subregion['SSF_subregion_catch'] = (\n",
    "    catch_by_subregion['SSF_catch']/catch_by_subregion['total_catch']\n",
    ")\n",
    "\n",
    "catch_by_subregion = catch_by_subregion.reset_index()\n",
    "\n",
    "SSF_subregion_catch = catch_by_subregion.loc[:,['Subregion','SSF_subregion_catch']]\n",
    "\n",
    "\n",
    "\n",
    "#  merging mean catch with all subsidies data\n",
    "subsidies_type_countries_catch_meancatch = pd.merge(\n",
    "    left=subsidies_type_countries_catch,right=SSF_subregion_catch, how='left'\n",
    ") \n",
    "\n",
    "#  preparing SSF subsidies by merging with country data\n",
    "SSF_subsidies_countries = pd.merge(\n",
    "    left=SSF_subsidies,right=countries, how='left')\n",
    "\n",
    "#  from SSF subsidies assessed calculate mean per subregion and per type \n",
    "#  to fill gaps of countries that have not been assessed\n",
    "SSF_by_subregion = SSF_subsidies_countries.groupby(\n",
    "    ['Subregion','Type']).sum(\n",
    ")\n",
    "\n",
    "\n",
    "SSF_by_subregion['SSF_subsidies_subregion'] = (\n",
    "    SSF_by_subregion['SSF_USD_1000']/SSF_by_subregion['total_subsidies']\n",
    ")\n",
    "SSF_by_subregion = SSF_by_subregion.reset_index()\n",
    "SSF_subsidies_subregion = SSF_by_subregion.loc[:,['Subregion','Type','SSF_subsidies_subregion']]\n"
   ]
  },
  {
   "cell_type": "code",
   "execution_count": null,
   "metadata": {
    "collapsed": false
   },
   "outputs": [],
   "source": [
    "\n",
    "#  as not all subsidies types are covered by countries assessed, \n",
    "#  mean values for region are being calculated to replace the empty cells\n",
    "SSF_by_region = SSF_subsidies_countries.groupby(\n",
    "    ['RegionName','Type']).sum(\n",
    ")\n",
    "SSF_by_region['SSF_subsidies_region'] = (\n",
    "    SSF_by_region['SSF_USD_1000']/SSF_by_region['total_subsidies']\n",
    ")\n",
    "SSF_by_region = SSF_by_region.reset_index()\n",
    "SSF_subsidies_region = SSF_by_region.loc[\n",
    "    :,['RegionName','Type','SSF_subsidies_region']\n",
    "]\n",
    "\n",
    "#  merge mean subsidies by type and subregion to all subsidies data\n",
    "catch_subsidies_subregion = pd.merge(\n",
    "    left=subsidies_type_countries_catch_meancatch,right=SSF_subsidies_subregion, how='left'\n",
    ")\n",
    "\n",
    "\n",
    "#  merge mean subsidies by type and region to all subsidies data that now have included total subsidies per subregion\n",
    "catch_subsidies_subregion_region = pd.merge(\n",
    "    left=catch_subsidies_subregion,right=SSF_subsidies_region, how='left'\n",
    ")\n",
    "\n",
    "#  fill gaps from mean subsidies per subregion with mean subsidies per region and name new column ['subsidies_subregion_all']\n",
    "\n",
    "#  create new column and name ['SSF_subsidies_true] and state true for all values > 0 \n",
    "\n",
    "catch_subsidies_subregion_region['total_subsidies_true'] = np.where(\n",
    "    catch_subsidies_subregion_region['total_subsidies'] > 0, True, False\n",
    ")\n",
    "    \n",
    "def check_data(index=0):\n",
    "    df = catch_subsidies_subregion_region\n",
    "    print(\"ssf all: {}, total: {}\".format(df['total_subsidies_true'][index], df['total_subsidies'][index]))\n",
    "    \n",
    "check_data(1946)\n",
    "\n",
    "#  make a new column that states True for NaN in subsidies per subregion and name ['total_subregion_NaN']\n",
    "\n",
    "catch_subsidies_subregion_region['total_subregion_NaN'] = pd.isnull(catch_subsidies_subregion_region['SSF_subsidies_subregion'])\n",
    "\n",
    "\n",
    "def check_data(index=0):\n",
    "    print(\"ssf all: {}, total: {}\".format(catch_subsidies_subregion_region['SSF_subsidies_subregion'][index], catch_subsidies_subregion_region['total_subregion_NaN'][index]))\n",
    "    \n",
    "check_data(1946)\n",
    "\n"
   ]
  },
  {
   "cell_type": "code",
   "execution_count": null,
   "metadata": {
    "collapsed": false
   },
   "outputs": [],
   "source": [
    "#  create a new column that states True when ['total_subregion_NaN'] is True and ['SSF_subsidies_true] is True\n",
    "#  name new column ['total_subregion_all']\n",
    "#  this shows when True that there is a total subsidy for that category \n",
    "#  but no value from total subregion subsidy data and therefore we will replace with the total region value\n",
    "\n",
    "catch_subsidies_subregion_region['total_subregion_all'] = np.where((catch_subsidies_subregion_region['total_subsidies_true'] == True) & (catch_subsidies_subregion_region['total_subregion_NaN'] == True), True, False)\n",
    "\n",
    "\n",
    "def check_data(index=0):\n",
    "    print(\"ssf all: {0}, total: {1}, isNaN: {2}\".format(catch_subsidies_subregion_region['total_subregion_all'][index],catch_subsidies_subregion_region['total_subsidies_true'][index], catch_subsidies_subregion_region['total_subregion_NaN'][index]))\n",
    "\n",
    "check_data(1056)"
   ]
  },
  {
   "cell_type": "code",
   "execution_count": null,
   "metadata": {
    "collapsed": false
   },
   "outputs": [],
   "source": [
    "#  create new column and name ['subsidies_subregion_all'] to use value from subregion or from region\n",
    "#  when ['total_subregion_all'] is true use region data when false use subregion data\n",
    "\n",
    "\n",
    "#  catch_subsidies_subregion_region['subsidies_subregion_all'] = \n",
    "#  np.where(catch_subsidies_subregion_region['total_subregion_all'] == True, \n",
    "#  catch_subsidies_subregion_region['SSF_subsidies_region'], \n",
    "#  catch_subsidies_subregion_region['SSF_subsidies_subregion'])\n",
    "\n",
    "\n",
    "catch_subsidies_subregion_region['subsidies_subregion_all'] = np.where(catch_subsidies_subregion_region['total_subregion_all'] == True, catch_subsidies_subregion_region['SSF_subsidies_region'], catch_subsidies_subregion_region['SSF_subsidies_subregion'])\n",
    "\n",
    "catch_subsidies_subregion_region\n",
    "\n",
    "def check_data(index=0):\n",
    "    print(\"ssf all: {0}, total: {1}, isNaN: {2}\".format(catch_subsidies_subregion_region['subsidies_subregion_all'][index],catch_subsidies_subregion_region['total_subregion_all'][index], catch_subsidies_subregion_region['SSF_subsidies_region'][index]))\n",
    "\n",
    "check_data(1146)"
   ]
  },
  {
   "cell_type": "code",
   "execution_count": null,
   "metadata": {
    "collapsed": false
   },
   "outputs": [],
   "source": [
    "np.sum(catch_subsidies_subregion_region['total_subsidies'])"
   ]
  },
  {
   "cell_type": "code",
   "execution_count": null,
   "metadata": {
    "collapsed": false
   },
   "outputs": [],
   "source": [
    "countries.columns.values"
   ]
  },
  {
   "cell_type": "code",
   "execution_count": null,
   "metadata": {
    "collapsed": false
   },
   "outputs": [],
   "source": [
    "#  toshorten the create dataframe, creat subsidies1 that only include at this point relevant columns\n",
    "\n",
    "subsidies1 = catch_subsidies_subregion_region.loc[:,['RegionName','Subregion','Countries','CLon', 'CLat','SIDS',\n",
    "       'TotPop', 'HDI', 'Developed', 'GDP', 'EU member', 'Category','SubType','Type','EEZ', 'total_subsidies','SSF_catch_percent','SSF_subregion_catch','subsidies_subregion_all']]\n",
    "\n",
    "#  create a new column 'Factor' and calculate as adjustment value for total subsidies per subregion and total SSF catch per subregion \n",
    "#  used to fill gaps for country that have not been assessed, this is done per subsidy subtype also\n",
    "\n",
    "subsidies1['Factor'] = subsidies1['SSF_catch_percent']/subsidies1['SSF_subregion_catch']\n",
    "\n",
    "#  multiply the \"Factor\" value with the mean subsidy value per subregion\n",
    "#  to estimate the value for SSF subsidies per subsidy type for the countries that have not been assessed\n",
    "subsidies1['SSF_subsidies_estimates'] = subsidies1['Factor']*subsidies1['subsidies_subregion_all']\n",
    "\n",
    "\n",
    "#  to make sure none of the estimated values exceed 1 (100%) the SSF_subsidies_estimate will be capped at 1\n",
    "\n",
    "subsidies1['SSF_subsidies_estimates_big'] = subsidies1['SSF_subsidies_estimates'] > 1\n",
    "\n",
    "subsidies1['SSF_estimates_corrected'] = np.where(subsidies1['SSF_subsidies_estimates_big'] == True, 1, subsidies1['SSF_subsidies_estimates'])\n",
    "\n",
    "def check_data(index=0):\n",
    "    print(\"ssf_estimates: {0}, ssf_big: {1}, SSF_corrected: {2}\".format(subsidies1['SSF_subsidies_estimates'][index],subsidies1['SSF_subsidies_estimates_big'][index], subsidies1['SSF_estimates_corrected'][index]))\n",
    "\n",
    "check_data(1002)\n"
   ]
  },
  {
   "cell_type": "code",
   "execution_count": null,
   "metadata": {
    "collapsed": false
   },
   "outputs": [],
   "source": [
    "#  shorten SSF subsidy data, that contains originally assessed SSF subsidy values\n",
    "\n",
    "SSF_subsidies_short = SSF_subsidies_countries.loc[:,[\n",
    "        'Countries','Type','SSFsubsidies_assessed_percent','weighted_by_sectorsize',\n",
    "        'Data_group','SSF_USD_1000','SSF_subsidies_percent']\n",
    "                                                 ]\n",
    "\n",
    "\n",
    "#  merge estimated values for subsidies with SSF assessed subsidies data\n",
    "SSF_subsidies_estimates_assessed = pd.merge(\n",
    "    left=subsidies1,right=SSF_subsidies_short,how='left'\n",
    ")\n",
    "\n",
    "#  use fillna function to use estimated values for SSF subsidies to fill gaps of countries that have not been assessed\n",
    "SSF_subsidies_estimates_assessed['SSF_subsidies_percent_all'] = SSF_subsidies_estimates_assessed[\n",
    "    'SSF_subsidies_percent'].fillna(\n",
    "    SSF_subsidies_estimates_assessed['SSF_estimates_corrected']\n",
    ")\n",
    "\n",
    "#  calculate USD values for all SSF for all subtypes and countries form the estimated and assessed percentages\n",
    "SSF_subsidies_estimates_assessed['SSF_subsidies_USD'] = (\n",
    "    SSF_subsidies_estimates_assessed['total_subsidies']\n",
    ")*SSF_subsidies_estimates_assessed['SSF_subsidies_percent_all']\n",
    "\n",
    "#  rename column names to make it easy for visualization and graphs and calculate LSF subsidies\n",
    "\n",
    "SSF_subsidies_estimates_assessed = SSF_subsidies_estimates_assessed.rename(columns={'SSF_subsidies_USD':'SSF subsidies'})\n",
    "\n",
    "SSF_subsidies_estimates_assessed['LSF subsidies'] = SSF_subsidies_estimates_assessed['total_subsidies'] - SSF_subsidies_estimates_assessed['SSF subsidies']\n",
    "\n",
    "SSF_subsidies_estimates_assessed.to_csv('SSF_subsidies_all.csv')\n",
    "\n",
    "print np.sum(SSF_subsidies_estimates_assessed['SSF subsidies'])\n",
    "print np.sum(SSF_subsidies_estimates_assessed['total_subsidies'])\n",
    "print np.sum(SSF_subsidies_estimates_assessed['LSF subsidies'])\n",
    "\n",
    "subsidies1.to_csv('check_subsidies1.csv')\n"
   ]
  },
  {
   "cell_type": "code",
   "execution_count": null,
   "metadata": {
    "collapsed": false
   },
   "outputs": [],
   "source": [
    "35371111.0032-5105976.14144"
   ]
  },
  {
   "cell_type": "code",
   "execution_count": null,
   "metadata": {
    "collapsed": false
   },
   "outputs": [],
   "source": [
    "\n",
    "SSFglobalpercent = np.sum(SSF_subsidies_estimates_assessed['SSF subsidies'])/np.sum(catch_subsidies_subregion_region['total_subsidies'])*100\n",
    "\n",
    "SSFglobalpercent"
   ]
  },
  {
   "cell_type": "code",
   "execution_count": null,
   "metadata": {
    "collapsed": false
   },
   "outputs": [],
   "source": [
    "\n",
    "#  prepare for plotting global subsidies per category\n",
    "\n",
    "Subsidies_per_Category = SSF_subsidies_estimates_assessed.groupby(['Category']).sum()\n",
    "\n",
    "Subsidies_per_Category['SSF percent'] = Subsidies_per_Category['SSF subsidies']/Subsidies_per_Category['total_subsidies']*100\n",
    "print Subsidies_per_Category['SSF percent']\n",
    "Subsidies_per_Category_short = Subsidies_per_Category.loc[:,['LSF subsidies', 'SSF subsidies','total_subsidies']]\n",
    "\n",
    "Subsidies_per_Category_short['check'] = Subsidies_per_Category_short['LSF subsidies'] + Subsidies_per_Category_short['SSF subsidies']\n",
    "Subsidies_per_Category_short"
   ]
  },
  {
   "cell_type": "code",
   "execution_count": null,
   "metadata": {
    "collapsed": false
   },
   "outputs": [],
   "source": [
    "\n",
    "\n",
    "data = Subsidies_per_Category[['LSF subsidies','SSF subsidies']]\n",
    "data_dict = data.to_dict()\n",
    "\n",
    "\n",
    "# these percentages are the SSF percent out of the total subsidie calculated in Subsidies_per_Category['SSF percent']\n",
    "SSFpercent = (\n",
    "    {'label': 'Ambiguous', 'percentage': 14.8}, \n",
    "    {'label': 'Beneficial', 'percentage': 24.3},\n",
    "    {'label': 'Capacity-enhancing', 'percentage': 10.6}\n",
    ")\n",
    "\n",
    "# add totals to SFFpercent\n",
    "for key, val in data_dict.items():\n",
    "    for k, v in data_dict[key].items():\n",
    "        for i in SSFpercent:\n",
    "            if i['label'] == k:\n",
    "                if 'total' in i.keys():\n",
    "                    i['total'] += v\n",
    "                else:\n",
    "                    i['total'] = v\n",
    "\n",
    "# print(\"data_dict {}\".format(data_dict))\n",
    "\n",
    "\n",
    "# create subplot\n",
    "ax = data.plot(kind='bar', figsize=(15,10),stacked=True, legend=True, fontsize=18, color=[\"darkgray\",\"darkslategrey\"])\n",
    "ax.set_title(\"Global fisheries subsidies (2009)\", fontsize=18)\n",
    "ax.set_ylabel(\"USD x 10^10\",fontsize=22)\n",
    "ax.set_xlabel(\"\",fontsize=18)\n",
    "ax.set_xticklabels(['Ambiguous','Beneficial', 'Capacity-enhancing'],rotation=360, fontsize=18)\n",
    "ax.set_axis_bgcolor('0.96')\n",
    "ax.yaxis.labelpad = 20\n",
    "\n",
    "# get an ordered list of percentages\n",
    "percentages = []\n",
    "for item in SSFpercent:\n",
    "    for k, v in item.items():\n",
    "        if k == 'percentage':\n",
    "            percentages.append(v)\n",
    "\n",
    "# prepare rects\n",
    "N = len(SSFpercent)\n",
    "indexes = np.arange(N)\n",
    "width = 0.02\n",
    "rects = ax.bar(indexes, percentages, width)\n",
    "\n",
    "# iterate rects and map index with SSF percentage\n",
    "for index, rect in enumerate(rects):\n",
    "    SSFpercent[index]['rect_x'] = rect.get_x() \n",
    "\n",
    "\n",
    "# now we have a single object holding \n",
    "# all the values we need to label the chart \n",
    "for bar in SSFpercent:\n",
    "    #  get percenatage label as a string\n",
    "    percentage = bar['percentage']\n",
    "    #  get value of to of bar\n",
    "    height = bar['total']\n",
    "    label_position = height - ((height / 100 * percentage) / 2)\n",
    "    #  position text lables\n",
    "    ax.text(\n",
    "        bar['rect_x'] + width/2,\n",
    "        label_position  - 12.4**5, str(percentage) + '%',\n",
    "        ha=\"center\",\n",
    "        family=\"monospace\",\n",
    "        fontsize=16,\n",
    "        fontweight=\"bold\",\n",
    "        color=\"white\"\n",
    "    )\n",
    "\n",
    "\n",
    "plt.savefig('Subsidies_Category.svg', dpi=400, bbox_inches='tight')\n",
    "plt.savefig('Subsidies_Category.pdf', dpi=400, bbox_inches='tight')\n",
    "plt.legend(loc=2,fontsize=18)\n",
    "plt.show()"
   ]
  },
  {
   "cell_type": "code",
   "execution_count": null,
   "metadata": {
    "collapsed": false
   },
   "outputs": [],
   "source": [
    "SSF_subsidies_estimates_assessed.columns.values"
   ]
  },
  {
   "cell_type": "code",
   "execution_count": null,
   "metadata": {
    "collapsed": false
   },
   "outputs": [],
   "source": [
    "SSF_subsidies_estimates_assessed.replace(to_replace='Developed', value=1)\n",
    "SSF = SSF_subsidies_estimates_assessed.loc[[330],['Developed']]\n",
    "SSF"
   ]
  },
  {
   "cell_type": "code",
   "execution_count": null,
   "metadata": {
    "collapsed": false
   },
   "outputs": [],
   "source": [
    "Subsidies_per_subtype = SSF_subsidies_estimates_assessed.groupby(['SubType']).sum()\n",
    "Subsidies_per_subtype = Subsidies_per_subtype.sort_values(by=['total_subsidies'],ascending=False)\n",
    "\n",
    "Subsidies_per_subtype['SSF percent'] = Subsidies_per_subtype['SSF subsidies']/Subsidies_per_subtype['total_subsidies']*100\n",
    "Subsidies_per_subtype_billions = Subsidies_per_subtype.loc[:,['LSF subsidies','SSF subsidies']]\n",
    "Subsidies_per_subtype_billions['LSF subsidies'] = Subsidies_per_subtype_billions['LSF subsidies']/1000000\n",
    "Subsidies_per_subtype_billions['SSF subsidies'] = Subsidies_per_subtype_billions['SSF subsidies']/1000000"
   ]
  },
  {
   "cell_type": "code",
   "execution_count": null,
   "metadata": {
    "collapsed": false
   },
   "outputs": [],
   "source": [
    "ax = Subsidies_per_subtype_billions[['LSF subsidies','SSF subsidies']].plot(kind='bar', figsize=(15,10),stacked=True, legend=True, fontsize=18, color=[\"darkgray\",\"darkslategrey\"] )\n",
    "ax.set_title(\"Global fisheries subsidies by Subtype (2009)\", fontsize=18)\n",
    "ax.set_ylabel(\"USD in billions\",fontsize=18)\n",
    "ax.yaxis.labelpad = 20\n",
    "ax.set_xlabel(\"Subtype\",fontsize=18)\n",
    "ax.set_xticklabels(['Fuel', 'Management','Port Develop','Boat construct','Research and Develop','Market and storage','Vessel buyback','Fisher assistance','MPAs','Tax exemption','Develop project','Fishing access','Rural fisher communities'],rotation=80, fontsize=18)\n",
    "ax.set_axis_bgcolor('0.96')\n",
    "plt.legend(loc='best',fontsize=18)\n",
    "plt.savefig('Subsidies_Subtype.svg', dpi=400, bbox_inches='tight')\n",
    "plt.savefig('Subsidies_Subtype.pdf', dpi=400, bbox_inches='tight')\n",
    "\n",
    "plt.show()"
   ]
  },
  {
   "cell_type": "code",
   "execution_count": null,
   "metadata": {
    "collapsed": false
   },
   "outputs": [],
   "source": [
    "Subtypes = Subsidies_per_subtype.loc[:,['SSF percent', 'SSF subsidies','total_subsidies']]\n",
    "Subtypes.to_csv('subtypes.csv')"
   ]
  },
  {
   "cell_type": "code",
   "execution_count": null,
   "metadata": {
    "collapsed": false
   },
   "outputs": [],
   "source": [
    "Developed_subtype = SSF_subsidies_estimates_assessed.groupby(['SubType','Developed']).sum()\n",
    "\n",
    "Developed_short = Developed_subtype.loc[:,['SSF subsidies']]\n",
    "Developed = Developed_short.reset_index()\n",
    "\n",
    "Developed_pivot = Developed.pivot_table(['SSF subsidies'], index=['SubType'], columns='Developed')\n",
    "\n",
    "Developed_pivot.to_csv('Developed_pivot.csv')\n",
    "Developed_sorted = pd.read_csv('Developed_pivot_sorted.csv')\n",
    "Developed_sorted = Developed_sorted.rename(columns={'Developing':'Developing countries', 'Developed':'Developed countries'})\n",
    "Developed_pivot"
   ]
  },
  {
   "cell_type": "code",
   "execution_count": null,
   "metadata": {
    "collapsed": false
   },
   "outputs": [],
   "source": [
    "ax = Developed_sorted[['Developed countries','Developing countries']].plot(kind='bar', figsize=(14,8),stacked=True, legend=True, fontsize=20, color=[\"MidnightBlue\",\"LightsteelBlue\"])\n",
    "            \n",
    "ax.set_title(\"Global small-scale fisheries subsidies (2009)\", fontsize=23)\n",
    "ax.set_titlepad = 100\n",
    "ax.set_ylabel(\"USD in billion\",fontsize=22)\n",
    "ax.yaxis.labelpad = 20\n",
    "ax.set_xlabel(\"\",fontsize=18)\n",
    "\n",
    "ax.set_xticklabels(['Management','Port Develop','Research and Develop','Boat construct','Fisher assistance','Fuel','MPAs','Develop project','Market and storage','Tax exemption','Rural fisher communities','Fishing access',\n",
    " 'Vessel buyback'],rotation=80, fontsize=20)\n",
    "ax.set_axis_bgcolor('w')\n",
    "\n",
    "legend = plt.legend(loc=5,fontsize=20)\n",
    "legend.get_frame().set_facecolor('w')\n",
    "\n",
    "plt.savefig('Subsidies_Developed.svg', dpi=400, bbox_inches='tight')\n",
    "plt.savefig('Subsidies_Developed.pdf', dpi=400, bbox_inches='tight')\n",
    "\n",
    "plt.show()"
   ]
  },
  {
   "cell_type": "code",
   "execution_count": null,
   "metadata": {
    "collapsed": false
   },
   "outputs": [],
   "source": [
    "305.0/138.0"
   ]
  },
  {
   "cell_type": "code",
   "execution_count": null,
   "metadata": {
    "collapsed": false
   },
   "outputs": [],
   "source": [
    "SSF_subsidies_estimates_assessed.columns.values"
   ]
  },
  {
   "cell_type": "code",
   "execution_count": null,
   "metadata": {
    "collapsed": false
   },
   "outputs": [],
   "source": [
    "Subsidies_per_region = SSF_subsidies_estimates_assessed.groupby(['RegionName']).sum()\n",
    "Subsidies_per_region['LSF subsidies'] = Subsidies_per_region['LSF subsidies']/1000000\n",
    "Subsidies_per_region['SSF subsidies'] = Subsidies_per_region['SSF subsidies']/1000000\n",
    "Subsidies_per_region = Subsidies_per_region.sort_values(by=['total_subsidies'],ascending=False)\n",
    "Subsidies_per_region['SSF percent'] = (Subsidies_per_region['SSF subsidies']/(Subsidies_per_region['total_subsidies']/1000000)) *100\n",
    "Subsidies_per_region['SSF percent'] "
   ]
  },
  {
   "cell_type": "code",
   "execution_count": null,
   "metadata": {
    "collapsed": false
   },
   "outputs": [],
   "source": [
    "regions_transposed = Subsidies_per_region.loc[:,['SSF subsidies','LSF subsidies']].transpose()\n",
    "# how to make , color=[\"darkgray\",\"darkslategrey\"]?\n",
    "ax = regions_transposed.plot(kind='pie', subplots=True, figsize=(60, 10,))\n",
    "\n",
    "plt.savefig('regions_pie.svg', dpi=400, bbox_inches='tight')\n",
    "plt.show()"
   ]
  },
  {
   "cell_type": "code",
   "execution_count": null,
   "metadata": {
    "collapsed": false
   },
   "outputs": [],
   "source": [
    "\n",
    "data = Subsidies_per_region[['LSF subsidies','SSF subsidies']]\n",
    "data_dict = data.to_dict()\n",
    "\n",
    "\n",
    "# these percentages are the SSF percent out of the total subsidies calculated in Subsidies_per_region['SSF percent']\n",
    "SSFpercent = (\n",
    "    {'label': 'Asia', 'percentage': 18.6}, \n",
    "    {'label': 'Europe', 'percentage': 7},\n",
    "    {'label': 'North America', 'percentage': 18.8},\n",
    "    {'label': 'Oceania', 'percentage': 4.2},\n",
    "    {'label': 'South, Central America and Carribbean', 'percentage': 30.9},\n",
    "    {'label': 'Africa', 'percentage': 32.3}\n",
    ")\n",
    "\n",
    "# add totals to SFFpercent\n",
    "for key, val in data_dict.items():\n",
    "    for k, v in data_dict[key].items():\n",
    "        for i in SSFpercent:\n",
    "            #  print(\"i = {}, k = {}\".format(i, k))\n",
    "            if i['label'] == k:\n",
    "                if 'total' in i.keys():\n",
    "                    i['total'] += v\n",
    "                else:\n",
    "                    i['total'] = v\n",
    "\n",
    "# make plot (also called subplot)\n",
    "ax = data[['LSF subsidies','SSF subsidies']].plot(kind='bar', figsize=(15,10),stacked=True, legend=True, fontsize=18, color=[\"darkgray\",\"darkslategrey\"] )\n",
    "ax.set_title(\"Global fisheries subsidies by Region (2009)\", fontsize=18)\n",
    "ax.set_ylabel(\"USD in milions\",fontsize=18)\n",
    "ax.yaxis.labelpad = 20\n",
    "ax.set_xlabel(\"\",fontsize=18)\n",
    "ax.set_xticklabels(['Asia', 'Europe','N America','Oceania','S + C America,Carribbean', 'Africa'],rotation=80, fontsize=18)\n",
    "ax.set_axis_bgcolor('0.96')\n",
    "plt.legend(loc='best',fontsize=18)\n",
    "\n",
    "\n",
    "# get an ordered list of percentages\n",
    "percentages = []\n",
    "for item in SSFpercent:\n",
    "    for k, v in item.items():\n",
    "        if k == 'percentage':\n",
    "            percentages.append(v)\n",
    "            \n",
    "# prepare rects (rectangles)\n",
    "N = len(SSFpercent)\n",
    "indexes = np.arange(N)\n",
    "width = 0.02\n",
    "rects = ax.bar(indexes, percentages, width)\n",
    "\n",
    "# iterate rects and map index with SSF percentage\n",
    "for index, rect in enumerate(rects):\n",
    "    SSFpercent[index]['rect_x'] = rect.get_x() \n",
    "\n",
    "    # now we have a single object holding \n",
    "# all the values we need to label the chart \n",
    "for bar in SSFpercent:\n",
    "    #print bar\n",
    "    #  get percentage label as a string\n",
    "    percentage = bar['percentage']\n",
    "    #  get value of to of bar\n",
    "    height = bar['total']\n",
    "    label_position = height - ((height / 100 * percentage))\n",
    "    #  position text lables\n",
    "    ax.text(\n",
    "        bar['rect_x'] + width/2,\n",
    "        label_position  + 1**5, str(percentage) + '%',\n",
    "        ha=\"center\",\n",
    "        family=\"monospace\",\n",
    "        fontsize=18,\n",
    "        fontweight=\"bold\",\n",
    "        color=\"black\"\n",
    "    )\n",
    "\n",
    "    \n",
    "\n",
    "\n",
    "plt.show()"
   ]
  },
  {
   "cell_type": "code",
   "execution_count": null,
   "metadata": {
    "collapsed": false
   },
   "outputs": [],
   "source": [
    "ax = data[['LSF subsidies','SSF subsidies']].plot(kind='bar', figsize=(15,10),stacked=True, legend=True, fontsize=18, color=[\"darkgray\",\"darkslategrey\"] )\n",
    "ax.set_title(\"Global fisheries subsidies by Region (2009)\", fontsize=18)\n",
    "ax.set_ylabel(\"USD in milions\",fontsize=18)\n",
    "ax.yaxis.labelpad = 20\n",
    "ax.set_xlabel(\"\",fontsize=18)\n",
    "ax.set_xticklabels(['Asia', 'Europe','N America','Oceania','S + C America,Carribbean', 'Africa'],rotation=80, fontsize=18)\n",
    "ax.set_axis_bgcolor('0.96')\n",
    "plt.legend(loc='best',fontsize=18)\n",
    "\n",
    "plt.savefig('Subsidies_Region.svg', dpi=400, bbox_inches='tight')\n",
    "plt.savefig('Subsidies_Region.pdf', dpi=400, bbox_inches='tight')\n",
    "plt.show()"
   ]
  },
  {
   "cell_type": "code",
   "execution_count": null,
   "metadata": {
    "collapsed": false
   },
   "outputs": [],
   "source": [
    "Subsidies_per_developed = SSF_subsidies_estimates_assessed.groupby(['Developed']).sum()\n",
    "Subsidies_per_developed"
   ]
  },
  {
   "cell_type": "code",
   "execution_count": null,
   "metadata": {
    "collapsed": false
   },
   "outputs": [],
   "source": [
    "Subsidies_per_developed['SSF_percent'] = Subsidies_per_developed['SSF subsidies']/Subsidies_per_developed['total_subsidies']*100\n",
    "Subsidies_per_developed['SSF_percent']"
   ]
  },
  {
   "cell_type": "code",
   "execution_count": null,
   "metadata": {
    "collapsed": false
   },
   "outputs": [],
   "source": [
    "Subsidies_developed_category = SSF_subsidies_estimates_assessed.groupby(['Developed','Category']).sum()\n",
    "Subsidies_developed_category['SSF_percent'] = Subsidies_developed_category['SSF subsidies']/Subsidies_developed_category['total_subsidies']*100\n",
    "Subsidies_developed_category['SSF_percent']"
   ]
  },
  {
   "cell_type": "code",
   "execution_count": null,
   "metadata": {
    "collapsed": false
   },
   "outputs": [],
   "source": [
    "ax = Subsidies_developed_category[['LSF subsidies','SSF subsidies']].plot(kind='bar', figsize=(15,10),stacked=True, legend=True, fontsize=18, color=[\"darkgray\",\"darkslategrey\"] )\n",
    "ax.set_title(\"Global fisheries subsidies by developed and developing nations (2009)\", fontsize=18)\n",
    "ax.set_ylabel(\"USD in 1000\",fontsize=18)\n",
    "ax.yaxis.labelpad = 20\n",
    "ax.set_xlabel(\"\",fontsize=18)\n",
    "\n",
    "ax.set_axis_bgcolor('0.96')\n",
    "plt.legend(loc='best',fontsize=18)\n",
    "plt.savefig('Subsidies_developed_category.svg', dpi=400, bbox_inches='tight')\n",
    "plt.savefig('Subsidies_developed_category.pdf', dpi=400, bbox_inches='tight')\n",
    "\n",
    "plt.show()"
   ]
  },
  {
   "cell_type": "code",
   "execution_count": null,
   "metadata": {
    "collapsed": false
   },
   "outputs": [],
   "source": [
    "Subsidies_developed_category"
   ]
  },
  {
   "cell_type": "code",
   "execution_count": null,
   "metadata": {
    "collapsed": false
   },
   "outputs": [],
   "source": [
    "Subsidies_per_Subregion = SSF_subsidies_estimates_assessed.groupby(['Subregion']).sum()\n",
    "print Subsidies_per_Subregion.loc[:,['total_subsidies']]"
   ]
  },
  {
   "cell_type": "code",
   "execution_count": null,
   "metadata": {
    "collapsed": false
   },
   "outputs": [],
   "source": [
    "Subregions_all = Subsidies_per_Subregion.loc[:,['total_subsidies', 'SSF subsidies','LSF subsidies']]\n",
    "\n",
    "Subregions_all_transposed = Subsidies_per_Subregion.loc[:,['SSF subsidies','LSF subsidies']].transpose()\n",
    "Subregions_all_transposed"
   ]
  },
  {
   "cell_type": "code",
   "execution_count": null,
   "metadata": {
    "collapsed": false
   },
   "outputs": [],
   "source": [
    "Australia = Subregions_all_transposed.loc[:,['Australia and New Zealand']]\n",
    "print Australia\n",
    "ax = Australia.plot(kind='pie', subplots=True, legend=False, figsize=(5.6, 5.6))\n",
    "plt.savefig('Australia and NewZealand', dpi=400, bbox_inches='tight')"
   ]
  },
  {
   "cell_type": "code",
   "execution_count": null,
   "metadata": {
    "collapsed": false
   },
   "outputs": [],
   "source": [
    "Caribbean = Subregions_all_transposed.loc[:,['Caribbean']]\n",
    "ax = Caribbean.plot(kind='pie', subplots=True, legend=False, figsize=(1.1, 1.1))\n",
    "plt.savefig('Caribbean', dpi=400, bbox_inches='tight')"
   ]
  },
  {
   "cell_type": "code",
   "execution_count": null,
   "metadata": {
    "collapsed": false
   },
   "outputs": [],
   "source": [
    "CentralAmerica = Subregions_all_transposed.loc[:,['Central America']]\n",
    "ax = CentralAmerica.plot(kind='pie', subplots=True, legend=False, label=False, figsize=(3.3, 3.3))\n",
    "plt.savefig('CentralAmerica', dpi=400, bbox_inches='tight')"
   ]
  },
  {
   "cell_type": "code",
   "execution_count": null,
   "metadata": {
    "collapsed": false
   },
   "outputs": [],
   "source": [
    "subregions_transposed = Subregions_all.loc[:,['SSF subsidies','LSF subsidies']].transpose()\n",
    "# how to make , color=[\"darkgray\",\"darkslategrey\"]?\n",
    "ax = subregions_transposed.plot(kind='pie', subplots=True, figsize=(250, 10,))\n",
    "\n",
    "plt.savefig('Subsidies_pie.svg', dpi=400, bbox_inches='tight')"
   ]
  },
  {
   "cell_type": "code",
   "execution_count": null,
   "metadata": {
    "collapsed": false
   },
   "outputs": [],
   "source": [
    "#  Subsidies_per_Subregion['total_size'] = Subsidies_per_Subregion['total_subsidies']/100000\n",
    "#  Subsidies_per_Subregion['total_size'] \n",
    "Subregions_all.to_csv('Subsidies_per_Subregion.csv')"
   ]
  },
  {
   "cell_type": "code",
   "execution_count": null,
   "metadata": {
    "collapsed": false
   },
   "outputs": [],
   "source": [
    "Europe = SSF_subsidies_estimates_assessed.pivot_table(['total_subsidies','SSF subsidies','LSF subsidies'], index=None, \n",
    "                                                      columns='EU member')"
   ]
  },
  {
   "cell_type": "code",
   "execution_count": null,
   "metadata": {
    "collapsed": false
   },
   "outputs": [],
   "source": [
    "Europe"
   ]
  },
  {
   "cell_type": "code",
   "execution_count": null,
   "metadata": {
    "collapsed": false
   },
   "outputs": [],
   "source": [
    "#  sorting and grouping data by biggest subsidysing nations to graph them\n",
    "\n",
    "Subsidies_countries = SSF_subsidies_estimates_assessed.groupby(['Countries']).sum()\n",
    "\n",
    "Subsidies_countries.sort_values(by=['total_subsidies'], ascending=False).reset_index()\n"
   ]
  },
  {
   "cell_type": "code",
   "execution_count": null,
   "metadata": {
    "collapsed": false
   },
   "outputs": [],
   "source": [
    "Subsidies_countries_major = Subsidies_countries.loc[['Japan','China','USA','Russian Fed','Micronesia','Spain','Korea Rep','Canada','Philippines', 'Viet Nam'],['total_subsidies','SSF subsidies','LSF subsidies']]\n",
    "\n",
    "Subsidies_countries_major['LSF subsidies'] = Subsidies_countries_major['LSF subsidies']/1000000\n",
    "Subsidies_countries_major['SSF subsidies'] = Subsidies_countries_major['SSF subsidies']/1000000\n",
    "Subsidies_countries_major['total_subsidies'] = Subsidies_countries_major['total_subsidies']/1000000\n"
   ]
  },
  {
   "cell_type": "code",
   "execution_count": null,
   "metadata": {
    "collapsed": false
   },
   "outputs": [],
   "source": [
    "Subsidies_countries_major\n",
    "ax = Subsidies_countries_major[['LSF subsidies','SSF subsidies']].plot(kind='bar', figsize=(15,10),stacked=True, legend=True, fontsize=18, color=[\"darkgray\",\"darkslategrey\"] )\n",
    "ax.set_title(\"Global fisheries subsidies by ten major subsidyzing nations (2009)\", fontsize=18)\n",
    "ax.set_ylabel(\"USD in billions\",fontsize=18)\n",
    "ax.yaxis.labelpad = 20\n",
    "ax.set_xlabel(\"\",fontsize=18)\n",
    "ax.set_xticklabels(['Japan','China','USA','Russian Fed','Micronesia','Spain','Korea Rep','Canada','Philippines', 'Viet Nam'],rotation=80, fontsize=18)\n",
    "ax.set_axis_bgcolor('0.96')\n",
    "plt.legend(loc='best',fontsize=18)\n",
    "\n",
    "plt.savefig('Subsidies_major.svg', dpi=400, bbox_inches='tight')\n",
    "plt.savefig('Subsidies_major.pdf', dpi=400, bbox_inches='tight')\n",
    "plt.show()"
   ]
  },
  {
   "cell_type": "code",
   "execution_count": null,
   "metadata": {
    "collapsed": false
   },
   "outputs": [],
   "source": [
    "Subsidies_countries_major['SSF percent'] = Subsidies_countries_major['SSF subsidies']/Subsidies_countries_major['total_subsidies']*100 "
   ]
  },
  {
   "cell_type": "code",
   "execution_count": null,
   "metadata": {
    "collapsed": false
   },
   "outputs": [],
   "source": [
    "Subsidies_countries_major['SSF percent'] "
   ]
  },
  {
   "cell_type": "code",
   "execution_count": null,
   "metadata": {
    "collapsed": false
   },
   "outputs": [],
   "source": [
    "#  work with SSF_subsidies\n",
    "#  organize data by data group which is 1,2 or 3 and have frequencies per subytype of all assessed subsidies data\n",
    "#  this includes 73 countries that have been assessed\n",
    "print SSF_subsidies.columns.values\n",
    "Data_group = pd.crosstab(SSF_subsidies.SubType, SSF_subsidies.Data_group)\n",
    "print Data_group.columns.values"
   ]
  },
  {
   "cell_type": "code",
   "execution_count": null,
   "metadata": {
    "collapsed": false
   },
   "outputs": [],
   "source": [
    "#  Data_group.plot(kind='bar', figsize=(15,10), stacked = True, fontsize=18, color=[\"black\",\"dimgray\", \"darkgray\"])"
   ]
  },
  {
   "cell_type": "code",
   "execution_count": null,
   "metadata": {
    "collapsed": true
   },
   "outputs": [],
   "source": []
  }
 ],
 "metadata": {
  "kernelspec": {
   "display_name": "Python 2",
   "language": "python",
   "name": "python2"
  },
  "language_info": {
   "codemirror_mode": {
    "name": "ipython",
    "version": 2
   },
   "file_extension": ".py",
   "mimetype": "text/x-python",
   "name": "python",
   "nbconvert_exporter": "python",
   "pygments_lexer": "ipython2",
   "version": "2.7.6"
  }
 },
 "nbformat": 4,
 "nbformat_minor": 0
}
