{
 "cells": [
  {
   "cell_type": "code",
   "execution_count": 137,
   "metadata": {
    "collapsed": false
   },
   "outputs": [
    {
     "data": {
      "text/plain": [
       "u'0.17.1'"
      ]
     },
     "execution_count": 137,
     "metadata": {},
     "output_type": "execute_result"
    }
   ],
   "source": [
    "import pandas as pd\n",
    "\n",
    "import matplotlib.pyplot as plt\n",
    "\n",
    "import matplotlib as mpl\n",
    "\n",
    "import numpy as np\n",
    "\n",
    "%matplotlib inline\n",
    "\n",
    "plt.style.use('ggplot')\n",
    "\n",
    "pd.set_option('precision',3)\n",
    "\n",
    "from IPython.display import display, HTML\n",
    "\n",
    "pd.__version__"
   ]
  },
  {
   "cell_type": "code",
   "execution_count": 138,
   "metadata": {
    "collapsed": false
   },
   "outputs": [],
   "source": [
    "SSF_subsidies = pd.read_csv(\"SSF_subsidies.csv\")\n",
    "countries = pd.read_csv(\"Country_Data.csv\")\n",
    "catch = pd.read_csv(\"SAU_Catches.csv\")\n",
    "type_EEZ = pd.read_csv(\"Subtype_Fleet_EEZ.csv\")\n",
    "all_subsidies = pd.read_csv(\"Subsidies2009.csv\")"
   ]
  },
  {
   "cell_type": "code",
   "execution_count": null,
   "metadata": {
    "collapsed": false
   },
   "outputs": [
    {
     "name": "stdout",
     "output_type": "stream",
     "text": [
      "['ID' 'Cnumber' 'RegionID' 'RegionName' 'Type' 'SubType' 'Category'\n",
      " 'total_subsidies' 'NewData' 'Developed' 'HDI_2005' 'Countries'\n",
      " 'SSFsubsidies_assessed_percent' 'weighted_by_sectorsize' 'Data_group'\n",
      " 'SSF_totalCatch_EEZ_percent' '%SSF_totalCatch_Country' 'SSF_USD_1000'\n",
      " 'Comment' 'DocSource' 'SourceVisitDate' 'Ref' 'URL' 'User' 'OldComment']\n"
     ]
    }
   ],
   "source": [
    "print SSF_subsidies.columns.values\n",
    "countries_assessed = SSF_subsidies.groupby(['RegionName','Countries']).sum()\n",
    "countries_assessed = countries_assessed.loc[:,['total_subsidies']]\n",
    "countries_assessed.to_csv('countries_assessed.csv')"
   ]
  },
  {
   "cell_type": "code",
   "execution_count": null,
   "metadata": {
    "collapsed": false
   },
   "outputs": [],
   "source": [
    "catch.groupby(['EEZ']).sum()"
   ]
  },
  {
   "cell_type": "code",
   "execution_count": null,
   "metadata": {
    "collapsed": false
   },
   "outputs": [],
   "source": [
    "type_EEZ"
   ]
  },
  {
   "cell_type": "code",
   "execution_count": null,
   "metadata": {
    "collapsed": false
   },
   "outputs": [],
   "source": [
    "\n",
    "print SSF_subsidies.columns.values\n",
    "Appendix1 = SSF_subsidies.loc[:,['Countries','SubType','SSF_USD_1000','Data_group']]\n",
    "Appendix1.to_csv('Appendix1.csv')"
   ]
  },
  {
   "cell_type": "code",
   "execution_count": null,
   "metadata": {
    "collapsed": true
   },
   "outputs": [],
   "source": [
    "\n",
    "\n",
    "SSF_subsidies['SSF_subsidies_percent'] = SSF_subsidies['SSF_USD_1000']/SSF_subsidies['total_subsidies']\n",
    "\n",
    "\n",
    "#  merge original all subsidies data with to align with subsidy \n",
    "#  type and whether the EEZ catch data or the FLeet catch data apply, \n",
    "#  see type_EEZ data, this is in preparation to later merge with SAU_catch data \n",
    "\n",
    "subsidies_type = pd.merge(\n",
    "    left=all_subsidies,\n",
    "    right=type_EEZ,\n",
    "    how='left'\n",
    ")\n",
    "\n",
    "\n",
    "#  now this needs to be merged with country data to have coordinates per country\n",
    "#  and have each country data point assigned to a subregion (thanks to Andres data)\n",
    "\n",
    "subsidies_type_countries = pd.merge(\n",
    "    left=subsidies_type,\n",
    "    right=countries,\n",
    "    how='left'\n",
    ")\n",
    "\n",
    "\n",
    "#  calculate SSF catch percent by dividing SSF catch / total catch\n",
    "\n",
    "catch['SSF_catch_percent']=catch['SSF_catch']/catch['total_catch']\n",
    "\n",
    "\n",
    "#  merge with SSF catch from SAU_catch data\n",
    "\n",
    "subsidies_type_countries_catch = pd.merge(\n",
    "    left=subsidies_type_countries,\n",
    "    right=catch, how='left'\n",
    ")\n",
    "\n",
    "#  calculating mean SSF catch per subregion, \n",
    "#  needed to use to fill gaps for SSF subsidies that have not been assessed\n",
    "\n",
    "catch_countries = pd.merge(\n",
    "    left=catch, \n",
    "    right=countries, \n",
    "    how='left'\n",
    ")"
   ]
  },
  {
   "cell_type": "code",
   "execution_count": null,
   "metadata": {
    "collapsed": true
   },
   "outputs": [],
   "source": [
    "\n",
    "catch_by_subregion = catch_countries.groupby(['Subregion']).sum()\n",
    "catch_by_subregion['SSF_subregion_catch'] = (\n",
    "    catch_by_subregion['SSF_catch']/catch_by_subregion['total_catch']\n",
    ")\n",
    "\n",
    "catch_by_subregion = catch_by_subregion.reset_index()\n",
    "\n",
    "SSF_subregion_catch = catch_by_subregion.loc[:,['Subregion','SSF_subregion_catch']]\n",
    "\n",
    "\n",
    "\n",
    "#  merging mean catch with all subsidies data\n",
    "subsidies_type_countries_catch_meancatch = pd.merge(\n",
    "    left=subsidies_type_countries_catch,right=SSF_subregion_catch, how='left'\n",
    ") \n",
    "\n",
    "#  preparing SSF subsidies by merging with country data\n",
    "SSF_subsidies_countries = pd.merge(\n",
    "    left=SSF_subsidies,right=countries, how='left')\n",
    "\n",
    "#  from SSF subsidies assessed calculate mean per subregion and per type \n",
    "#  to fill gaps of countries that have not been assessed\n",
    "SSF_by_subregion = SSF_subsidies_countries.groupby(\n",
    "    ['Subregion','Type']).sum(\n",
    ")\n",
    "\n",
    "\n",
    "SSF_by_subregion['SSF_subsidies_subregion'] = (\n",
    "    SSF_by_subregion['SSF_USD_1000']/SSF_by_subregion['total_subsidies']\n",
    ")\n",
    "SSF_by_subregion = SSF_by_subregion.reset_index()\n",
    "SSF_subsidies_subregion = SSF_by_subregion.loc[:,['Subregion','Type','SSF_subsidies_subregion']]\n"
   ]
  },
  {
   "cell_type": "code",
   "execution_count": null,
   "metadata": {
    "collapsed": false
   },
   "outputs": [],
   "source": [
    "\n",
    "#  as not all subsidies types are covered by countries assessed, \n",
    "#  mean values for region are being calculated to replace the empty cells\n",
    "SSF_by_region = SSF_subsidies_countries.groupby(\n",
    "    ['RegionName','Type']).sum(\n",
    ")\n",
    "SSF_by_region['SSF_subsidies_region'] = (\n",
    "    SSF_by_region['SSF_USD_1000']/SSF_by_region['total_subsidies']\n",
    ")\n",
    "SSF_by_region = SSF_by_region.reset_index()\n",
    "SSF_subsidies_region = SSF_by_region.loc[\n",
    "    :,['RegionName','Type','SSF_subsidies_region']\n",
    "]\n",
    "\n",
    "#  merge mean subsidies by type and subregion to all subsidies data\n",
    "catch_subsidies_subregion = pd.merge(\n",
    "    left=subsidies_type_countries_catch_meancatch,right=SSF_subsidies_subregion, how='left'\n",
    ")\n",
    "\n",
    "\n",
    "#  merge mean subsidies by type and region to all subsidies data that now have included total subsidies per subregion\n",
    "catch_subsidies_subregion_region = pd.merge(\n",
    "    left=catch_subsidies_subregion,right=SSF_subsidies_region, how='left'\n",
    ")\n",
    "\n",
    "#  fill gaps from mean subsidies per subregion with mean subsidies per region and name new column ['subsidies_subregion_all']\n",
    "\n",
    "#  create new column and name ['SSF_subsidies_true] and state true for all values > 0 \n",
    "\n",
    "catch_subsidies_subregion_region['total_subsidies_true'] = np.where(\n",
    "    catch_subsidies_subregion_region['total_subsidies'] > 0, True, False\n",
    ")\n",
    "    \n",
    "def check_data(index=0):\n",
    "    df = catch_subsidies_subregion_region\n",
    "    print(\"ssf all: {}, total: {}\".format(df['total_subsidies_true'][index], df['total_subsidies'][index]))\n",
    "    \n",
    "check_data(1946)\n",
    "\n",
    "#  make a new column that states True for NaN in subsidies per subregion and name ['total_subregion_NaN']\n",
    "\n",
    "catch_subsidies_subregion_region['total_subregion_NaN'] = pd.isnull(catch_subsidies_subregion_region['SSF_subsidies_subregion'])\n",
    "\n",
    "\n",
    "def check_data(index=0):\n",
    "    print(\"ssf all: {}, total: {}\".format(catch_subsidies_subregion_region['SSF_subsidies_subregion'][index], catch_subsidies_subregion_region['total_subregion_NaN'][index]))\n",
    "    \n",
    "check_data(1946)\n",
    "\n"
   ]
  },
  {
   "cell_type": "code",
   "execution_count": null,
   "metadata": {
    "collapsed": false
   },
   "outputs": [],
   "source": [
    "#  create a new column that states True when ['total_subregion_NaN'] is True and ['SSF_subsidies_true] is True\n",
    "#  name new column ['total_subregion_all']\n",
    "#  this shows when True that there is a total subsidy for that category \n",
    "#  but no value from total subregion subsidy data and therefore we will replace with the total region value\n",
    "\n",
    "catch_subsidies_subregion_region['total_subregion_all'] = np.where((catch_subsidies_subregion_region['total_subsidies_true'] == True) & (catch_subsidies_subregion_region['total_subregion_NaN'] == True), True, False)\n",
    "\n",
    "\n",
    "def check_data(index=0):\n",
    "    print(\"ssf all: {0}, total: {1}, isNaN: {2}\".format(catch_subsidies_subregion_region['total_subregion_all'][index],catch_subsidies_subregion_region['total_subsidies_true'][index], catch_subsidies_subregion_region['total_subregion_NaN'][index]))\n",
    "\n",
    "check_data(1056)"
   ]
  },
  {
   "cell_type": "code",
   "execution_count": null,
   "metadata": {
    "collapsed": false
   },
   "outputs": [],
   "source": [
    "#  create new column and name ['subsidies_subregion_all'] to use value from subregion or from region\n",
    "#  when ['total_subregion_all'] is true use region data when false use subregion data\n",
    "\n",
    "\n",
    "#  catch_subsidies_subregion_region['subsidies_subregion_all'] = \n",
    "#  np.where(catch_subsidies_subregion_region['total_subregion_all'] == True, \n",
    "#  catch_subsidies_subregion_region['SSF_subsidies_region'], \n",
    "#  catch_subsidies_subregion_region['SSF_subsidies_subregion'])\n",
    "\n",
    "\n",
    "catch_subsidies_subregion_region['subsidies_subregion_all'] = np.where(catch_subsidies_subregion_region['total_subregion_all'] == True, catch_subsidies_subregion_region['SSF_subsidies_region'], catch_subsidies_subregion_region['SSF_subsidies_subregion'])\n",
    "\n",
    "catch_subsidies_subregion_region\n",
    "\n",
    "def check_data(index=0):\n",
    "    print(\"ssf all: {0}, total: {1}, isNaN: {2}\".format(catch_subsidies_subregion_region['subsidies_subregion_all'][index],catch_subsidies_subregion_region['total_subregion_all'][index], catch_subsidies_subregion_region['SSF_subsidies_region'][index]))\n",
    "\n",
    "check_data(1146)"
   ]
  },
  {
   "cell_type": "code",
   "execution_count": null,
   "metadata": {
    "collapsed": false
   },
   "outputs": [],
   "source": [
    "np.sum(catch_subsidies_subregion_region['total_subsidies'])"
   ]
  },
  {
   "cell_type": "code",
   "execution_count": null,
   "metadata": {
    "collapsed": false
   },
   "outputs": [],
   "source": [
    "countries.columns.values"
   ]
  },
  {
   "cell_type": "code",
   "execution_count": null,
   "metadata": {
    "collapsed": false
   },
   "outputs": [],
   "source": [
    "#  to shorten the create dataframe, creat subsidies1 that only include at this point relevant columns\n",
    "\n",
    "subsidies1 = catch_subsidies_subregion_region.loc[:,['RegionName','Subregion','Countries','CLon', 'CLat','SIDS',\n",
    "       'TotPop', 'HDI', 'Developed', 'GDP', 'EU member', 'Category','SubType','Type','EEZ','total_catch', 'total_subsidies','SSF_catch_percent','SSF_subregion_catch','subsidies_subregion_all']]\n",
    "\n",
    "#  create a new column 'Factor' and calculate as adjustment value for total subsidies per subregion and total SSF catch per subregion \n",
    "#  used to fill gaps for country that have not been assessed, this is done per subsidy subtype also\n",
    "\n",
    "subsidies1['Factor'] = subsidies1['SSF_catch_percent']/subsidies1['SSF_subregion_catch']\n",
    "\n",
    "#  multiply the \"Factor\" value with the mean subsidy value per subregion\n",
    "#  to estimate the value for SSF subsidies per subsidy type for the countries that have not been assessed\n",
    "subsidies1['SSF_subsidies_estimates'] = subsidies1['Factor']*subsidies1['subsidies_subregion_all']\n",
    "\n",
    "\n",
    "#  to make sure none of the estimated values exceed 1 (100%) the SSF_subsidies_estimate will be capped at 1\n",
    "\n",
    "subsidies1['SSF_subsidies_estimates_big'] = subsidies1['SSF_subsidies_estimates'] > 1\n",
    "\n",
    "subsidies1['SSF_estimates_corrected'] = np.where(subsidies1['SSF_subsidies_estimates_big'] == True, 1, subsidies1['SSF_subsidies_estimates'])\n",
    "\n",
    "def check_data(index=0):\n",
    "    print(\"ssf_estimates: {0}, ssf_big: {1}, SSF_corrected: {2}\".format(subsidies1['SSF_subsidies_estimates'][index],subsidies1['SSF_subsidies_estimates_big'][index], subsidies1['SSF_estimates_corrected'][index]))\n",
    "\n",
    "check_data(1002)\n"
   ]
  },
  {
   "cell_type": "code",
   "execution_count": null,
   "metadata": {
    "collapsed": false
   },
   "outputs": [],
   "source": [
    "#  shorten SSF subsidy data, that contains originally assessed SSF subsidy values\n",
    "\n",
    "SSF_subsidies_short = SSF_subsidies_countries.loc[:,[\n",
    "        'Countries','Type','SSFsubsidies_assessed_percent','weighted_by_sectorsize',\n",
    "        'Data_group','SSF_USD_1000','SSF_subsidies_percent']\n",
    "                                                 ]\n",
    "\n",
    "\n",
    "#  merge estimated values for subsidies with SSF assessed subsidies data\n",
    "SSF_subsidies_estimates_assessed = pd.merge(\n",
    "    left=subsidies1,right=SSF_subsidies_short,how='left'\n",
    ")\n",
    "\n",
    "#  use fillna function to use estimated values for SSF subsidies to fill gaps of countries that have not been assessed\n",
    "SSF_subsidies_estimates_assessed['SSF_subsidies_percent_all'] = SSF_subsidies_estimates_assessed[\n",
    "    'SSF_subsidies_percent'].fillna(\n",
    "    SSF_subsidies_estimates_assessed['SSF_estimates_corrected']\n",
    ")\n",
    "\n",
    "#  calculate USD values for all SSF for all subtypes and countries form the estimated and assessed percentages\n",
    "SSF_subsidies_estimates_assessed['SSF_subsidies_USD'] = (\n",
    "    SSF_subsidies_estimates_assessed['total_subsidies']\n",
    ")*SSF_subsidies_estimates_assessed['SSF_subsidies_percent_all']\n",
    "\n",
    "#  rename column names to make it easy for visualization and graphs and calculate LSF subsidies\n",
    "\n",
    "SSF_subsidies_estimates_assessed = SSF_subsidies_estimates_assessed.rename(columns={'SSF_subsidies_USD':'SSF subsidies'})\n",
    "\n",
    "SSF_subsidies_estimates_assessed['LSF subsidies'] = SSF_subsidies_estimates_assessed['total_subsidies'] - SSF_subsidies_estimates_assessed['SSF subsidies']\n",
    "\n",
    "SSF_subsidies_estimates_assessed.to_csv('SSF_subsidies_all.csv')\n",
    "\n",
    "print np.sum(SSF_subsidies_estimates_assessed['SSF subsidies'])\n",
    "print np.sum(SSF_subsidies_estimates_assessed['total_subsidies'])\n",
    "print np.sum(SSF_subsidies_estimates_assessed['LSF subsidies'])\n",
    "\n",
    "subsidies1.to_csv('check_subsidies1.csv')\n"
   ]
  },
  {
   "cell_type": "code",
   "execution_count": null,
   "metadata": {
    "collapsed": false
   },
   "outputs": [],
   "source": [
    "\n",
    "SSFglobalpercent = np.sum(SSF_subsidies_estimates_assessed['SSF subsidies'])/np.sum(catch_subsidies_subregion_region['total_subsidies'])*100\n",
    "\n",
    "SSFglobalpercent"
   ]
  },
  {
   "cell_type": "code",
   "execution_count": null,
   "metadata": {
    "collapsed": false
   },
   "outputs": [],
   "source": [
    "\n",
    "#  prepare for plotting global subsidies per category\n",
    "\n",
    "Subsidies_per_Category = SSF_subsidies_estimates_assessed.groupby(['Category']).sum()\n",
    "\n",
    "Subsidies_per_Category['SSF percent'] = Subsidies_per_Category['SSF subsidies']/Subsidies_per_Category['total_subsidies']*100\n",
    "print Subsidies_per_Category['SSF percent']\n",
    "Subsidies_per_Category_short = Subsidies_per_Category.loc[:,['LSF subsidies', 'SSF subsidies','total_subsidies']]\n",
    "print Subsidies_per_Category['SSF subsidies']/1000000\n",
    "print Subsidies_per_Category['LSF subsidies']/1000000\n",
    "Subsidies_per_Category['LSF percent'] = Subsidies_per_Category['LSF subsidies']/Subsidies_per_Category['total_subsidies']*100\n",
    "print Subsidies_per_Category['total_subsidies']/1000000\n",
    "Subsidies_per_Category_short = Subsidies_per_Category_short.reindex(index=['Beneficial','Capacity-enhancing','Ambiguous'])\n",
    "\n",
    "Subsidies_per_Category_short['check'] = Subsidies_per_Category_short['LSF subsidies'] + Subsidies_per_Category_short['SSF subsidies']\n",
    "np.sum(Subsidies_per_Category_short['SSF subsidies'])\n",
    "\n",
    "\n"
   ]
  },
  {
   "cell_type": "code",
   "execution_count": null,
   "metadata": {
    "collapsed": false
   },
   "outputs": [],
   "source": [
    "\n",
    "Total = Subsidies_per_Category_short.sum()\n",
    "Total.name = 'Total'\n",
    "Subsidies_per_Category_sum = Subsidies_per_Category_short.append(Total)\n",
    "print Subsidies_per_Category_sum\n",
    "print Subsidies_per_Category_sum['SSF subsidies']\n",
    "\n",
    "print Subsidies_per_Category_sum['LSF subsidies']\n",
    "print Subsidies_per_Category_sum['LSF subsidies'] / Subsidies_per_Category_sum['total_subsidies'] *100\n",
    "print Subsidies_per_Category_sum['total_subsidies']"
   ]
  },
  {
   "cell_type": "code",
   "execution_count": null,
   "metadata": {
    "collapsed": false
   },
   "outputs": [],
   "source": [
    "#  Subsidies_per_Category_sum.append(Subsidies_per_Category_sum[2]/Subsidies_per_Category_sum[3])"
   ]
  },
  {
   "cell_type": "code",
   "execution_count": null,
   "metadata": {
    "collapsed": false
   },
   "outputs": [],
   "source": [
    "\n",
    "\n",
    "data = Subsidies_per_Category_short[['LSF subsidies','SSF subsidies']]\n",
    "data_dict = data.to_dict()\n",
    "\n",
    "\n",
    "# these percentages are the SSF percent out of the total subsidie calculated in Subsidies_per_Category['SSF percent']\n",
    "SSFpercent = (\n",
    "    {'label': 'Beneficial', 'percentage': 24.3}, \n",
    "    {'label': 'Capacity-enhancing', 'percentage': 10.6},\n",
    "    {'label': 'Ambiguous', 'percentage': 14.8}\n",
    ")\n",
    "\n",
    "# add totals to SFFpercent\n",
    "for key, val in data_dict.items():\n",
    "    for k, v in data_dict[key].items():\n",
    "        for i in SSFpercent:\n",
    "            if i['label'] == k:\n",
    "                if 'total' in i.keys():\n",
    "                    i['total'] += v\n",
    "                else:\n",
    "                    i['total'] = v\n",
    "\n",
    "# print(\"data_dict {}\".format(data_dict))\n",
    "\n",
    "\n",
    "# create subplot\n",
    "ax = data.plot(kind='bar', figsize=(15,10),stacked=True, legend=True, fontsize=18, color=[\"darkgray\",\"darkslategrey\"])\n",
    "ax.set_title(\"Global fisheries subsidies (2009)\", fontsize=18)\n",
    "ax.set_ylabel(\"USD x 10^10\",fontsize=22)\n",
    "ax.set_xlabel(\"\",fontsize=18)\n",
    "ax.set_xticklabels(['Beneficial','Capacity-enhancing','Ambiguous'],rotation=360, fontsize=18)\n",
    "ax.set_axis_bgcolor('0.96')\n",
    "ax.yaxis.labelpad = 20\n",
    "\n",
    "# get an ordered list of percentages\n",
    "percentages = []\n",
    "for item in SSFpercent:\n",
    "    for k, v in item.items():\n",
    "        if k == 'percentage':\n",
    "            percentages.append(v)\n",
    "\n",
    "# prepare rects\n",
    "N = len(SSFpercent)\n",
    "indexes = np.arange(N)\n",
    "width = 0.02\n",
    "rects = ax.bar(indexes, percentages, width)\n",
    "\n",
    "# iterate rects and map index with SSF percentage\n",
    "for index, rect in enumerate(rects):\n",
    "    SSFpercent[index]['rect_x'] = rect.get_x() \n",
    "\n",
    "\n",
    "# now we have a single object holding \n",
    "# all the values we need to label the chart \n",
    "for bar in SSFpercent:\n",
    "    #  get percenatage label as a string\n",
    "    percentage = bar['percentage']\n",
    "    #  get value of to of bar\n",
    "    height = bar['total']\n",
    "    label_position = height - ((height / 100 * percentage) / 2)\n",
    "    #  position text lables\n",
    "    ax.text(\n",
    "        bar['rect_x'] + width/2,\n",
    "        label_position  - 12.4**5, str(percentage) + '%',\n",
    "        ha=\"center\",\n",
    "        family=\"monospace\",\n",
    "        fontsize=16,\n",
    "        fontweight=\"bold\",\n",
    "        color=\"white\"\n",
    "    )\n",
    "\n",
    "\n",
    "plt.savefig('Subsidies_Category.svg', dpi=400, bbox_inches='tight')\n",
    "plt.savefig('Subsidies_Category.pdf', dpi=400, bbox_inches='tight')\n",
    "plt.legend(loc=2,fontsize=18)\n",
    "plt.show()"
   ]
  },
  {
   "cell_type": "code",
   "execution_count": null,
   "metadata": {
    "collapsed": false
   },
   "outputs": [],
   "source": [
    "SSF_subsidies_estimates_assessed.columns.values"
   ]
  },
  {
   "cell_type": "code",
   "execution_count": null,
   "metadata": {
    "collapsed": false
   },
   "outputs": [],
   "source": [
    "SSF_subsidies_estimates_assessed.replace(to_replace='Developed', value=1)\n",
    "SSF = SSF_subsidies_estimates_assessed.loc[[330],['Developed']]\n",
    "SSF"
   ]
  },
  {
   "cell_type": "code",
   "execution_count": null,
   "metadata": {
    "collapsed": false
   },
   "outputs": [],
   "source": [
    "Subsidies_per_subtype = SSF_subsidies_estimates_assessed.groupby(['SubType']).sum()\n",
    "Subsidies_per_subtype = Subsidies_per_subtype.sort_values(by=['total_subsidies'],ascending=False)\n",
    "\n",
    "Subsidies_per_subtype['SSF percent'] = Subsidies_per_subtype['SSF subsidies']/Subsidies_per_subtype['total_subsidies']*100\n",
    "Subsidies_per_subtype_billions = Subsidies_per_subtype.loc[:,['LSF subsidies','SSF subsidies','SSF percent']]\n",
    "Subsidies_per_subtype_billions['LSF subsidies'] = Subsidies_per_subtype_billions['LSF subsidies']/1000000\n",
    "Subsidies_per_subtype_billions['SSF subsidies'] = Subsidies_per_subtype_billions['SSF subsidies']/1000000\n",
    "print Subsidies_per_subtype_billions\n"
   ]
  },
  {
   "cell_type": "code",
   "execution_count": null,
   "metadata": {
    "collapsed": false
   },
   "outputs": [],
   "source": [
    " Subsidies_per_subtype['total_subsidies']/35371111.003*100"
   ]
  },
  {
   "cell_type": "code",
   "execution_count": null,
   "metadata": {
    "collapsed": false
   },
   "outputs": [],
   "source": [
    "ax = Subsidies_per_subtype_billions[['LSF subsidies','SSF subsidies']].plot(kind='bar', figsize=(\n",
    "        15,10),stacked=True, legend=True, fontsize=18, color=[\"darkgray\",\"darkslategrey\"] \n",
    "                                                                           )\n",
    "ax.set_title(\"Global fisheries subsidies by Subtype (2009)\", fontsize=18)\n",
    "ax.set_ylabel(\"USD in billions\",fontsize=18)\n",
    "ax.yaxis.labelpad = 20\n",
    "ax.set_xlabel(\"Subtype\",fontsize=18)\n",
    "ax.set_xticklabels(['Fuel', 'Management','Port Develop','Boat construct','Research and Develop','Market and storage','Vessel buyback','Fisher assistance','MPAs','Tax exemption','Develop project','Fishing access','Rural fisher communities'],rotation=80, fontsize=18)\n",
    "ax.set_axis_bgcolor('0.96')\n",
    "plt.legend(loc='best',fontsize=18)\n",
    "plt.savefig('Subsidies_Subtype.svg', dpi=400, bbox_inches='tight')\n",
    "plt.savefig('Subsidies_Subtype.pdf', dpi=400, bbox_inches='tight')\n",
    "\n",
    "plt.show()"
   ]
  },
  {
   "cell_type": "code",
   "execution_count": null,
   "metadata": {
    "collapsed": false
   },
   "outputs": [],
   "source": [
    "Subtypes = Subsidies_per_subtype.loc[:,['SSF percent', 'SSF subsidies','total_subsidies']]\n",
    "Subtypes.to_csv('subtypes.csv')"
   ]
  },
  {
   "cell_type": "code",
   "execution_count": null,
   "metadata": {
    "collapsed": false
   },
   "outputs": [],
   "source": [
    "Developed_subtype = SSF_subsidies_estimates_assessed.groupby(['SubType','Developed']).sum()\n",
    "\n",
    "Developed_short = Developed_subtype.loc[:,['SSF subsidies']]\n",
    "Developed = Developed_short.reset_index()\n",
    "\n",
    "Developed_pivot = Developed.pivot_table(['SSF subsidies'], index=['SubType'], columns='Developed')\n",
    "\n",
    "Developed_grouped = Developed.groupby(['Developed','SubType']).sum()\n",
    "\n",
    "\n",
    "Developed_stacked = Developed_grouped.stack()\n",
    "Developed_stacked\n",
    "Developed_pivot.to_csv('Developed_pivot.csv')\n",
    "Developed_sorted = pd.read_csv('Developed_pivot_sorted.csv')\n",
    "Developed_sorted = Developed_sorted.rename(columns={'Developing':'Developing countries', 'Developed':'Developed countries'})\n",
    "print Developed_pivot\n",
    "#  Developed_pivot['Total'] = Developed_pivot['False'] + Developed_pivot['True']\n",
    "np.sum(Developed_pivot['SSF subsidies'])"
   ]
  },
  {
   "cell_type": "code",
   "execution_count": null,
   "metadata": {
    "collapsed": false
   },
   "outputs": [],
   "source": [
    "ax = Developed_sorted[['Developing countries','Developed countries']].plot(\n",
    "    kind='bar', figsize=(14,8),stacked=True, legend=True, fontsize=20, color=[\"darkgray\",\"darkslategrey\"]\n",
    ")\n",
    "            \n",
    "ax.set_title(\"Global small-scale fisheries subsidies\", fontsize=23)\n",
    "ax.set_titlepad = 100\n",
    "ax.set_ylabel(\"USD in billion\",fontsize=22)\n",
    "ax.yaxis.labelpad = 20\n",
    "ax.set_xlabel(\"\",fontsize=18)\n",
    "\n",
    "ax.set_xticklabels([\n",
    "        'Management','Port Develop','Research and Develop','Boat construct','Fisher assistance','Fuel','MPAs',\n",
    "        'Develop project','Market and storage','Tax exemption','Rural fisher communities','Vessel buyback','Fishing access'\n",
    "    ],rotation=80, fontsize=20\n",
    "                  )\n",
    "ax.set_axis_bgcolor('w')\n",
    "\n",
    "legend = plt.legend(loc=5,fontsize=20)\n",
    "legend.get_frame().set_facecolor('w')\n",
    "\n",
    "plt.savefig('Subsidies_Developed.svg', dpi=400, bbox_inches='tight')\n",
    "plt.savefig('Subsidies_Developed.pdf', dpi=400, bbox_inches='tight')\n",
    "\n",
    "plt.show()"
   ]
  },
  {
   "cell_type": "code",
   "execution_count": null,
   "metadata": {
    "collapsed": false
   },
   "outputs": [],
   "source": [
    "#  add another row to have a total value for developed and developing countries\n",
    "#  calculate percentage for both developed and devleoping per subtype\n",
    "Developed_sorted1 = Developed_sorted.append(Developed_sorted.sum(numeric_only=True), ignore_index=True)\n",
    "Developed_sorted1['total'] = Developed_sorted1['Developing countries'] + Developed_sorted1['Developed countries']\n",
    "Developed_sorted1['percent developed'] = Developed_sorted1['Developed countries'] / Developed_sorted1['total']*100\n",
    "Developed_sorted1['percent developing'] = Developed_sorted1['Developing countries'] / Developed_sorted1['total']*100\n",
    "\n",
    "Developed_sorted2 = Developed_sorted"
   ]
  },
  {
   "cell_type": "code",
   "execution_count": null,
   "metadata": {
    "collapsed": false
   },
   "outputs": [],
   "source": [
    "Developed_category = SSF_subsidies_estimates_assessed.groupby(['Category','Developed']).sum()\n",
    "\n",
    "DevelopedC_short = Developed_category.loc[:,['SSF subsidies']]\n",
    "\n",
    "print np.sum(DevelopedC_short['SSF subsidies'])\n",
    "\n",
    "DevelopedC_short['SSF subsidies'] = DevelopedC_short['SSF subsidies']/1000000\n",
    "\n",
    "DevelopedC = DevelopedC_short.unstack()\n",
    "DevelopedC = DevelopedC.reindex(index=['Beneficial','Capacity-enhancing','Ambiguous'])\n",
    "DevelopedC = DevelopedC.rename(columns={'SSF subsidies':'SSF'})\n",
    "DevelopedC = DevelopedC.rename(columns={False:'Developing', True:'Developed'})\n",
    "\n",
    "print DevelopedC\n",
    "\n",
    "\n",
    "DevelopedC.to_csv('Developed_Category.csv')\n",
    "\n",
    "#  DevelopedC_sorted = pd.read_csv('DevelopedC_pivot_sorted.csv')\n",
    "#  DevelopedC_sorted = DevelopedC_sorted.rename(columns={'Developing':'Developing countries', 'Developed':'Developed countries'})\n",
    "#  print Developed_pivot\n",
    "\n",
    "Developed_sum = np.sum(DevelopedC['SSF'])\n",
    "\n",
    "print Developed_sum\n",
    "\n",
    "print"
   ]
  },
  {
   "cell_type": "code",
   "execution_count": null,
   "metadata": {
    "collapsed": false
   },
   "outputs": [],
   "source": [
    "DevelopedC_total = Developed_category.loc[:,['total_subsidies']]\n",
    "print np.sum(DevelopedC_total['total_subsidies'])\n",
    "\n",
    "DevelopedC_total['total_subsidies'] = DevelopedC_total['total_subsidies']/1000000\n",
    "\n",
    "Developedtotal = DevelopedC_total.unstack()\n",
    "Developedtotal = Developedtotal.reindex(index=['Beneficial','Capacity-enhancing','Ambiguous'])\n",
    "Developedtotal = Developedtotal.rename(columns={'total_subsidies':'total'})\n",
    "Developedtotal = Developedtotal.rename(columns={False:'Developing', True:'Developed'})\n",
    "\n",
    "\n",
    "print Developedtotal\n",
    "print np.sum(Developedtotal['total'])"
   ]
  },
  {
   "cell_type": "code",
   "execution_count": null,
   "metadata": {
    "collapsed": false
   },
   "outputs": [],
   "source": [
    "ax = DevelopedC.plot(\n",
    "    kind='bar', figsize=(14,8),stacked=True, legend=[\n",
    "        'Developed','Developing'], fontsize=20, color=[\"darkgray\",\"darkslategrey\"]\n",
    "                    )\n",
    "            \n",
    "ax.set_title(\"Small-scale fisheries subsidies\", fontsize=23)\n",
    "ax.set_titlepad = 100\n",
    "ax.set_ylabel(\"USD in billion\",fontsize=22)\n",
    "ax.yaxis.labelpad = 20\n",
    "ax.set_xlabel(\"\",fontsize=18)\n",
    "\n",
    "ax.set_xticklabels(['Beneficial','Capacity-enhancing','Ambiguous'],rotation=0, fontsize=20)\n",
    "ax.set_axis_bgcolor('w')\n",
    "\n",
    "legend = plt.legend(['Developing','Developed'],loc='best',fontsize=20)\n",
    "legend.get_frame().set_facecolor('w')\n",
    "\n",
    "\n",
    "plt.savefig('Subsidies_DevelopedC.svg', dpi=400, bbox_inches='tight')\n",
    "plt.savefig('Subsidies_DevelopedC.pdf', dpi=400, bbox_inches='tight')\n",
    "\n",
    "plt.show()"
   ]
  },
  {
   "cell_type": "code",
   "execution_count": null,
   "metadata": {
    "collapsed": false
   },
   "outputs": [],
   "source": [
    "305.0/138.0"
   ]
  },
  {
   "cell_type": "code",
   "execution_count": null,
   "metadata": {
    "collapsed": false
   },
   "outputs": [],
   "source": [
    "SSF_subsidies_estimates_assessed.columns.values"
   ]
  },
  {
   "cell_type": "code",
   "execution_count": null,
   "metadata": {
    "collapsed": false
   },
   "outputs": [],
   "source": [
    "Subsidies_per_region = SSF_subsidies_estimates_assessed.groupby(['RegionName']).sum()\n",
    "Subsidies_per_region['LSF subsidies'] = Subsidies_per_region['LSF subsidies']/1000000\n",
    "Subsidies_per_region['SSF subsidies'] = Subsidies_per_region['SSF subsidies']/1000000\n",
    "Subsidies_per_region = Subsidies_per_region.sort_values(by=['total_subsidies'],ascending=False)\n",
    "Subsidies_per_region['SSF percent'] = (Subsidies_per_region['SSF subsidies']/(Subsidies_per_region['total_subsidies']/1000000)) *100\n",
    "print Subsidies_per_region['total_subsidies']\n",
    "print Subsidies_per_region['SSF percent'] \n",
    "print Subsidies_per_region['SSF subsidies']\n",
    "print Subsidies_per_region['SSF subsidies']/np.sum(Subsidies_per_region['SSF subsidies'])*100\n",
    "print Subsidies_per_region['LSF subsidies']/np.sum(Subsidies_per_region['LSF subsidies'])*100\n",
    "print Subsidies_per_region['total_subsidies']/np.sum(Subsidies_per_region['total_subsidies'])*100"
   ]
  },
  {
   "cell_type": "code",
   "execution_count": null,
   "metadata": {
    "collapsed": false
   },
   "outputs": [],
   "source": [
    "\n",
    "data = Subsidies_per_region[['LSF subsidies','SSF subsidies']]\n",
    "data_dict = data.to_dict()\n",
    "\n",
    "\n",
    "# these percentages are the SSF percent out of the total subsidies calculated in Subsidies_per_region['SSF percent']\n",
    "SSFpercent = (\n",
    "    {'label': 'Asia', 'percentage': 18.6}, \n",
    "    {'label': 'Europe', 'percentage': 7},\n",
    "    {'label': 'North America', 'percentage': 18.8},\n",
    "    {'label': 'Oceania', 'percentage': 4.2},\n",
    "    {'label': 'South, Central America and Carribbean', 'percentage': 30.9},\n",
    "    {'label': 'Africa', 'percentage': 32.3}\n",
    ")\n",
    "\n",
    "# add totals to SFFpercent\n",
    "for key, val in data_dict.items():\n",
    "    for k, v in data_dict[key].items():\n",
    "        for i in SSFpercent:\n",
    "            #  print(\"i = {}, k = {}\".format(i, k))\n",
    "            if i['label'] == k:\n",
    "                if 'total' in i.keys():\n",
    "                    i['total'] += v\n",
    "                else:\n",
    "                    i['total'] = v\n",
    "\n",
    "# make plot (also called subplot)\n",
    "ax = data[['LSF subsidies','SSF subsidies']].plot(kind='bar', figsize=(15,10),stacked=True, legend=True, fontsize=18, color=[\"darkgray\",\"darkslategrey\"] )\n",
    "ax.set_title(\"Global fisheries subsidies by Region (2009)\", fontsize=18)\n",
    "ax.set_ylabel(\"USD in milions\",fontsize=18)\n",
    "ax.yaxis.labelpad = 20\n",
    "ax.set_xlabel(\"\",fontsize=18)\n",
    "ax.set_xticklabels(['Asia', 'Europe','N America','Oceania','S + C America,Carribbean', 'Africa'],rotation=80, fontsize=18)\n",
    "ax.set_axis_bgcolor('0.96')\n",
    "plt.legend(loc='best',fontsize=18)\n",
    "\n",
    "\n",
    "# get an ordered list of percentages\n",
    "percentages = []\n",
    "for item in SSFpercent:\n",
    "    for k, v in item.items():\n",
    "        if k == 'percentage':\n",
    "            percentages.append(v)\n",
    "            \n",
    "# prepare rects (rectangles)\n",
    "N = len(SSFpercent)\n",
    "indexes = np.arange(N)\n",
    "width = 0.02\n",
    "rects = ax.bar(indexes, percentages, width)\n",
    "\n",
    "# iterate rects and map index with SSF percentage\n",
    "for index, rect in enumerate(rects):\n",
    "    SSFpercent[index]['rect_x'] = rect.get_x() \n",
    "\n",
    "    # now we have a single object holding \n",
    "# all the values we need to label the chart \n",
    "for bar in SSFpercent:\n",
    "    #print bar\n",
    "    #  get percentage label as a string\n",
    "    percentage = bar['percentage']\n",
    "    #  get value of to of bar\n",
    "    height = bar['total']\n",
    "    label_position = height - ((height / 100 * percentage))\n",
    "    #  position text lables\n",
    "    ax.text(\n",
    "        bar['rect_x'] + width/2,\n",
    "        label_position  + 1**5, str(percentage) + '%',\n",
    "        ha=\"center\",\n",
    "        family=\"monospace\",\n",
    "        fontsize=18,\n",
    "        fontweight=\"bold\",\n",
    "        color=\"black\"\n",
    "    )\n",
    "\n",
    "    \n",
    "\n",
    "\n",
    "plt.show()"
   ]
  },
  {
   "cell_type": "code",
   "execution_count": null,
   "metadata": {
    "collapsed": false
   },
   "outputs": [],
   "source": [
    "ax = data[['LSF subsidies','SSF subsidies']].plot(kind='bar', figsize=(15,10),stacked=True, legend=True, fontsize=18, color=[\"darkgray\",\"darkslategrey\"] )\n",
    "ax.set_title(\"Global fisheries subsidies by Region (2009)\", fontsize=18)\n",
    "ax.set_ylabel(\"USD in milions\",fontsize=18)\n",
    "ax.yaxis.labelpad = 20\n",
    "ax.set_xlabel(\"\",fontsize=18)\n",
    "ax.set_xticklabels(['Asia', 'Europe','N America','Oceania','S + C America,Carribbean', 'Africa'],rotation=80, fontsize=18)\n",
    "ax.set_axis_bgcolor('0.96')\n",
    "plt.legend(loc='best',fontsize=18)\n",
    "\n",
    "plt.savefig('Subsidies_Region.svg', dpi=400, bbox_inches='tight')\n",
    "plt.savefig('Subsidies_Region.pdf', dpi=400, bbox_inches='tight')\n",
    "plt.show()"
   ]
  },
  {
   "cell_type": "code",
   "execution_count": null,
   "metadata": {
    "collapsed": false
   },
   "outputs": [],
   "source": [
    "Subsidies_per_developed = SSF_subsidies_estimates_assessed.groupby(['Developed']).sum()\n",
    "Subsidies_per_developed"
   ]
  },
  {
   "cell_type": "code",
   "execution_count": null,
   "metadata": {
    "collapsed": false
   },
   "outputs": [],
   "source": [
    "Subsidies_per_developed['SSF_percent'] = Subsidies_per_developed['SSF subsidies']/Subsidies_per_developed['total_subsidies']*100\n",
    "Subsidies_per_developed['SSF_percent']"
   ]
  },
  {
   "cell_type": "code",
   "execution_count": null,
   "metadata": {
    "collapsed": false
   },
   "outputs": [],
   "source": [
    "Subsidies_developed_category = SSF_subsidies_estimates_assessed.groupby(['Developed','Category']).sum()\n",
    "Subsidies_developed_category['SSF_percent'] = Subsidies_developed_category['SSF subsidies']/Subsidies_developed_category['total_subsidies']*100\n",
    "Subsidies_developed_category['SSF_percent']"
   ]
  },
  {
   "cell_type": "code",
   "execution_count": null,
   "metadata": {
    "collapsed": false
   },
   "outputs": [],
   "source": [
    "Subsidies_per_Subregion = SSF_subsidies_estimates_assessed.groupby(['Subregion']).sum()\n",
    "#  print Subsidies_per_Subregion.loc[:,['total_subsidies']]"
   ]
  },
  {
   "cell_type": "code",
   "execution_count": null,
   "metadata": {
    "collapsed": false
   },
   "outputs": [],
   "source": [
    "Subregions_all = Subsidies_per_Subregion.loc[:,['total_subsidies', 'SSF subsidies','LSF subsidies']]\n",
    "\n",
    "Subregions_all_transposed = Subsidies_per_Subregion.loc[:,['SSF subsidies','LSF subsidies']].transpose()\n",
    "Subregions_all_transposed"
   ]
  },
  {
   "cell_type": "code",
   "execution_count": null,
   "metadata": {
    "collapsed": false
   },
   "outputs": [],
   "source": [
    "#  Subsidies_per_Subregion['total_size'] = Subsidies_per_Subregion['total_subsidies']/100000\n",
    "#  Subsidies_per_Subregion['total_size'] \n",
    "Subregions_all.to_csv('Subsidies_per_Subregion.csv')"
   ]
  },
  {
   "cell_type": "code",
   "execution_count": null,
   "metadata": {
    "collapsed": false
   },
   "outputs": [],
   "source": [
    "#  Europe = SSF_subsidies_estimates_assessed.pivot_table(['total_subsidies','SSF subsidies','LSF subsidies'], index=None, columns='EU member')\n",
    "Europe = SSF_subsidies_estimates_assessed.groupby(['EU member']).sum()\n",
    "Europe = Europe.loc[[1],['LSF subsidies','SSF subsidies','total_subsidies']]\n",
    "Europe['LSF subsidies'] = Europe['LSF subsidies']/1000000\n",
    "Europe['SSF subsidies'] = Europe['SSF subsidies']/1000000\n",
    "Europe['total_subsidies'] = Europe['total_subsidies']/1000000\n",
    "Europe = Europe.rename(index={True:'EU'})"
   ]
  },
  {
   "cell_type": "code",
   "execution_count": null,
   "metadata": {
    "collapsed": false
   },
   "outputs": [],
   "source": [
    "Europe"
   ]
  },
  {
   "cell_type": "code",
   "execution_count": null,
   "metadata": {
    "collapsed": false
   },
   "outputs": [],
   "source": [
    "#  sorting and grouping data by largest fishing nations and political entities to prepare for a graph\n",
    "\n",
    "Subsidies_countries = SSF_subsidies_estimates_assessed.groupby(['Countries']).sum()\n",
    "print Subsidies_countries.columns.values\n",
    "\n",
    "#  catch.groupby()\n",
    "Subsidies_countries_fishing = Subsidies_countries.loc[['Japan','China','USA','Russian Fed','Indonesia'],['LSF subsidies','SSF subsidies','total_subsidies']]\n",
    "\n",
    "Subsidies_countries_fishing['LSF subsidies'] = Subsidies_countries_fishing['LSF subsidies']/1000000\n",
    "Subsidies_countries_fishing['SSF subsidies'] = Subsidies_countries_fishing['SSF subsidies']/1000000\n",
    "Subsidies_countries_fishing['total_subsidies'] = Subsidies_countries_fishing['total_subsidies']/1000000\n",
    "\n",
    "Subsidies_fishing = pd.concat([Subsidies_countries_fishing, Europe])\n",
    "\n",
    "\n",
    "Subsidies_fishing = Subsidies_fishing.sort_values(by=['total_subsidies'], ascending = False)\n",
    "\n",
    "print Subsidies_fishing\n",
    "\n",
    "print np.sum(SSF_subsidies_estimates_assessed['LSF subsidies'])/1000000\n",
    "print np.sum(SSF_subsidies_estimates_assessed['total_subsidies'])/1000000\n",
    "print np.sum(SSF_subsidies_estimates_assessed['SSF subsidies'])/1000000\n",
    "\n",
    "\n",
    "#  Subsidies_fishing.reindex_set[['Japan','China','USA','Russia','Indonesia','EU']]\n",
    "#  Subsidies_countries = Subsidies_countries.sort_values(by=['total_subsidies'], ascending=False)"
   ]
  },
  {
   "cell_type": "code",
   "execution_count": null,
   "metadata": {
    "collapsed": false
   },
   "outputs": [],
   "source": [
    "Subsidies_fishing\n",
    "ax = Subsidies_fishing[['LSF subsidies','SSF subsidies']].plot(kind='bar', figsize=(15,10),stacked=True, legend=True, fontsize=20, color=[\"darkgray\",\"darkslategrey\"] )\n",
    "ax.set_title(\"Global fisheries subsidies by major fishing nations/political entities (2009)\", fontsize=20)\n",
    "ax.set_ylabel(\"USD in billions\",fontsize=20)\n",
    "ax.yaxis.labelpad = 20\n",
    "ax.set_xlabel(\"\",fontsize=20)\n",
    "ax.set_xticklabels(['EU', 'Japan', 'China','USA','Russia', 'Indonesia'],rotation=0, fontsize=18)\n",
    "ax.set_axis_bgcolor('w')\n",
    "\n",
    "legend = plt.legend(loc='best',fontsize=20)\n",
    "legend.get_frame().set_facecolor('w')\n",
    "\n",
    "\n",
    "plt.savefig('Subsidies_fishing.svg', dpi=400, bbox_inches='tight')\n",
    "plt.savefig('Subsidies_fishing.pdf', dpi=400, bbox_inches='tight')\n",
    "plt.show()"
   ]
  },
  {
   "cell_type": "code",
   "execution_count": null,
   "metadata": {
    "collapsed": false
   },
   "outputs": [],
   "source": [
    "print Subsidies_fishing\n",
    "\n",
    "print np.sum(SSF_subsidies_estimates_assessed['LSF subsidies'])/1000000\n",
    "totalsubsidies = np.sum(SSF_subsidies_estimates_assessed['total_subsidies'])/1000000\n",
    "print np.sum(SSF_subsidies_estimates_assessed['SSF subsidies'])/1000000\n",
    "\n",
    "Percent_of_totalSubsidies = (Subsidies_fishing['LSF subsidies'] + Subsidies_fishing['SSF subsidies'])/totalsubsidies*100\n",
    "SSFPercent = (Subsidies_fishing['SSF subsidies'] / Subsidies_fishing['total_subsidies'])*100\n",
    "#  print Percent_of_totalSubsidies\n",
    "#  print SSFPercent"
   ]
  },
  {
   "cell_type": "code",
   "execution_count": null,
   "metadata": {
    "collapsed": false
   },
   "outputs": [],
   "source": [
    "#  sorting and grouping data by biggest subsidysing nations to graph them\n",
    "\n",
    "Subsidies_countries_major = Subsidies_countries.loc[['Japan','China','USA','Russian Fed','Micronesia','Spain',\n",
    "    'Korea Rep','Canada','Philippines'],[\n",
    "    'total_subsidies','SSF subsidies','LSF subsidies']\n",
    "                                                   ]\n",
    "#  to present values in USD billions\n",
    "Subsidies_countries_major['LSF subsidies'] = Subsidies_countries_major['LSF subsidies']/1000000\n",
    "Subsidies_countries_major['SSF subsidies'] = Subsidies_countries_major['SSF subsidies']/1000000\n",
    "Subsidies_countries_major['total_subsidies'] = Subsidies_countries_major['total_subsidies']/1000000\n",
    "\n",
    "#  include EU into table\n",
    "Subsidies_major = pd.concat([Subsidies_countries_major, Europe])\n",
    "\n",
    "#  sorting values by largest subsidies\n",
    "Subsidies_major = Subsidies_major.sort_values(by=['total_subsidies'], ascending=False)\n",
    "\n",
    "totalSSFsubsidies = (np.sum(SSF_subsidies_estimates_assessed['SSF subsidies']))/1000000\n",
    "\n",
    "Subsidies_major_percent = (np.sum(Subsidies_major['total_subsidies'])/totalsubsidies)*100\n",
    "Subsidies_major_SSFpercent = (np.sum(Subsidies_major['SSF subsidies'])/totalSSFsubsidies)*100\n",
    "print np.sum(Subsidies_major['total_subsidies'])\n",
    "print totalsubsidies\n",
    "print Subsidies_major_percent\n",
    "print Subsidies_major_SSFpercent\n",
    "Subsidies_major"
   ]
  },
  {
   "cell_type": "code",
   "execution_count": null,
   "metadata": {
    "collapsed": false
   },
   "outputs": [],
   "source": [
    "Subsidies_major\n",
    "ax = Subsidies_major[['LSF subsidies','SSF subsidies']].plot(kind='bar', figsize=(15,10),stacked=True, legend=True, fontsize=20, color=[\"darkgray\",\"darkslategrey\"] )\n",
    "ax.set_title(\"Global fisheries subsidies major subsidyzing nations and the EU\", fontsize=20)\n",
    "ax.set_ylabel(\"USD in billions\",fontsize=20)\n",
    "ax.yaxis.labelpad = 20\n",
    "ax.set_xlabel(\"\",fontsize=20)\n",
    "ax.set_xticklabels(['EU','Japan','China','USA','Russia','Micronesia','Spain','Korea Rep','Canada','Philippines'],rotation=80, fontsize=20)\n",
    "\n",
    "ax.set_axis_bgcolor('w')\n",
    "\n",
    "legend = plt.legend(loc=5,fontsize=20)\n",
    "legend.get_frame().set_facecolor('w')\n",
    "\n",
    "plt.savefig('Subsidies_major.svg', dpi=400, bbox_inches='tight')\n",
    "plt.savefig('Subsidies_major.pdf', dpi=400, bbox_inches='tight')\n",
    "plt.show()"
   ]
  },
  {
   "cell_type": "code",
   "execution_count": null,
   "metadata": {
    "collapsed": false
   },
   "outputs": [],
   "source": [
    "Subsidies_countries_major['SSF percent'] = Subsidies_countries_major['SSF subsidies']/Subsidies_countries_major['total_subsidies']*100 "
   ]
  },
  {
   "cell_type": "code",
   "execution_count": null,
   "metadata": {
    "collapsed": false
   },
   "outputs": [],
   "source": [
    "Subsidies_countries_major.transpose()"
   ]
  },
  {
   "cell_type": "code",
   "execution_count": null,
   "metadata": {
    "collapsed": false
   },
   "outputs": [],
   "source": [
    "#  work with SSF_subsidies\n",
    "#  organize data by data group which is 1,2 or 3 and have frequencies per subytype of all assessed subsidies data\n",
    "#  this includes 73 countries that have been assessed\n",
    "print SSF_subsidies.columns.values\n",
    "Data_group = pd.crosstab(SSF_subsidies.SubType, SSF_subsidies.Data_group)\n",
    "print Data_group.columns.values\n",
    "Data_group = Data_group.reset_index()\n",
    "print Data_group\n",
    "#  making a new index for the columns to work with the new dataframe\n",
    "#  Data_group.set_index(['ID','SubType','one','two','three'], verify_integrity=False)"
   ]
  },
  {
   "cell_type": "code",
   "execution_count": null,
   "metadata": {
    "collapsed": false
   },
   "outputs": [],
   "source": [
    "Data_group_percentages = pd.crosstab(SSF_subsidies.SubType, SSF_subsidies.Data_group).apply(lambda r: r/r.sum(), axis=1)\n",
    "Data_group_percentages"
   ]
  },
  {
   "cell_type": "code",
   "execution_count": null,
   "metadata": {
    "collapsed": false
   },
   "outputs": [],
   "source": [
    "ax = Data_group_percentages.plot(kind='bar', figsize=(15,10), stacked = True, fontsize=18, color=[\"black\",\"dimgray\", \"darkgray\"])\n",
    "ax.set_title(\"Data groups of assessed small-scale fisheries subsidy information\", fontsize=18)\n",
    "ax.set_ylabel(\"Frequencies\",fontsize=18)\n",
    "ax.yaxis.labelpad = 20\n",
    "ax.set_axis_bgcolor('w')\n",
    "plt.legend(loc=1,fontsize=18)\n",
    "\n",
    "plt.savefig('Data_groups_percentages.svg', dpi=400, bbox_inches='tight')\n",
    "plt.savefig('Data_groups_percentages.pdf', dpi=400, bbox_inches='tight')\n",
    "plt.show()"
   ]
  },
  {
   "cell_type": "code",
   "execution_count": null,
   "metadata": {
    "collapsed": false
   },
   "outputs": [],
   "source": [
    "ax = Data_group.plot(kind='bar', figsize=(15,10), stacked = True, fontsize=18, color=[\"black\",\"dimgray\", \"darkgray\"])\n",
    "ax.set_title(\"Data groupd of assessed small-scale fisheries subsidy information\", fontsize=18)\n",
    "ax.set_ylabel(\"Frequencies\",fontsize=18)\n",
    "ax.yaxis.labelpad = 20\n",
    "ax.set_axis_bgcolor('w')\n",
    "plt.legend(loc='best',fontsize=18)\n",
    "\n",
    "plt.savefig('Data_groups.svg', dpi=400, bbox_inches='tight')\n",
    "plt.savefig('Data_groups.pdf', dpi=400, bbox_inches='tight')\n",
    "plt.show()\n",
    "\n"
   ]
  },
  {
   "cell_type": "code",
   "execution_count": null,
   "metadata": {
    "collapsed": false
   },
   "outputs": [],
   "source": [
    "\n",
    "Subsidies_Data_Table = SSF_subsidies_estimates_assessed.groupby(['Countries','SubType']).sum()\n",
    "print Subsidies_Data_Table.columns.values\n",
    "Appendix = Subsidies_Data_Table.loc[:,['SSF subsidies','LSF subsidies','Data_group','SSFsubsidies_assessed_percent']]"
   ]
  },
  {
   "cell_type": "code",
   "execution_count": null,
   "metadata": {
    "collapsed": true
   },
   "outputs": [],
   "source": [
    "Appendix2_fuel = pd.read_csv(\"SSF_subsidies_appendix_fuel.csv\")"
   ]
  },
  {
   "cell_type": "code",
   "execution_count": null,
   "metadata": {
    "collapsed": false
   },
   "outputs": [],
   "source": [
    "Appendix2 = pd.merge(left=all_subsidies, right=Appendix2_fuel, how='left')\n"
   ]
  },
  {
   "cell_type": "code",
   "execution_count": null,
   "metadata": {
    "collapsed": true
   },
   "outputs": [],
   "source": [
    "SSF_subsidies_estimates_assessed.to_csv('Appendix2.csv')"
   ]
  },
  {
   "cell_type": "code",
   "execution_count": null,
   "metadata": {
    "collapsed": true
   },
   "outputs": [],
   "source": []
  }
 ],
 "metadata": {
  "kernelspec": {
   "display_name": "Python 2",
   "language": "python",
   "name": "python2"
  },
  "language_info": {
   "codemirror_mode": {
    "name": "ipython",
    "version": 2
   },
   "file_extension": ".py",
   "mimetype": "text/x-python",
   "name": "python",
   "nbconvert_exporter": "python",
   "pygments_lexer": "ipython2",
   "version": "2.7.6"
  }
 },
 "nbformat": 4,
 "nbformat_minor": 0
}
